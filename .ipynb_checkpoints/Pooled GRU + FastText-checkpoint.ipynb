{
 "cells": [
  {
   "cell_type": "code",
   "execution_count": 1,
   "metadata": {},
   "outputs": [
    {
     "name": "stderr",
     "output_type": "stream",
     "text": [
      "D:\\Program Files\\Anaconda3\\lib\\site-packages\\h5py\\__init__.py:36: FutureWarning: Conversion of the second argument of issubdtype from `float` to `np.floating` is deprecated. In future, it will be treated as `np.float64 == np.dtype(float).type`.\n",
      "  from ._conv import register_converters as _register_converters\n",
      "Using TensorFlow backend.\n"
     ]
    }
   ],
   "source": [
    "import numpy as np\n",
    "np.random.seed(42)\n",
    "import pandas as pd\n",
    "\n",
    "from sklearn.model_selection import train_test_split\n",
    "from sklearn.metrics import roc_auc_score\n",
    "\n",
    "from keras.models import Model\n",
    "from keras.layers import Input, Dense, Embedding, SpatialDropout1D, concatenate\n",
    "from keras.layers import GRU, Bidirectional, GlobalAveragePooling1D, GlobalMaxPooling1D\n",
    "from keras.preprocessing import text, sequence\n",
    "from keras.callbacks import Callback\n",
    "\n",
    "# import warnings\n",
    "# warnings.filterwarnings('ignore')\n",
    "\n",
    "import os\n",
    "from os.path import join\n",
    "#os.environ['OMP_NUM_THREADS'] = '4'\n"
   ]
  },
  {
   "cell_type": "code",
   "execution_count": 2,
   "metadata": {},
   "outputs": [
    {
     "name": "stdout",
     "output_type": "stream",
     "text": [
      "X_train: (159571,)\n",
      "y_train: (159571, 6)\n",
      "X_test: (153164,)\n",
      "y_train: ['toxic', 'severe_toxic', 'obscene', 'threat', 'insult', 'identity_hate']\n"
     ]
    }
   ],
   "source": [
    "max_features = 30000\n",
    "maxlen = 100\n",
    "embed_size = 300\n",
    "\n",
    "path_wordvec = 'E://DM//NLP//WordVec'\n",
    "EMBEDDING_FILE = join(path_wordvec, 'crawl-300d-2M.vec')\n",
    "labels = [\"toxic\", \"severe_toxic\", \"obscene\", \"threat\", \"insult\", \"identity_hate\"]\n",
    "\n",
    "train = pd.read_csv('data/train.csv')\n",
    "test = pd.read_csv('data/test.csv')\n",
    "submission = pd.read_csv('data/sample_submission.csv')\n",
    "\n",
    "y_train = train[labels]\n",
    "X_train = train[\"comment_text\"].fillna(\"fillna\").values\n",
    "X_test = test[\"comment_text\"].fillna(\"fillna\").values\n",
    "\n",
    "print('X_train: ' + str(X_train.shape))\n",
    "print('y_train: ' + str(y_train.shape))\n",
    "print('X_test: ' + str(X_test.shape))\n",
    "print('y_train: ' + str(list(y_train.columns)))"
   ]
  },
  {
   "cell_type": "code",
   "execution_count": 3,
   "metadata": {},
   "outputs": [
    {
     "name": "stdout",
     "output_type": "stream",
     "text": [
      "length of X_train_seq:[47, 17, 42, 114, 13, 11, 8, 19, 84, 11]\n",
      "shape of X_train_pad: (159571, 100)\n"
     ]
    }
   ],
   "source": [
    "tokenizer = text.Tokenizer(num_words=max_features)\n",
    "tokenizer.fit_on_texts(list(X_train) + list(X_test))\n",
    "X_train_seq = tokenizer.texts_to_sequences(X_train)\n",
    "X_test_seq = tokenizer.texts_to_sequences(X_test)\n",
    "X_train_pad = sequence.pad_sequences(X_train_seq, maxlen=maxlen)\n",
    "X_test_pad = sequence.pad_sequences(X_test_seq, maxlen=maxlen)\n",
    "\n",
    "length_seq = [len(document) for document in X_train_seq[:10]]\n",
    "print('length of X_train_seq:' + str(length_seq))\n",
    "print('shape of X_train_pad: ' + str(X_train_pad.shape))"
   ]
  },
  {
   "cell_type": "code",
   "execution_count": 4,
   "metadata": {},
   "outputs": [
    {
     "name": "stdout",
     "output_type": "stream",
     "text": [
      "length of the index:2000000\n",
      "['wotthefark', 'News-Record', 'homewear', 'anti-alcohol', 'Avantlink', 'microbevel', '116.49', 'Budokai', 'Armorial', '2013Its', 'Wagemans', 'DOUGHERTY', 'gecko', 'oneironaut', 'Alanne', 'Lee.The', 'ItalyCASA', 'Armatage', 'DarkPhoenix', 'come.Before', 'PhoneTrans', 'DoYourData', 'Kentucky.This', 'NSLP', '13,602', '170.9', 'drought-resistant', 'aRNA', 'Scooptram', 'storic', 'Codan', 'Casanovas', '---In', '3313', '0.1-1', 'owned.', 'Satinder', 'SeminarThe', 'wildlife-dependent', 'Streckfuss', 'Dv', 'TradingFloor.com', 'atrium-style', 'Acidity', 'Strone', 'escribi', 'Bbut', 'pasternak', 'Anti-Patterns', 'Twoje', 'ECSB', 'TeB', 't,', 'EQNext', 'Geordan', 'Hyperbiotics', 'Art3', 'Terredora', 'C-124', '01-09-2014', 'Savours', 'Yaquinto', 'Wag.com', 'Kerang', 'rôle', 'entomophila', 'AMlife', 'Flexible', 'Rhodophyceae', 'Constitucion', 'info-dump', 'ervaar', 'ReplyDeletem', 'Leiningers', '83501', '03.11.2008', 'orby', 'J.r', 'trachelectomy', 'Chwang', 'Brugnato', 'caravanserai', 'over-conservative', 'S.17', 'Dver', 'guerlain', 'radio-tagged', 'Photokeratitis', 'takusan', 'cupping', 'portend', 'phylosophical', 'Bridgey', 'barenaked', 'recrafted', '03-16-2011', 'desense', 'NCWIT', 'manifestion', 'FonePad']\n"
     ]
    }
   ],
   "source": [
    "def get_coefs(word, *arr): return word, np.asarray(arr, dtype='float32')\n",
    "with open(EMBEDDING_FILE, encoding='UTF-8') as file:\n",
    "    lists = (line.rstrip().rsplit(' ') for line in file)\n",
    "    tuples = (get_coefs(*l) for l in lists if len(l)==301)\n",
    "    embeddings_index = dict(tuples)\n",
    "    \n",
    "print('length of the index:' + str(len(embeddings_index)))\n",
    "print((list(embeddings_index.keys())[:100]))"
   ]
  },
  {
   "cell_type": "code",
   "execution_count": 5,
   "metadata": {},
   "outputs": [
    {
     "name": "stdout",
     "output_type": "stream",
     "text": [
      "2000000\n",
      "394787\n",
      "30000\n",
      "(30000, 300)\n"
     ]
    }
   ],
   "source": [
    "word_index = tokenizer.word_index\n",
    "num_words = min(max_features, len(word_index))\n",
    "embedding_matrix = np.zeros((num_words, embed_size))\n",
    "print(len(embeddings_index))\n",
    "print(len(word_index))\n",
    "print(max_features)\n",
    "print(embedding_matrix.shape)"
   ]
  },
  {
   "cell_type": "code",
   "execution_count": 6,
   "metadata": {},
   "outputs": [
    {
     "name": "stdout",
     "output_type": "stream",
     "text": [
      "number of words that are not found in the embedding_vector: 2340\n"
     ]
    }
   ],
   "source": [
    "num_missed = 0\n",
    "for word, i in word_index.items():\n",
    "    if i >= max_features: continue\n",
    "    embedding_vector = embeddings_index.get(word)\n",
    "    if embedding_vector is not None: \n",
    "        # words not found in embedding index will be all-zeros.\n",
    "        embedding_matrix[i] = embedding_vector\n",
    "    else:\n",
    "        num_missed +=1\n",
    "print('number of words that are not found in the embedding_vector: ' + str(num_missed))"
   ]
  },
  {
   "cell_type": "code",
   "execution_count": 7,
   "metadata": {
    "scrolled": false
   },
   "outputs": [
    {
     "name": "stdout",
     "output_type": "stream",
     "text": [
      "__________________________________________________________________________________________________\n",
      "Layer (type)                    Output Shape         Param #     Connected to                     \n",
      "==================================================================================================\n",
      "input_1 (InputLayer)            (None, 100)          0                                            \n",
      "__________________________________________________________________________________________________\n",
      "embedding_1 (Embedding)         (None, 100, 300)     9000000     input_1[0][0]                    \n",
      "__________________________________________________________________________________________________\n",
      "spatial_dropout1d_1 (SpatialDro (None, 100, 300)     0           embedding_1[0][0]                \n",
      "__________________________________________________________________________________________________\n",
      "bidirectional_1 (Bidirectional) (None, 100, 160)     182880      spatial_dropout1d_1[0][0]        \n",
      "__________________________________________________________________________________________________\n",
      "global_average_pooling1d_1 (Glo (None, 160)          0           bidirectional_1[0][0]            \n",
      "__________________________________________________________________________________________________\n",
      "global_max_pooling1d_1 (GlobalM (None, 160)          0           bidirectional_1[0][0]            \n",
      "__________________________________________________________________________________________________\n",
      "concatenate_1 (Concatenate)     (None, 320)          0           global_average_pooling1d_1[0][0] \n",
      "                                                                 global_max_pooling1d_1[0][0]     \n",
      "__________________________________________________________________________________________________\n",
      "dense_1 (Dense)                 (None, 6)            1926        concatenate_1[0][0]              \n",
      "==================================================================================================\n",
      "Total params: 9,184,806\n",
      "Trainable params: 9,184,806\n",
      "Non-trainable params: 0\n",
      "__________________________________________________________________________________________________\n"
     ]
    }
   ],
   "source": [
    "class RocAucEvaluation(Callback):\n",
    "    def __init__(self, validation_data=(), interval=1):\n",
    "        super(Callback, self).__init__()\n",
    "\n",
    "        self.interval = interval\n",
    "        self.X_val, self.y_val = validation_data\n",
    "\n",
    "    def on_epoch_end(self, epoch, logs={}):\n",
    "        if epoch % self.interval == 0:\n",
    "            y_pred = self.model.predict(self.X_val, verbose=0)\n",
    "            score = roc_auc_score(self.y_val, y_pred)\n",
    "            print(\"\\n ROC-AUC - epoch: %d - score: %.6f \\n\" % (epoch+1, score))\n",
    "\n",
    "\n",
    "def GetModel():\n",
    "    inp = Input(shape=(maxlen, ))\n",
    "    x = Embedding(max_features, embed_size, weights=[embedding_matrix])(inp)\n",
    "    x = SpatialDropout1D(0.2)(x)\n",
    "    x = Bidirectional(GRU(80, return_sequences=True))(x)\n",
    "    avg_pool = GlobalAveragePooling1D()(x)\n",
    "    max_pool = GlobalMaxPooling1D()(x)\n",
    "    conc = concatenate([avg_pool, max_pool])\n",
    "    outp = Dense(6, activation=\"sigmoid\")(conc)\n",
    "    \n",
    "    model = Model(inputs=inp, outputs=outp)\n",
    "    model.compile(loss='binary_crossentropy',\n",
    "                  optimizer='adam',\n",
    "                  metrics=['accuracy'])\n",
    "\n",
    "    return model\n",
    "\n",
    "model = GetModel()\n",
    "model.summary()"
   ]
  },
  {
   "cell_type": "code",
   "execution_count": 12,
   "metadata": {},
   "outputs": [
    {
     "data": {
      "text/plain": [
       "(159571,)"
      ]
     },
     "execution_count": 12,
     "metadata": {},
     "output_type": "execute_result"
    }
   ],
   "source": [
    "X_train.shape"
   ]
  },
  {
   "cell_type": "code",
   "execution_count": 14,
   "metadata": {},
   "outputs": [
    {
     "name": "stderr",
     "output_type": "stream",
     "text": [
      "D:\\Program Files\\Anaconda3\\lib\\site-packages\\sklearn\\model_selection\\_split.py:2026: FutureWarning: From version 0.21, test_size will always complement train_size unless both are specified.\n",
      "  FutureWarning)\n"
     ]
    },
    {
     "name": "stdout",
     "output_type": "stream",
     "text": [
      "Train on 151592 samples, validate on 7979 samples\n",
      "Epoch 1/2\n",
      "151584/151592 [============================>.] - ETA: 0s - loss: 0.0428 - acc: 0.9838\n",
      " ROC-AUC - epoch: 1 - score: 0.986903 \n",
      "\n",
      "151592/151592 [==============================] - 2168s 14ms/step - loss: 0.0428 - acc: 0.9838 - val_loss: 0.0458 - val_acc: 0.9827\n",
      "Epoch 2/2\n",
      "151584/151592 [============================>.] - ETA: 0s - loss: 0.0358 - acc: 0.9860\n",
      " ROC-AUC - epoch: 2 - score: 0.987172 \n",
      "\n",
      "151592/151592 [==============================] - 2242s 15ms/step - loss: 0.0358 - acc: 0.9860 - val_loss: 0.0463 - val_acc: 0.9820\n"
     ]
    }
   ],
   "source": [
    "batch_size = 32\n",
    "epochs = 2\n",
    "\n",
    "X_tra, X_val, y_tra, y_val = train_test_split(X_train_pad, y_train, train_size=0.95, random_state=233)\n",
    "RocAuc = RocAucEvaluation(validation_data=(X_val, y_val), interval=1)\n",
    "\n",
    "hist = model.fit(X_tra, y_tra, batch_size=batch_size, epochs=epochs, validation_data=(X_val, y_val),\n",
    "                 callbacks=[RocAuc])\n",
    "\n",
    "\n",
    "\n"
   ]
  },
  {
   "cell_type": "code",
   "execution_count": 15,
   "metadata": {
    "collapsed": true
   },
   "outputs": [],
   "source": [
    "y_pred = model.predict(X_test_pad, batch_size=1024)\n",
    "submission[labels] = y_pred\n",
    "submission.to_csv('submission.csv', index=False)\n"
   ]
  },
  {
   "cell_type": "code",
   "execution_count": null,
   "metadata": {
    "collapsed": true
   },
   "outputs": [],
   "source": []
  }
 ],
 "metadata": {
  "anaconda-cloud": {},
  "kernelspec": {
   "display_name": "Python [conda env:Anaconda3]",
   "language": "python",
   "name": "conda-env-Anaconda3-py"
  },
  "language_info": {
   "codemirror_mode": {
    "name": "ipython",
    "version": 3
   },
   "file_extension": ".py",
   "mimetype": "text/x-python",
   "name": "python",
   "nbconvert_exporter": "python",
   "pygments_lexer": "ipython3",
   "version": "3.5.4"
  }
 },
 "nbformat": 4,
 "nbformat_minor": 1
}
