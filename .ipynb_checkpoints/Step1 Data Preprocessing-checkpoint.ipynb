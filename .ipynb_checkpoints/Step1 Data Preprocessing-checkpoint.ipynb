{
 "cells": [
  {
   "cell_type": "code",
   "execution_count": null,
   "metadata": {},
   "outputs": [],
   "source": []
  },
  {
   "cell_type": "code",
   "execution_count": 1,
   "metadata": {},
   "outputs": [],
   "source": [
    "import numpy as np\n",
    "import pandas as pd\n",
    "import re\n",
    "from os.path import join\n",
    "from tqdm import tqdm"
   ]
  },
  {
   "cell_type": "code",
   "execution_count": 2,
   "metadata": {},
   "outputs": [
    {
     "name": "stdout",
     "output_type": "stream",
     "text": [
      "X_train: (159571,)\n",
      "y_train: (159571, 6)\n",
      "X_test: (153164,)\n",
      "y_train: ['toxic', 'severe_toxic', 'obscene', 'threat', 'insult', 'identity_hate']\n"
     ]
    }
   ],
   "source": [
    "file_embedding_txt = join('E://DM//NLP//WordVec', 'glove.840B.300d.txt')\n",
    "file_embedding_pickle = join('E://DM//NLP//TMP_MEMORY', 'glove.840B.300d.pickle')\n",
    "labels = [\"toxic\", \"severe_toxic\", \"obscene\", \"threat\", \"insult\", \"identity_hate\"]\n",
    "\n",
    "train = pd.read_csv('data/train.csv')\n",
    "test = pd.read_csv('data/test.csv')\n",
    "train[\"comment_text\"].fillna(\"fillna\")\n",
    "test[\"comment_text\"].fillna(\"fillna\")\n",
    "X_train = train[\"comment_text\"].str.lower()\n",
    "X_test = test[\"comment_text\"].str.lower()\n",
    "y_train = train[labels]\n",
    "\n",
    "print('X_train: ' + str(X_train.shape))\n",
    "print('y_train: ' + str(y_train.shape))\n",
    "print('X_test: ' + str(X_test.shape))\n",
    "print('y_train: ' + str(list(y_train.columns)))"
   ]
  },
  {
   "cell_type": "code",
   "execution_count": 3,
   "metadata": {},
   "outputs": [
    {
     "name": "stderr",
     "output_type": "stream",
     "text": [
      "2196018it [04:47, 7628.04it/s] \n"
     ]
    }
   ],
   "source": [
    "def ReadWord2Vec():\n",
    "    embeddings_index = {}\n",
    "    with open(file_embedding_txt, encoding='utf8') as f:\n",
    "        for line in tqdm(f):\n",
    "            values = line.rstrip().rsplit(' ')\n",
    "            assert len(values)>=300\n",
    "            word = values[0]\n",
    "            coefs = np.asarray(values[1:], dtype='float32')\n",
    "            embeddings_index[word] = coefs\n",
    "    return embeddings_index\n",
    "embeddings_index = ReadWord2Vec()"
   ]
  },
  {
   "cell_type": "code",
   "execution_count": 4,
   "metadata": {},
   "outputs": [
    {
     "name": "stdout",
     "output_type": "stream",
     "text": [
      "0    explanation\\nwhy the edits made under my usern...\n",
      "1    d'aww! he matches this background colour i'm s...\n",
      "2    hey man, i'm really not trying to edit war. it...\n",
      "3    \"\\nmore\\ni can't make any real suggestions on ...\n",
      "4    you, sir, are my hero. any chance you remember...\n",
      "Name: comment_text, dtype: object\n",
      "<class 'pandas.core.series.Series'>\n",
      "312735\n",
      "explanation\n",
      "why the edits made under my username hardcore metallica fan were reverted? they weren't vandalisms, just closure on some gas after i voted at new york dolls fac. and please don't remove the template from the talk page since i'm retired now.89.205.38.27\n",
      "d'aww! he matches this background colour i'm seemingly stuck with. thanks.  (talk) 21:51, january 11, 2016 (utc)\n",
      "hey man, i'm really not trying to edit war. it's just that this guy is constantly removing relevant information and talking to me through edits instead of my talk page. he seems to care more about the formatting than the actual info.\n",
      "\"\n",
      "more\n",
      "i can't make any real suggestions on improvement - i wondered if the section statistics should be later on, or a subsection of \"\"types of accidents\"\"  -i think the references may need tidying so that they are all in the exact same format ie date format etc. i can do that later on, if no-one else does first - if you have any preferences for formatting style on references or want to do it yourself please let me know.\n",
      "\n",
      "there appears to be a backlog on articles for review so i guess there may be a delay until a reviewer turns up. it's listed in the relevant form eg wikipedia:good_article_nominations#transport  \"\n",
      "you, sir, are my hero. any chance you remember what page that's on?\n"
     ]
    }
   ],
   "source": [
    "# merge is the whole copus merged from training text and test text\n",
    "merge = pd.concat([X_train, X_test]).reset_index(drop=True)\n",
    "print(merge[:5])\n",
    "print(type(merge))\n",
    "print(len(merge))\n",
    "for i in range(5):\n",
    "    print(merge[i])"
   ]
  },
  {
   "cell_type": "markdown",
   "metadata": {},
   "source": [
    "#### get rid of '\\t \\n \\r'"
   ]
  },
  {
   "cell_type": "code",
   "execution_count": 5,
   "metadata": {},
   "outputs": [
    {
     "name": "stdout",
     "output_type": "stream",
     "text": [
      "0    explanation why the edits made under my userna...\n",
      "1    d'aww! he matches this background colour i'm s...\n",
      "2    hey man, i'm really not trying to edit war. it...\n",
      "3    \" more i can't make any real suggestions on im...\n",
      "4    you, sir, are my hero. any chance you remember...\n",
      "Name: comment_text, dtype: object\n"
     ]
    }
   ],
   "source": [
    "intab = '\\n\\t\\r'\n",
    "outtab = ''.join([' ' for number in range(len(intab))])\n",
    "trans_dict = str.maketrans(intab, outtab)\n",
    "merge = merge.apply(lambda text:text.translate(trans_dict))\n",
    "print(merge[:5])"
   ]
  },
  {
   "cell_type": "markdown",
   "metadata": {},
   "source": [
    "#### Get rid of spam"
   ]
  },
  {
   "cell_type": "code",
   "execution_count": 6,
   "metadata": {},
   "outputs": [
    {
     "name": "stdout",
     "output_type": "stream",
     "text": [
      "###########################\n",
      "\"    == tip for trolls. ==    1: don't fuck with me.   2: you are gay and will always be gay.    yhbt. yhl.hand.:dloldongsloljewsloldongsyhbt. yhl.hand.:dloljewsyhbt. yhl.hand.:dlolfagsloljewswoploldongsyhbt. yhl.hand.:dloldongsloldongsloldongsloldongsyhbt. yhl.hand.:dloljewsloldongsloldongsloldongsloldongsloldongsloldongsloldongsloldongsloldongsloldongsloljewsloldongsloldongsloldongsloldongsloldongsloldongsloldongs   jesuitx. did.wtc.:d\"\n"
     ]
    }
   ],
   "source": [
    "spam_example = 'dloljewsloldongsloldongsloldongsloldongsloldongsloldongsloldongsloldongsloldongsloldongsloljewsloldongsloldongsloldongsloldongsloldongsloldongsloldongs'\n",
    "spam_mask = merge.str.contains(spam_example, regex=False)\n",
    "spam_example_id = merge[spam_mask].index[0]\n",
    "print('###########################')\n",
    "print(merge[spam_example_id])"
   ]
  },
  {
   "cell_type": "code",
   "execution_count": 7,
   "metadata": {},
   "outputs": [
    {
     "name": "stdout",
     "output_type": "stream",
     "text": [
      "\"    == tip for trolls. ==    1: don't fuck with me.   2: you are gay and will always be gay.    yhbt.   yhl.hand.:dloljewsyhbt.         jesuitx. did.wtc.:d\"\n"
     ]
    }
   ],
   "source": [
    "# if the length of a text between two spaces is over MAX_LENGTH, consider it as a spam and remove it\n",
    "MAX_LENGTH_SPAM = 30\n",
    "RemoveSPAM = lambda text: ' '.join([word if len(word)<MAX_LENGTH_SPAM else ' ' for word in text.split(' ')])\n",
    "merge = merge.apply(RemoveSPAM)\n",
    "print(merge[spam_example_id])\n"
   ]
  },
  {
   "cell_type": "markdown",
   "metadata": {},
   "source": [
    "#### Text Normalization\n",
    "* replace full-width characters with half-width characters. for example, convert 'ｄａｙ' to 'day'. convert '１２３' to '123'\n",
    "\n",
    "```python\n",
    "import unicodedata\n",
    "foo = u'１２３４５６７８９０'\n",
    "unicodedata.normalize('NFKC', foo)\n",
    "```"
   ]
  },
  {
   "cell_type": "code",
   "execution_count": 8,
   "metadata": {},
   "outputs": [
    {
     "name": "stdout",
     "output_type": "stream",
     "text": [
      "0    explanation why the edits made under my userna...\n",
      "1    d'aww! he matches this background colour i'm s...\n",
      "2    hey man, i'm really not trying to edit war. it...\n",
      "3    \" more i can't make any real suggestions on im...\n",
      "4    you, sir, are my hero. any chance you remember...\n",
      "Name: comment_text, dtype: object\n"
     ]
    }
   ],
   "source": [
    "import unicodedata\n",
    "Normalize = lambda text:unicodedata.normalize('NFKC', text)\n",
    "merge = merge.apply(Normalize)\n",
    "print(merge[:5])"
   ]
  },
  {
   "cell_type": "markdown",
   "metadata": {},
   "source": [
    "#### remove IP address"
   ]
  },
  {
   "cell_type": "code",
   "execution_count": 9,
   "metadata": {},
   "outputs": [
    {
     "name": "stdout",
     "output_type": "stream",
     "text": [
      "0    explanation why the edits made under my userna...\n",
      "1    d'aww! he matches this background colour i'm s...\n",
      "2    hey man, i'm really not trying to edit war. it...\n",
      "3    \" more i can't make any real suggestions on im...\n",
      "4    you, sir, are my hero. any chance you remember...\n",
      "Name: comment_text, dtype: object\n"
     ]
    }
   ],
   "source": [
    "pattern_ip = r'\\d{1,3}\\.\\d{1,3}\\.\\d{1,3}\\.\\d{1,3}'\n",
    "RemoveIP = lambda text: re.sub(pattern_ip, ' ip ', text)\n",
    "merge = merge.apply(RemoveIP)\n",
    "print(merge[:5])"
   ]
  },
  {
   "cell_type": "markdown",
   "metadata": {},
   "source": [
    "#### how to deal with hyperLink\n",
    "\n",
    "* one reason that hyperlinks should not be removed is that, the words in the links may have semantic meanings\n",
    "* another reason is that a regular expression covers all posible situations is too complecated, see [this link](https://stackoverflow.com/questions/161738/what-is-the-best-regular-expression-to-check-if-a-string-is-a-valid-url)"
   ]
  },
  {
   "cell_type": "markdown",
   "metadata": {},
   "source": [
    "#### remove unwanted unicode alphabet"
   ]
  },
  {
   "cell_type": "code",
   "execution_count": 10,
   "metadata": {},
   "outputs": [
    {
     "name": "stdout",
     "output_type": "stream",
     "text": [
      "0    explanation why the edits made under my userna...\n",
      "1    d'aww! he matches this background colour i'm s...\n",
      "2    hey man, i'm really not trying to edit war. it...\n",
      "3    \" more i can't make any real suggestions on im...\n",
      "4    you, sir, are my hero. any chance you remember...\n",
      "Name: comment_text, dtype: object\n"
     ]
    }
   ],
   "source": [
    "import regex\n",
    "\n",
    "RemoveNonLatin_a = lambda text: regex.sub(r'[^\\p{Latin}\\p{Punctuation}\\p{Number}\\p{Separator}]', u'', text) \n",
    "RemoveNonLatin_b = lambda text: regex.sub(r'[^\\p{InBasic_Latin}\\p{InLatin-1_Supplement}\\p{Punctuation}\\p{Number}\\p{Separator}]', u'', text) \n",
    "RemoveNonLatin = lambda text: RemoveNonLatin_a(RemoveNonLatin_b(text))\n",
    "merge = merge.apply(RemoveNonLatin)\n",
    "print(merge[:5])"
   ]
  },
  {
   "cell_type": "markdown",
   "metadata": {},
   "source": [
    "##### this implementation also works well with hyper link urls\n",
    "* todo: is that meaningful to explicitly add a hyper link token after a hyper link, for example: 'www.google.com ###hyperlink###'"
   ]
  },
  {
   "cell_type": "markdown",
   "metadata": {},
   "source": [
    "#### get rid of apostrophe"
   ]
  },
  {
   "cell_type": "code",
   "execution_count": 11,
   "metadata": {},
   "outputs": [
    {
     "name": "stdout",
     "output_type": "stream",
     "text": [
      "0    explanation why the edits made under my userna...\n",
      "1    d'aww! he matches this background colour i am ...\n",
      "2    hey man, i am really not trying to edit war. i...\n",
      "3    \" more i cannot make any real suggestions on i...\n",
      "4    you, sir, are my hero. any chance you remember...\n",
      "Name: comment_text, dtype: object\n"
     ]
    }
   ],
   "source": [
    "APPO = {\n",
    "\"aren't\" : \"are not\",\n",
    "\"can't\" : \"cannot\",\n",
    "\"couldn't\" : \"could not\",\n",
    "\"didn't\" : \"did not\",\n",
    "\"doesn't\" : \"does not\",\n",
    "\"don't\" : \"do not\",\n",
    "\"hadn't\" : \"had not\",\n",
    "\"hasn't\" : \"has not\",\n",
    "\"haven't\" : \"have not\",\n",
    "\"he'd\" : \"he would\",\n",
    "\"he'll\" : \"he will\",\n",
    "\"he's\" : \"he is\",\n",
    "\"i'd\" : \"i would\",\n",
    "\"i'd\" : \"i had\",\n",
    "\"i'll\" : \"i will\",\n",
    "\"i'm\" : \"i am\",\n",
    "\"isn't\" : \"is not\",\n",
    "\"it's\" : \"it is\",\n",
    "\"it'll\": \"it will\",\n",
    "\"i've\" : \"i have\",\n",
    "\"let's\" : \"let us\",\n",
    "\"mightn't\" : \"might not\",\n",
    "\"mustn't\" : \"must not\",\n",
    "\"shan't\" : \"shall not\",\n",
    "\"she'd\" : \"she would\",\n",
    "\"she'll\" : \"she will\",\n",
    "\"she's\" : \"she is\",\n",
    "\"shouldn't\" : \"should not\",\n",
    "\"that's\" : \"that is\",\n",
    "\"there's\" : \"there is\",\n",
    "\"they'd\" : \"they would\",\n",
    "\"they'll\" : \"they will\",\n",
    "\"they're\" : \"they are\",\n",
    "\"they've\" : \"they have\",\n",
    "\"we'd\" : \"we would\",\n",
    "\"we're\" : \"we are\",\n",
    "\"weren't\" : \"were not\",\n",
    "\"we've\" : \"we have\",\n",
    "\"what'll\" : \"what will\",\n",
    "\"what're\" : \"what are\",\n",
    "\"what's\" : \"what is\",\n",
    "\"what've\" : \"what have\",\n",
    "\"where's\" : \"where is\",\n",
    "\"who'd\" : \"who would\",\n",
    "\"who'll\" : \"who will\",\n",
    "\"who're\" : \"who are\",\n",
    "\"who's\" : \"who is\",\n",
    "\"who've\" : \"who have\",\n",
    "\"won't\" : \"will not\",\n",
    "\"wouldn't\" : \"would not\",\n",
    "\"you'd\" : \"you would\",\n",
    "\"you'll\" : \"you will\",\n",
    "\"you're\" : \"you are\",\n",
    "\"you've\" : \"you have\",\n",
    "\"'re\": \" are\",\n",
    "\"wasn't\": \"was not\",\n",
    "\"we'll\":\" will\",\n",
    "\"didn't\": \"did not\",\n",
    "\"tryin'\":\"trying\"\n",
    "}\n",
    "def ConvertText(text):\n",
    "    result = [APPO[word] if word in APPO else word for word in text.split(' ')]\n",
    "    return ' '.join(result)\n",
    "merge = merge.apply(ConvertText)\n",
    "print(merge[:5])"
   ]
  },
  {
   "cell_type": "markdown",
   "metadata": {},
   "source": [
    "#### get rid of punctuations"
   ]
  },
  {
   "cell_type": "code",
   "execution_count": 12,
   "metadata": {},
   "outputs": [
    {
     "name": "stdout",
     "output_type": "stream",
     "text": [
      "0    explanation why the edits made under my userna...\n",
      "1    d aww  he matches this background colour i am ...\n",
      "2    hey man  i am really not trying to edit war  i...\n",
      "3      more i cannot make any real suggestions on i...\n",
      "4    you  sir  are my hero  any chance you remember...\n",
      "Name: comment_text, dtype: object\n"
     ]
    }
   ],
   "source": [
    "RemovePunctuations = lambda text: regex.sub(r'[\\p{Punctuation}]', u' ', text) \n",
    "merge = merge.apply(RemovePunctuations)\n",
    "print(merge[:5])"
   ]
  },
  {
   "cell_type": "markdown",
   "metadata": {},
   "source": [
    "####  数据集的文本是不是全部在embeddings_index中，如果不全是，哪些不再embeddings_index中的文本是什么，长什么样?"
   ]
  },
  {
   "cell_type": "code",
   "execution_count": 13,
   "metadata": {},
   "outputs": [
    {
     "name": "stdout",
     "output_type": "stream",
     "text": [
      "number of words in the doc 299082\n",
      "number of words in the word2vec file 2196017\n"
     ]
    }
   ],
   "source": [
    "def ComputeSetOfWords(pd_series):\n",
    "    sets = pd_series.apply(lambda text: set(text.split(' ')))\n",
    "    result = set([])\n",
    "    result = result.union(*sets)\n",
    "    return result\n",
    "word_set = ComputeSetOfWords(merge)\n",
    "vector_set = set(embeddings_index.keys())\n",
    "print('number of words in the doc {}'.format(len(word_set)))\n",
    "print('number of words in the word2vec file {}'.format(len(vector_set)))"
   ]
  },
  {
   "cell_type": "markdown",
   "metadata": {},
   "source": [
    "#### 一般认为word2vec中的词汇是比较全的，如果在训练数据集中的某个词没有出现在word2vec的词汇中，那么分析下这个词到底是什么会比较有意义"
   ]
  },
  {
   "cell_type": "code",
   "execution_count": 14,
   "metadata": {},
   "outputs": [
    {
     "name": "stdout",
     "output_type": "stream",
     "text": [
      "153537\n",
      "['', 'suppremacy', 'mutial', 'eserler', 'korektan', 'polans', 'sambaliva', 'paswan', 'dungbuster', 'jadelle', 'sokaku', 'enloe', 'buswell', 'drawception', 'betur', 'rulii', 'kertesz', 'luberia', 'krf', 'writtenand', 'hunduism', 'revesered', 'gabra3', 'shadayid', 'fakts', 'eswi', '0429hrs', 'bobosikova2008', 'bronius', 'aud50', 'kartham', 'romaioi', 'verifability', 'begottenness', 'opened1936', 'blocki', 'bramston', 'marcomannia', 'feneris', 'soixant', 'mivision', 'deprodded', 'hd86', 'april2015', 'serpentarii', 'dictionarie', 'átkozott', 'coenwulf', 'khwarezmi', 'abhramidic', 'estoniz', 'pekre', 'bhardha', 'uuphotography', 'angelamarti', 'polizeistaat', 'nadadaehan', 'vandorenfm', 'afdformat', 'critictabwhat', 'essentialno', 'philodoxes', 'couillaud', 'bundesnachrichtendienst', 'dirknelson', 'anglosajones', '477500', 'kacher', 'ysgol', 'suppsedly', 'shetty785', 'gaayk', 'roofingag', 'addiss', 'attawpiksat', 'groupshot', 'killyou', 'propovijedajui', 'luciola', 'dooje', 'shahname', 'frequesnt', 'sehsuvarugloop', 'hizmetler', 'utex', 'nagis', 'bolshivism', 'flyyyin', 'unreferred', 'duponchel', 'alisonbechdel2', 'eishyshok', 'lauhgin', 'stimoni', 'uahbpinv', 'pngshih', 'gynecologyyes', 'kuvvetlerinin', 'gournadi', 'devourer09', 'kyltym', 'mnemonist', 'fudbaleru', 'kremenitsa', 'geens', 'moeron', 'dempsey0', 'unctv', 'równie', 'unblockmaterial', 'w7rf', 'bluemask', 'magyarized', 'spnayol', 'incided', 'yeadon', 'khampalak', 'evanh', 'tsarukyan', 'referant', 'bvhgftrfgdfvc', 'kashyapa', 'hashshashin', 'mmpublicity', 'hogie75', 'inflamable', 'zarniwoot', 'struway', 'mak050389', 'språkhistoria', 'angli', 'njeni', 'dfer', 'metrospex', 'clubsss', 'eliminadadel', 'samanthapuckettindo', 'beggings', 'sophene', 'orbin', 'destrfoy', 'niesen', 'declinewikipedia', 'thabnks', 'spanishthe', 'bobertoq', 'fuckerer', 'mcconnachie', 'habitiability', 'mycelis', 'kogen', 'ndogo', '79625', 'gösta', 'volpalblade', 'inuit18', 'andrén', 'ugri', 'psarosoupa', 'nlpers', 'sprachgebrauch', 'baccccck', 'openje', 'greetinx', 'zubaer', 'eggfruits', 'whycite', 'seriescarlon', 'ujo', 'calberg', 'hisssssss', 'goldorack', 'adalin', 'bonville', 'beyship', 'johngirl', 'thousandsons', 'costody', 'jcoxa', 'ringlingbrothers', 'blechman', 'declinebe', 'dvn', 'dansky', 'krar', 'fulal', 'bhamal', 'heavanly', 'dljfkls', 'bolony', '10csd', 'pugidsound', 'boodlepounce', 'partneship', 'whfgvpr', 'barbariouse', 'dramamonger', 'heufewerqgreb3', 'svetlogorsk', 'eichmans', '80156', 'thingggggggggggg', 'jimboisms', 'jman5', 'antropomorphic', 'sourcible', 'rhtythm', 'knowsmaybe', 'chacodelphys', 'dorain', 'haista', 'wikimartyr', 'copyrightpage', 'sintaksi', 'brandsoftheworld', 'epiped', 'lammerts', 'holess', 'sighrik', 'pageis', 'wikielitist', 'akrho', 'topgyal', 'oligarcas', 'recentstudentoffamilyancestry', 'friuend', 'wikiality', 'althealth', 'dardan', 'crazyjoe', 'borderwatch', 'transasia', 'forechamber', 'nlu', 'sctibbles', 'wikipeida', 'kambuj', 'insspectors', 'náhit', 'sautrday', 'muchnick', 'smeelgova', 'mirokado', 'grassmann', '905001', 'remsburg', 'isokrates', 'kifano', 'issch', 'speadily', 'wallamoose', 'scaphe', 'placesnames', 'ramblesomei', 'izlel', 'hbih', 'bloodpack', 'plskthxbai', 'cihat', 'althgough', 'umdat', 'goblle', 'reçues', 'rasistic', 'lulli', 'razgonio', 'layerthat', 'thewikiproject', 'filmogs', 'loadinghelpful', 'maximo2', 'rwam', 'musleheen', 'facfailed', 'tripalda', 'seqitur', 'seriesand', 'puterea', 'leeving', 'dewine', 'avantajele', 'calgarians', 'llingua', 'zakarian', 'wikipukians', 'satanized', 'nkandih1', 'odinshoot', 'gerelle', 'adunand', 'állva', 'addere', 'arbocom', '੧੭', 'protivim', 'galassi', 'pasarse', 'equibase', 'saloca', 'teórica', 'jdtalk', '1880a', '54pm', 'kadym', 'incesticide', 'talentful', 'mahq', 'gayesty', 'beratedindeed', 'revsionism', 'höchstens', 'kazeshini', 'gratuititties', 'chhina', 'nahuél', 'mortarists', 'altgens', 'malayasian', '5antb', 'croseed', 'seenig', 'cobepa', 'usercheck', 'garzón', 'dmeranda', 'penroses', 'odnosima', 'literatureliterature', 'agreedit', 'auschvitz', 'celebritological', 'miskakes', 'kfjha', 'civlity', 'jewqish', 'unapredjenje', 'fanites', 'ragisma', 'ultratip', 'deliebrately', 'pachucco', 'articlec', 'anonni', 'garaanina', 'anarchivist', 'laboulaye', 'banuiesc', 'souichiro', 'unblockevolution', 'paumer', 'secondy', 'sarvepalli', 'punongbayan', 'liebs', 'peoplemportance', 'laitinen', 'enverit', 'significante', 'vandailzing', 'bdmoittry', 'karev', 'eidt', 'finalfight2', 'montgolfier', 'wirtschaftsgrundgesetz', 'sarica', 'sishers', 'citydear', 'cinéfest', 'joach', 'sudoris', 'campra', 'schepler', 'angiers', 'uac1530', 'documenary', 'palamalai', 'hartewll', 'anewslogo', 'epiphytology', 'plagerise', 'wolfkin', 'talmon', 'aussagen', 'apartheidstat', 'hahahahhahahahhahah', '2348054748775', 'dalmacija', 'wyble', 'evodev', 'bulmer', 'sorabos', 'youread', 'fromwhat', 'lwhs', 'hamisissttt', 'mayrand', '8850m', 'lovecrafts', 'asarlai', 'theirfor', 'strabo', 'baburname', 'plagiarismplagiarism', 'dsduani', 'birhplace', 'softredirects', 'nodutschke', 'authritative', 'intitated', 'mishneh', 'ibadi', 'majortity', 'dilingo', 'nizer', 'manifiest', 'dlmcclintock', 'dalekchicken', 'eerybodee', 'zärtlichkeit', 'chanolgy', 'usericontalk', 'dink87522', 'sbs6038d23', 'eiuyfdlwe', 'txtrooper', '131692653', 'proclaimations', 'bóg', 'hypercomplexity', '31taunton', 'rremember', 'neubius', 'mandaste', 'ddebate', 'urbanates', 'cruise1st', 'encyclopaedically', 'nompar', 'ciarafan4ever', 'djelovanju', 'guffwave', 'uralvagonzavod', 'niqqass', 'plakate', 'lucaspet', 'sepulwiki', 'sozialismus', 'americanand', 'encyclopaediais', 'hreoc', 'wikiwomen', 'oceanologique', 'rfc1459', 'eurmm', 'guentherwagner', 'intervertion', 'puncutation', 'assesible', 'silagy', 'klanuv', 'kmh03', 'kamble', 'skulkingly', 'paece', 'shnouzer', 'makosbeigli', 'eyedness', 'beielve', 'aptitute', '88746', 'burnelli', 'verisemilitude', 'finestweddingmakeupartist', 'vosho', 'intervisitation', 'cieszyskim', 'berlangsung', 'malalai', 'cheetaha', 'asdfnoia', 'doktora', 'secui', 'woroniecki', 'doghgy', 'markuply', 'heterorganic', 'curously', 'septfonds', 'klanken', 'notaforum', 'ixfd64', 'templary', 'bheatha', 'inclusinve', 'balkán', 'counia', 'ratens', 'okida', 'bgfml', 'ghhrejegrtyrtyykut', 'knowlidge', 'animouse', 'palestianian', 'h8ter', 'dependencis', 'skræling', 'nickelshoe', 'tieghem', 'bharatha', 'kamtoz', '8487969402', 'direcetly', 'archieological', 'pastto', 'midnighter', 'hergone', 'schedulebot', 'crumley', 'tabpossessed', 'bhosda', 'snme', 'guysmost', 'buddisht', 'gaurishankar', 'praksa', 'dirrefernt', 'nathan2055', 'ilmor', 'seitlichen', 'goalkeepr', 'jehovatongan', 't6o', 'obrinje', 'jpgland', 'statiing', 'riffrider', 'qarol', 'neose', 'sukks', 'pecheneg', 'recet', 'lasanta', 'unopposable', 'wm25', 'chairnoff', 'jhch', 'déblocage', 'mrbigb', 'overexagerating', 'viant', 'hopeor', 'shannadew', 'mahmoodabad', 'sddd', 'tiraspol', 'proseline', 'itconcerning', 'shakta', 'chingizid', 'e9f9ff', 'encyclopèdia', 'naijeh', '3xfqxqlhldjet2', 'apisonada', 'hogeldiniz', 'ahmadiyyah', 'slakr', 'doubutsu', 'milwaukee7', 'oberbefehl', 'hansttabana', 'salonius', 'esplained', 'ididnothingwrong', 'majewskiemu', 'gpl2', 'zunz', 'asowe', 'erblande', 'favonian', 'vonross', 'forteana', 'spasitelja', 'gftvo', 'himani', 'pp34', 'bongomatic', 'yili', 'gourry', 'defyinggravity1', '3was', 'arcticfrog', 'nnamu', 'wikiedia', 'westernfront', 'facundi', 'sectiuons', 'gordyb', 'vinhtantran', 'parkwells', 'freeminer', 'encyklopaedia', 'shukhevych', 'newspapersan', 'vharris', 'tradens', 'nrms', 'farenhype', 'cerfictate', 'doucmentation', '20af', 'huyyghjujkik', 'ghgjghtpihjwopsuen', 'grafenauer', 'anjem', 'derültem', 'jehangir', 'energiemengen', 'oohoho', 'gwiazda', 'scaryice', 'plemena', 'udshf', 'beetstra', 'oliwia', 'whipps', 'euratlas', 'dissribution', 'blogfrog', 'nikkullllll', 'placehuangpu', '1042mm', 'színkör', 'johndarth', 'iziao', 'obscrube', 'achowat', 'neurophenomenology', 'cionist', 'jabir', 'woows', '11179154', 'womaraiv', 'noyogis', 'personyes', 'dilthey', 'dewq', 'hambanthota', 'loozool', 'trovanja', 'faani', 'keftiu', 'mosha', 'hapf', 'friendlienss', 'terompaet', 'renaim', 'gluposti', 'kreu', 'ivotu', 'accrding', 'moondram', 'inggis', 'kassrbaum', 'bononcini', 'testfied', 'txakoli', 'gadaa', 'ukubuya', '3we', 'cunnings', 'colberts', 'megnõtt', 'html2011', 'badgif', 'socrate', 'rentout', 'adbhut', 'smikkelen', 'narrisch', 'beresowski', 'touretts', 'timurds', 'mahfouz', '756134057896345789', 'harrysty', 'yerden', 'landauer', 'uvrstis', '1962monroe', 'hayden123', 'brisem', 'talkthattalk', 'indiciate', 'loafthouse', 'disambiguited', 'bancomext', '9however', 'dragutinu', 'cloens', 'sutomore', 'skipvert', 'wandali', 'wikikpedians', 'filmingh', 'repplaced', 'dawnej', 'magyarisation', 'curable8', 'basaeyev', 'harmar', 'interfeer', 'befogod', 'scmods', 'anwyas', 'chemosynthsis', 'neux', 'szigheter', 'sahraui', 'badgehunter', 'klind', 'robow', 'stephanieadams', 'inciddntally', 'fletë', 'wpaul1972', 'existennce', 'zulupapa', 'shatin', 'theragatha', 'curvit', 'hjördis', 'idayan', 'nobodie', 'finites', 'dlck', 'chautala', 'kirin13', 'tbeen', 'mosmof', 'lahmard', 'eehhhhhhhh', 'l0k0', 'onewordpostguy', 'llgre', 'willemoes', 'grôùp', 'plaisanterie', '27talk', 'furtheremore', 'throttlable', 'fsrc', 'sbs6204r26', 'wikifilter', 'ardai', 'bh16010', 'slankamen', 'miztvahed', 'helyén', 'poincaré', 'gurave', 'paulinee', 'abakumov', 'asdjfhgk', 'osjeca', 'speakbox', 'ssdca', 'verrazzano', 'esajian', 'biographycuban', 'figglehorn', 'lampaul', 'esforços', 'lengtharnold', 'szlachecki', 'yfgvkfhd', 'dapi89', 'chapra', 'yalre', 'kuzbari', 'gottesdienstes', 'ujseing', 'wahhht', 'kares', 'maquahuitl', 'umram', 'grundsätzliche', 'najprije', 'secnavinst', 'cumens', 'ezzex', 'ghorman', 'lamantia', 'themfromspacer', 'asopisa', 'diligencedude', 'britisharmy', 'permes', 'hudg']\n"
     ]
    }
   ],
   "source": [
    "diff = word_set.difference(vector_set)\n",
    "print(len(diff))\n",
    "show = list(diff)\n",
    "if len(show)>800: show=show[:800]\n",
    "print(show)"
   ]
  },
  {
   "cell_type": "markdown",
   "metadata": {},
   "source": [
    "#### other text preprocessing\n",
    "it would be better if the following transformation can be performed:\n",
    "- 'pic005' ->  'pic 005'.\n",
    "- 'seba1978' ->  'seba 1978'\n",
    "- '23help' ->  '23 help'"
   ]
  },
  {
   "cell_type": "code",
   "execution_count": 15,
   "metadata": {},
   "outputs": [
    {
     "name": "stdout",
     "output_type": "stream",
     "text": [
      "0    explanation why the edits made under my userna...\n",
      "1    d aww  he matches this background colour i am ...\n",
      "2    hey man  i am really not trying to edit war  i...\n",
      "3      more i cannot make any real suggestions on i...\n",
      "4    you  sir  are my hero  any chance you remember...\n",
      "Name: comment_text, dtype: object\n"
     ]
    }
   ],
   "source": [
    "'''\n",
    "SeperateWordNumber = lambda text: regex.sub(r'([\\p{Latin}]+)([\\p{Number}]+)', r'\\g<1> \\g<2>', text)\n",
    "SeperateNumberWord = lambda text: regex.sub(r'([\\p{Number}]+)([\\p{Latin}]+)', r'\\g<1> \\g<2>', text)\n",
    "merge = merge.apply(SeperateWordNumber)\n",
    "merge = merge.apply(SeperateNumberWord)\n",
    "print(merge[:5])\n",
    "'''"
   ]
  },
  {
   "cell_type": "markdown",
   "metadata": {},
   "source": [
    "#### get rid of stop words"
   ]
  },
  {
   "cell_type": "code",
   "execution_count": 16,
   "metadata": {},
   "outputs": [
    {
     "name": "stdout",
     "output_type": "stream",
     "text": [
      "0    explanation     edits made     username hardco...\n",
      "1      aww    matches   background colour     seemi...\n",
      "2    hey man      really   trying   edit war       ...\n",
      "3          cannot make   real suggestions   improve...\n",
      "4       sir      hero    chance   remember   page  ...\n",
      "Name: comment_text, dtype: object\n"
     ]
    }
   ],
   "source": [
    "from nltk.corpus import stopwords\n",
    "eng_stopwords = stopwords.words(\"english\")\n",
    "eng_stopwords = [word for word in eng_stopwords if len(word)>1]\n",
    "eng_stopwords = set(eng_stopwords)\n",
    "RemoveStopWords = lambda text: ' '.join([word if word not in eng_stopwords else ' ' for word in text.split(' ')])\n",
    "merge = merge.apply(RemoveStopWords)\n",
    "print(merge[:5])"
   ]
  },
  {
   "cell_type": "markdown",
   "metadata": {},
   "source": [
    "#### get rid of  long words"
   ]
  },
  {
   "cell_type": "code",
   "execution_count": 17,
   "metadata": {},
   "outputs": [
    {
     "name": "stdout",
     "output_type": "stream",
     "text": [
      "0    explanation     edits made     username hardco...\n",
      "1      aww    matches   background colour     seemi...\n",
      "2    hey man      really   trying   edit war       ...\n",
      "3          cannot make   real suggestions   improve...\n",
      "4       sir      hero    chance   remember   page  ...\n",
      "Name: comment_text, dtype: object\n"
     ]
    }
   ],
   "source": [
    "MAX_LENGH = 20\n",
    "RemoveLongWords = lambda text: ' '.join([word if len(word)<=MAX_LENGH else ' ' for word in text.split(' ')]) \n",
    "merge = merge.apply(RemoveLongWords)\n",
    "print(merge[:5])"
   ]
  },
  {
   "cell_type": "markdown",
   "metadata": {},
   "source": [
    "#### get rid of numbers"
   ]
  },
  {
   "cell_type": "code",
   "execution_count": 18,
   "metadata": {},
   "outputs": [
    {
     "name": "stdout",
     "output_type": "stream",
     "text": [
      "0    explanation     edits made     username hardco...\n",
      "1      aww    matches   background colour     seemi...\n",
      "2    hey man      really   trying   edit war       ...\n",
      "3          cannot make   real suggestions   improve...\n",
      "4       sir      hero    chance   remember   page  ...\n",
      "Name: comment_text, dtype: object\n"
     ]
    }
   ],
   "source": [
    "RemoveNumber = lambda text: ' '.join([word if not word.isdigit() else ' ' for word in text.split(' ')])\n",
    "merge = merge.apply(RemoveNumber)\n",
    "print(merge[:5])"
   ]
  },
  {
   "cell_type": "code",
   "execution_count": 19,
   "metadata": {
    "scrolled": true
   },
   "outputs": [
    {
     "name": "stdout",
     "output_type": "stream",
     "text": [
      "142150\n",
      "['', 'suppremacy', 'mutial', 'eserler', 'korektan', 'polans', 'sambaliva', 'paswan', 'dungbuster', 'jadelle', 'sokaku', 'enloe', 'buswell', 'drawception', 'betur', 'rulii', 'kertesz', 'luberia', 'jighreujti', 'krf', 'writtenand', 'hunduism', 'revesered', 'fakts', 'shadayid', 'eswi', 'bronius', 'kartham', 'romaioi', 'verifability', 'begottenness', 'bramston', 'blocki', 'marcomannia', 'feneris', 'soixant', 'mivision', 'deprodded', 'serpentarii', 'átkozott', 'dictionarie', 'coenwulf', 'khwarezmi', 'abhramidic', 'estoniz', 'pekre', 'bhardha', 'uuphotography', 'angelamarti', 'polizeistaat', 'nadadaehan', 'vandorenfm', 'afdformat', 'critictabwhat', 'essentialno', 'philodoxes', 'couillaud', 'euskalduna', 'dirknelson', 'anglosajones', 'kacher', 'ysgol', 'suppsedly', 'gaayk', 'roofingag', 'addiss', 'attawpiksat', 'groupshot', 'killyou', 'propovijedajui', 'luciola', 'dooje', 'shahname', 'frequesnt', 'sehsuvarugloop', 'hizmetler', 'utex', 'nagis', 'bolshivism', 'flyyyin', 'unreferred', 'duponchel', 'eishyshok', 'lauhgin', 'stimoni', 'uahbpinv', 'pngshih', 'gynecologyyes', 'kuvvetlerinin', 'gournadi', 'kyltym', 'mnemonist', 'fudbaleru', 'kremenitsa', 'geens', 'moeron', 'unctv', 'równie', 'unblockmaterial', 'bluemask', 'magyarized', 'spnayol', 'incided', 'yeadon', 'khampalak', 'evanh', 'tsarukyan', 'kashyapa', 'referant', 'bvhgftrfgdfvc', 'hashshashin', 'mmpublicity', 'inflamable', 'struway', 'zarniwoot', 'språkhistoria', 'angli', 'njeni', 'dfer', 'metrospex', 'clubsss', 'eliminadadel', 'samanthapuckettindo', 'beggings', 'sophene', 'orbin', 'destrfoy', 'niesen', 'declinewikipedia', 'thabnks', 'spanishthe', 'bobertoq', 'fuckerer', 'mcconnachie', 'habitiability', 'mycelis', 'kogen', 'ndogo', 'gösta', 'volpalblade', 'andrén', 'ugri', 'psarosoupa', 'nlpers', 'sprachgebrauch', 'baccccck', 'cochese', 'openje', 'greetinx', 'zubaer', 'eggfruits', 'whycite', 'seriescarlon', 'ujo', 'calberg', 'hisssssss', 'goldorack', 'adalin', 'bonville', 'beyship', 'johngirl', 'thousandsons', 'costody', 'jcoxa', 'ringlingbrothers', 'blechman', 'declinebe', 'dvn', 'dansky', 'cjchan', 'krar', 'fulal', 'bhamal', 'heavanly', 'dljfkls', 'bolony', 'pugidsound', 'partneship', 'boodlepounce', 'whfgvpr', 'barbariouse', 'dramamonger', 'altertnative', 'svetlogorsk', 'eichmans', 'thingggggggggggg', 'jimboisms', 'antropomorphic', 'sourcible', 'rhtythm', 'knowsmaybe', 'chacodelphys', 'haista', 'dorain', 'wikimartyr', 'copyrightpage', 'sintaksi', 'brandsoftheworld', 'epiped', 'lammerts', 'holess', 'sighrik', 'pageis', 'wikielitist', 'akrho', 'topgyal', 'oligarcas', 'friuend', 'wikiality', 'althealth', 'dardan', 'crazyjoe', 'borderwatch', 'transasia', 'forechamber', 'nlu', 'sctibbles', 'wikipeida', 'kambuj', 'insspectors', 'náhit', 'sautrday', 'muchnick', 'smeelgova', 'mirokado', 'grassmann', 'remsburg', 'isokrates', 'issch', 'speadily', 'wallamoose', 'scaphe', 'placesnames', 'ramblesomei', 'izlel', 'hbih', 'bloodpack', 'cihat', 'althgough', 'umdat', 'goblle', 'reçues', 'rasistic', 'lulli', 'razgonio', 'thewikiproject', 'layerthat', 'filmogs', 'loadinghelpful', 'rwam', 'musleheen', 'facfailed', 'tripalda', 'seqitur', 'seriesand', 'puterea', 'leeving', 'dewine', 'avantajele', 'calgarians', 'llingua', 'zakarian', 'wikipukians', 'satanized', 'odinshoot', 'gerelle', 'adunand', 'wkinght', 'állva', 'addere', 'arbocom', 'protivim', 'galassi', 'pasarse', 'equibase', 'saloca', 'teórica', 'jdtalk', 'kadym', 'incesticide', 'talentful', 'abio', 'mahq', 'gayesty', 'beratedindeed', 'revsionism', 'höchstens', 'kazeshini', 'gratuititties', 'chhina', 'nahuél', 'mortarists', 'altgens', 'malayasian', 'mustafakemal', 'croseed', 'seenig', 'cobepa', 'usercheck', 'garzón', 'dmeranda', 'penroses', 'odnosima', 'literatureliterature', 'agreedit', 'auschvitz', 'celebritological', 'miskakes', 'kfjha', 'civlity', 'jewqish', 'unapredjenje', 'fanites', 'ragisma', 'ultratip', 'deliebrately', 'pachucco', 'articlec', 'anonni', 'garaanina', 'anarchivist', 'laboulaye', 'banuiesc', 'souichiro', 'unblockevolution', 'paumer', 'secondy', 'sarvepalli', 'punongbayan', 'liebs', 'peoplemportance', 'laitinen', 'enverit', 'significante', 'vandailzing', 'bdmoittry', 'karev', 'eidt', 'montgolfier', 'sarica', 'sishers', 'citydear', 'cinéfest', 'joach', 'sudoris', 'campra', 'schepler', 'angiers', 'documenary', 'palamalai', 'hartewll', 'anewslogo', 'epiphytology', 'plagerise', 'wolfkin', 'talmon', 'aussagen', 'apartheidstat', 'hahahahhahahahhahah', 'dalmacija', 'wyble', 'evodev', 'bulmer', 'sorabos', 'youread', 'fromwhat', 'lwhs', 'hamisissttt', 'mayrand', 'lovecrafts', 'asarlai', 'theirfor', 'strabo', 'baburname', 'plagiarismplagiarism', 'dsduani', 'birhplace', 'softredirects', 'nodutschke', 'authritative', 'intitated', 'mishneh', 'ibadi', 'majortity', 'dilingo', 'nizer', 'manifiest', 'dlmcclintock', 'beleiutz', 'overempasis', 'zärtlichkeit', 'chanolgy', 'usericontalk', 'dalekchicken', 'eiuyfdlwe', 'eerybodee', 'txtrooper', 'proclaimations', 'solzhenitsyn', 'bóg', 'hypercomplexity', 'rremember', 'neubius', 'mandaste', 'ddebate', 'urbanates', 'encyclopaedically', 'nompar', 'djelovanju', 'guffwave', 'uralvagonzavod', 'niqqass', 'plakate', 'lucaspet', 'sepulwiki', 'sozialismus', 'tabcrazy', 'americanand', 'encyclopaediais', 'hreoc', 'wikiwomen', 'oceanologique', 'eurmm', 'guentherwagner', 'intervertion', 'puncutation', 'assesible', 'silagy', 'klanuv', 'kamble', 'skulkingly', 'paece', 'makosbeigli', 'shnouzer', 'eyedness', 'beielve', 'aptitute', 'burnelli', 'verisemilitude', 'vosho', 'intervisitation', 'cieszyskim', 'berlangsung', 'malalai', 'cheetaha', 'asdfnoia', 'doktora', 'secui', 'woroniecki', 'doghgy', 'markuply', 'sorp', 'heterorganic', 'septfonds', 'klanken', 'curously', 'notaforum', 'templary', 'bheatha', 'inclusinve', 'balkán', 'counia', 'ratens', 'okida', 'bgfml', 'ghhrejegrtyrtyykut', 'knowlidge', 'animouse', 'palestianian', 'dependencis', 'skræling', 'nickelshoe', 'tieghem', 'bharatha', 'tabpossessed', 'bhosda', 'direcetly', 'archieological', 'pastto', 'midnighter', 'hergone', 'schedulebot', 'crumley', 'kamtoz', 'snme', 'guysmost', 'buddisht', 'gaurishankar', 'praksa', 'dirrefernt', 'ilmor', 'seitlichen', 'goalkeepr', 'jehovatongan', 'obrinje', 'jpgland', 'statiing', 'riffrider', 'qarol', 'neose', 'sukks', 'pecheneg', 'recet', 'lasanta', 'unopposable', 'chairnoff', 'jhch', 'déblocage', 'mrbigb', 'overexagerating', 'viant', 'hopeor', 'mahmoodabad', 'sddd', 'tiraspol', 'proseline', 'itconcerning', 'shakta', 'chingizid', 'encyclopèdia', 'naijeh', 'apisonada', 'hogeldiniz', 'ahmadiyyah', 'slakr', 'doubutsu', 'oberbefehl', 'salonius', 'hansttabana', 'esplained', 'ididnothingwrong', 'majewskiemu', 'zunz', 'asowe', 'erblande', 'favonian', 'vonross', 'forteana', 'himani', 'gftvo', 'spasitelja', 'bongomatic', 'yili', 'gourry', 'arcticfrog', 'nnamu', 'wikiedia', 'westernfront', 'facundi', 'sectiuons', 'gordyb', 'vinhtantran', 'parkwells', 'freeminer', 'encyklopaedia', 'shukhevych', 'newspapersan', 'vharris', 'tradens', 'nrms', 'ofjoibku', 'farenhype', 'cerfictate', 'doucmentation', 'huyyghjujkik', 'ghgjghtpihjwopsuen', 'benkenobi', 'anjem', 'grafenauer', 'jehangir', 'derültem', 'oohoho', 'gwiazda', 'energiemengen', 'scaryice', 'plemena', 'udshf', 'beetstra', 'oliwia', 'whipps', 'euratlas', 'dissribution', 'blogfrog', 'nikkullllll', 'placehuangpu', 'johndarth', 'színkör', 'iziao', 'obscrube', 'achowat', 'neurophenomenology', 'cionist', 'jabir', 'woows', 'womaraiv', 'noyogis', 'personyes', 'dilthey', 'jdq', 'dewq', 'hambanthota', 'loozool', 'trovanja', 'faani', 'keftiu', 'mosha', 'hapf', 'friendlienss', 'renaim', 'terompaet', 'gluposti', 'kreu', 'ivotu', 'accrding', 'moondram', 'inggis', 'kassrbaum', 'ssma', 'bononcini', 'testfied', 'txakoli', 'gadaa', 'ukubuya', 'cunnings', 'colberts', 'megnõtt', 'badgif', 'socrate', 'rentout', 'adbhut', 'smikkelen', 'narrisch', 'beresowski', 'touretts', 'timurds', 'mahfouz', 'harrysty', 'yerden', 'landauer', 'uvrstis', 'talkthattalk', 'brisem', 'loafthouse', 'indiciate', 'disambiguited', 'bancomext', 'dragutinu', 'cloens', 'sutomore', 'skipvert', 'wandali', 'wikikpedians', 'filmingh', 'repplaced', 'dawnej', 'magyarisation', 'basaeyev', 'harmar', 'interfeer', 'befogod', 'scmods', 'anwyas', 'chemosynthsis', 'neux', 'szigheter', 'sahraui', 'badgehunter', 'klind', 'robow', 'stephanieadams', 'inciddntally', 'fletë', 'existennce', 'zulupapa', 'shatin', 'theragatha', 'curvit', 'hjördis', 'idayan', 'nobodie', 'cgshc', 'finites', 'dlck', 'chautala', 'tbeen', 'mosmof', 'lahmard', 'eehhhhhhhh', 'onewordpostguy', 'llgre', 'willemoes', 'grôùp', 'plaisanterie', 'furtheremore', 'throttlable', 'fsrc', 'wikifilter', 'ardai', 'miztvahed', 'slankamen', 'helyén', 'gurave', 'poincaré', 'paulinee', 'abakumov', 'asdjfhgk', 'osjeca', 'speakbox', 'ssdca', 'verrazzano', 'esajian', 'biographycuban', 'figglehorn', 'lampaul', 'esforços', 'lengtharnold', 'bfrazier', 'szlachecki', 'yfgvkfhd', 'chapra', 'yalre', 'kuzbari', 'gottesdienstes', 'ujseing', 'wahhht', 'kares', 'maquahuitl', 'umram', 'grundsätzliche', 'najprije', 'secnavinst', 'cumens', 'ezzex', 'ghorman', 'lamantia', 'themfromspacer', 'asopisa', 'diligencedude', 'britisharmy', 'permes', 'hudg', 'wpov', 'nahay', 'sutherll', 'digitalc', 'fraal', 'miesten', 'zomaradah', 'chalotte', 'bryanwood', 'calrissian', 'überlegt', 'nivelle', 'snottywong', 'citationpatel', 'sopisopi', 'kardomah', 'saduj', 'punkkiddy', 'chitauri', 'aguelhok', 'disucssed', 'reguluj', 'ronchester', 'shprehja', 'catiii', 'kroniara', 'trollingyou', 'resertch', 'natoli', 'desclot', 'duncanharris', 'bunderson', 'ahto', 'dúnchad', 'scheerer', 'castrianni', 'schairer', 'rastafarianism', 'hereticals', 'yapt', 'kalach', 'soapboaxing', 'bised', 'wfgy', 'nakasendo', 'yadein', 'linksi', 'phab', 'havrå', 'mlnv', 'ballsssss', 'nachgewiesenermaßen', 'vandalpetrol', 'werebears', 'mireau', 'wifetabbut', 'bundesregierung', 'musicthink', 'whzhang']\n"
     ]
    }
   ],
   "source": [
    "word_set = ComputeSetOfWords(merge)\n",
    "diff = word_set.difference(vector_set)\n",
    "print(len(diff))\n",
    "show = list(diff)\n",
    "if len(show)>800: show=show[:800]\n",
    "print(show)"
   ]
  },
  {
   "cell_type": "markdown",
   "metadata": {},
   "source": [
    "#### combine whitespaces\n",
    "strange chars were replaced with whitespaces in the previous steps. we need to combine multiple whitespaces into one whitespace. for example 'The   fox jumped   over    the log' -> 'The fox jumped over the log'"
   ]
  },
  {
   "cell_type": "code",
   "execution_count": 20,
   "metadata": {},
   "outputs": [
    {
     "name": "stdout",
     "output_type": "stream",
     "text": [
      "0    explanation edits made username hardcore metal...\n",
      "1    aww matches background colour seemingly stuck ...\n",
      "2    hey man really trying edit war guy constantly ...\n",
      "3    cannot make real suggestions improvement wonde...\n",
      "4                        sir hero chance remember page\n",
      "Name: comment_text, dtype: object\n"
     ]
    }
   ],
   "source": [
    "RemoveMultipleSpace = lambda text: ' '.join(text.split())\n",
    "merge = merge.apply(RemoveMultipleSpace)\n",
    "print(merge[:5])"
   ]
  },
  {
   "cell_type": "markdown",
   "metadata": {},
   "source": [
    "#### 验证数据中的字符集"
   ]
  },
  {
   "cell_type": "code",
   "execution_count": 23,
   "metadata": {},
   "outputs": [
    {
     "name": "stdout",
     "output_type": "stream",
     "text": [
      "ÿ\n",
      "'ÿ'\n",
      "255\n"
     ]
    }
   ],
   "source": [
    "def ComputeSetOfAlphabets(pd_series):\n",
    "    sets = pd_series.apply(lambda text: set(str(text)))\n",
    "    result = set([])\n",
    "    result = result.union(*sets)\n",
    "    return result\n",
    "\n",
    "def ShowUnicodeCodePoint(character):\n",
    "    print(character)\n",
    "    print(repr(character))\n",
    "    print(ord(character))\n",
    "    \n",
    "alphabet_set = ComputeSetOfAlphabets(merge)\n",
    "alphabet = list(alphabet_set)\n",
    "alphabet.sort()\n",
    "# print(alphabet)\n",
    "ShowUnicodeCodePoint(alphabet[-1])\n"
   ]
  },
  {
   "cell_type": "markdown",
   "metadata": {},
   "source": [
    "#### Save"
   ]
  },
  {
   "cell_type": "code",
   "execution_count": null,
   "metadata": {},
   "outputs": [],
   "source": [
    "train_clean = train.copy()\n",
    "train_clean[\"comment_text\"] = merge[:len(train)]\n",
    "test_clean = test.copy()\n",
    "test_clean[\"comment_text\"] = merge[len(train):].reset_index(drop=True, inplace=False)"
   ]
  },
  {
   "cell_type": "code",
   "execution_count": null,
   "metadata": {},
   "outputs": [],
   "source": [
    "root = 'E:\\\\DM\\\\NLP\\\\TMP_MEMORY'\n",
    "path_train_clean = join(root, 'train_clean.csv')\n",
    "path_test_clean = join(root, 'test_clean.csv')\n",
    "train_clean.to_csv(path_train_clean, encoding='utf-8', index=False, header=True)\n",
    "test_clean.to_csv(path_test_clean, encoding='utf-8', index=False, header=True)"
   ]
  },
  {
   "cell_type": "markdown",
   "metadata": {},
   "source": [
    "#### Sum Up"
   ]
  },
  {
   "cell_type": "code",
   "execution_count": null,
   "metadata": {},
   "outputs": [],
   "source": [
    "FUNCTIONS = []\n",
    "NAMES = []\n",
    "\n",
    "# lower case first\n",
    "FUNCTIONS.append(lambda text:text.lower())\n",
    "NAMES.append('lower case first')\n",
    "\n",
    "# get rid of '\\t \\n \\r'\n",
    "intab = '\\n\\t\\r'\n",
    "outtab = ''.join([' ' for number in range(len(intab))])\n",
    "trans_dict = str.maketrans(intab, outtab)\n",
    "FUNCTIONS.append(lambda text:text.translate(trans_dict))\n",
    "NAMES.append('get rid of \\\\t \\\\n \\\\r')\n",
    "\n",
    "# Get rid of spam\n",
    "MAX_LENGTH_SPAM = 30\n",
    "FUNCTIONS.append(lambda text: ' '.join([word if len(word)<MAX_LENGTH_SPAM else ' ' for word in text.split(' ')]))\n",
    "NAMES.append('Get rid of spam')\n",
    "\n",
    "# Text Normalization\n",
    "import unicodedata\n",
    "FUNCTIONS.append(lambda text:unicodedata.normalize('NFKC', text))\n",
    "NAMES.append('Text Normalization')\n",
    "\n",
    "# remove IP address\n",
    "pattern_ip = r'\\d{1,3}\\.\\d{1,3}\\.\\d{1,3}\\.\\d{1,3}'\n",
    "FUNCTIONS.append(lambda text: re.sub(pattern_ip, ' ip ', text))\n",
    "NAMES.append('remove IP address')\n",
    "\n",
    "# remove unwanted unicode alphabet\n",
    "import regex\n",
    "RemoveNonLatin_a = lambda text: regex.sub(r'[^\\p{Latin}\\p{Punctuation}\\p{Number}\\p{Separator}]', u'', text) \n",
    "RemoveNonLatin_b = lambda text: regex.sub(r'[^\\p{InBasic_Latin}\\p{InLatin-1_Supplement}\\p{Punctuation}\\p{Number}\\p{Separator}]', u'', text) \n",
    "FUNCTIONS.append(lambda text: RemoveNonLatin_a(RemoveNonLatin_b(text)))\n",
    "NAMES.append('remove unwanted unicode alphabet')\n",
    "\n",
    "# get rid of apostrophe\n",
    "def ConvertText(text):\n",
    "    result = [APPO[word] if word in APPO else word for word in text.split(' ')]\n",
    "    return ' '.join(result)\n",
    "FUNCTIONS.append(ConvertText)\n",
    "NAMES.append('get rid of apostrophe')\n",
    "\n",
    "# get rid of punctuations\n",
    "FUNCTIONS.append(lambda text: regex.sub(r'[\\p{Punctuation}]', u' ', text) )\n",
    "NAMES.append('get rid of punctuations')\n",
    "\n",
    "# get rid of stop words\n",
    "from nltk.corpus import stopwords\n",
    "eng_stopwords = stopwords.words(\"english\")\n",
    "eng_stopwords = [word for word in eng_stopwords if len(word)>1]\n",
    "eng_stopwords = set(eng_stopwords)\n",
    "FUNCTIONS.append(lambda text: ' '.join([word if word not in eng_stopwords else ' ' for word in text.split(' ')]))\n",
    "NAMES.append('get rid of stop words')\n",
    "\n",
    "# get rid of long words\n",
    "MAX_LENGH = 20\n",
    "FUNCTIONS.append(lambda text: ' '.join([word if len(word)<=MAX_LENGH else ' ' for word in text.split(' ')]))\n",
    "NAMES.append('get rid of long words')\n",
    "\n",
    "# get rid of numbers\n",
    "FUNCTIONS.append(lambda text: ' '.join([word if not word.isdigit() else ' ' for word in text.split(' ')]))\n",
    "NAMES.append('get rid of numbers')\n",
    "\n",
    "# combine whitespaces\n",
    "FUNCTIONS.append(lambda text: ' '.join(text.split()))\n",
    "NAMES.append('combine whitespaces')\n"
   ]
  },
  {
   "cell_type": "code",
   "execution_count": null,
   "metadata": {},
   "outputs": [],
   "source": [
    "GetLength = lambda text: len(text.split(' '))\n",
    "length = merge.apply(GetLength)\n",
    "length.sort_values(inplace=True, ascending=False)\n",
    "# length_distribute = length.value_counts(sort=True)\n",
    "extream_examples = length[:200]\n",
    "example_ids = []\n",
    "for example in extream_examples:\n",
    "    example_id = length[length==example].index[0]\n",
    "    example_ids.append(example_id)\n",
    "    # print('##############################################')\n",
    "    # print(merge_origin[example_id])\n",
    "    # print('**********************************************')\n",
    "    # print(merge[example_id])"
   ]
  },
  {
   "cell_type": "code",
   "execution_count": null,
   "metadata": {},
   "outputs": [],
   "source": [
    "##16\n",
    "##15\n",
    "origin = pd.concat([X_train, X_test]).reset_index(drop=True)\n",
    "text = origin[example_ids[195]][:100]\n",
    "print(text)"
   ]
  },
  {
   "cell_type": "code",
   "execution_count": null,
   "metadata": {},
   "outputs": [],
   "source": [
    "print(text)\n",
    "for func, name in zip(FUNCTIONS, NAMES):\n",
    "    print('####################')\n",
    "    print(name)\n",
    "    text = func(text)\n",
    "    print(text)"
   ]
  }
 ],
 "metadata": {
  "anaconda-cloud": {},
  "kernelspec": {
   "display_name": "Python [conda env:Anaconda3]",
   "language": "python",
   "name": "conda-env-Anaconda3-py"
  },
  "language_info": {
   "codemirror_mode": {
    "name": "ipython",
    "version": 3
   },
   "file_extension": ".py",
   "mimetype": "text/x-python",
   "name": "python",
   "nbconvert_exporter": "python",
   "pygments_lexer": "ipython3",
   "version": "3.5.4"
  }
 },
 "nbformat": 4,
 "nbformat_minor": 2
}
