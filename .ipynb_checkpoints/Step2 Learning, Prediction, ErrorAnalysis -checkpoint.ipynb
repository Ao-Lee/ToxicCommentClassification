{
 "cells": [
  {
   "cell_type": "code",
   "execution_count": null,
   "metadata": {},
   "outputs": [],
   "source": []
  },
  {
   "cell_type": "code",
   "execution_count": 12,
   "metadata": {},
   "outputs": [],
   "source": [
    "import numpy as np\n",
    "import pandas as pd\n",
    "import re\n",
    "from os.path import join, isfile\n",
    "from tqdm import tqdm\n",
    "from sklearn import metrics"
   ]
  },
  {
   "cell_type": "code",
   "execution_count": 6,
   "metadata": {},
   "outputs": [],
   "source": [
    "max_features=100000\n",
    "maxlen=150\n",
    "embed_size=300\n",
    "\n",
    "file_embedding_txt = join('E://DM//NLP//WordVec', 'glove.840B.300d.txt')\n",
    "path_tmp = join('E:\\\\DM\\\\NLP\\\\TMP_MEMORY','Toxic_Comment_Classification')\n",
    "file_model = join(path_tmp, 'weights_base.best.hdf5')\n",
    "file_embedding_matrix = join(path_tmp, 'embedding_matrix.hkl')\n",
    "file_train = join(path_tmp, 'train_clean.csv')\n",
    "file_test = join(path_tmp, 'test_clean.csv')\n",
    "file_submission = join(path_tmp, 'submission.csv')"
   ]
  },
  {
   "cell_type": "code",
   "execution_count": 3,
   "metadata": {},
   "outputs": [],
   "source": [
    "labels = [\"toxic\", \"severe_toxic\", \"obscene\", \"threat\", \"insult\", \"identity_hate\"]\n",
    "\n",
    "def GetData(file_train, file_test):\n",
    "    train = pd.read_csv(file_train, encoding='utf-8')\n",
    "    test = pd.read_csv(file_test, encoding='utf-8')\n",
    "    train[\"comment_text\"].fillna('fillna')\n",
    "    test[\"comment_text\"].fillna('fillna')\n",
    "    X_train = train[\"comment_text\"].apply(str)\n",
    "    X_test = test[\"comment_text\"].apply(str)\n",
    "\n",
    "    y_train = train[labels]\n",
    "    merge = pd.concat([X_train, X_test]).reset_index(drop=True)\n",
    "    merge = merge.astype('str')\n",
    "    return X_train, X_test, y_train, merge\n",
    "\n",
    "\n",
    "X_train, X_test, y_train, merge = GetData(file_train, file_test)\n",
    "\n",
    "\n"
   ]
  },
  {
   "cell_type": "code",
   "execution_count": 4,
   "metadata": {},
   "outputs": [
    {
     "data": {
      "text/plain": [
       "count     159571\n",
       "unique    157881\n",
       "top          nan\n",
       "freq          52\n",
       "Name: comment_text, dtype: object"
      ]
     },
     "execution_count": 4,
     "metadata": {},
     "output_type": "execute_result"
    }
   ],
   "source": [
    "X_train.describe()"
   ]
  },
  {
   "cell_type": "code",
   "execution_count": 5,
   "metadata": {},
   "outputs": [
    {
     "name": "stderr",
     "output_type": "stream",
     "text": [
      "D:\\Program Files\\Anaconda3\\lib\\site-packages\\h5py\\__init__.py:36: FutureWarning: Conversion of the second argument of issubdtype from `float` to `np.floating` is deprecated. In future, it will be treated as `np.float64 == np.dtype(float).type`.\n",
      "  from ._conv import register_converters as _register_converters\n",
      "Using TensorFlow backend.\n"
     ]
    },
    {
     "name": "stdout",
     "output_type": "stream",
     "text": [
      "length of X_train_seq:[26, 12, 22, 57, 5, 6, 4, 6, 45, 4]\n",
      "shape of X_train_pad: (159571, 150)\n"
     ]
    }
   ],
   "source": [
    "from keras.preprocessing import text, sequence\n",
    "\n",
    "tokenizer = text.Tokenizer(num_words=max_features, lower=True)\n",
    "copus = list(X_train) + list(X_test)\n",
    "copus = [str(x) for x in copus]\n",
    "tokenizer.fit_on_texts(copus)\n",
    "X_train_seq = tokenizer.texts_to_sequences(X_train)\n",
    "X_test_seq = tokenizer.texts_to_sequences(X_test)\n",
    "X_train_pad = sequence.pad_sequences(X_train_seq, maxlen=maxlen)\n",
    "X_test_pad = sequence.pad_sequences(X_test_seq, maxlen=maxlen)\n",
    "\n",
    "length_seq = [len(document) for document in X_train_seq[:10]]\n",
    "print('length of X_train_seq:' + str(length_seq))\n",
    "print('shape of X_train_pad: ' + str(X_train_pad.shape))"
   ]
  },
  {
   "cell_type": "code",
   "execution_count": 8,
   "metadata": {},
   "outputs": [
    {
     "name": "stderr",
     "output_type": "stream",
     "text": [
      "2196018it [04:29, 8136.49it/s] \n"
     ]
    },
    {
     "name": "stdout",
     "output_type": "stream",
     "text": [
      "2196017\n",
      "291655\n",
      "100000\n",
      "(100000, 300)\n",
      "number of words that are not found in the embedding_vector: 21248\n"
     ]
    }
   ],
   "source": [
    "def ReadWord2Vec():\n",
    "    embeddings_index = {}\n",
    "    with open(file_embedding_txt, encoding='utf8') as f:\n",
    "        for line in tqdm(f):\n",
    "            values = line.rstrip().rsplit(' ')\n",
    "            assert len(values)>=300\n",
    "            word = values[0]\n",
    "            coefs = np.asarray(values[1:], dtype='float32')\n",
    "            embeddings_index[word] = coefs\n",
    "    return embeddings_index\n",
    "\n",
    "def CreateEmbeddingMatrix():\n",
    "    embeddings_index = ReadWord2Vec()\n",
    "    word_index = tokenizer.word_index\n",
    "    num_words = min(max_features, len(word_index) + 1)\n",
    "    embedding_matrix = np.zeros((num_words, embed_size))\n",
    "    print(len(embeddings_index))\n",
    "    print(len(word_index))\n",
    "    print(max_features)\n",
    "    print(embedding_matrix.shape)\n",
    "    \n",
    "    num_missed = 0\n",
    "    for word, i in word_index.items():\n",
    "        if i >= max_features: continue\n",
    "        embedding_vector = embeddings_index.get(word)\n",
    "        if embedding_vector is not None:\n",
    "            # words not found in embedding index will be all-zeros.\n",
    "            embedding_matrix[i] = embedding_vector\n",
    "        else:\n",
    "            num_missed +=1\n",
    "    print('number of words that are not found in the embedding_vector: ' + str(num_missed))\n",
    "    return embedding_matrix\n",
    "\n",
    "\n",
    "    \n"
   ]
  },
  {
   "cell_type": "markdown",
   "metadata": {},
   "source": [
    "### How to store Large numpy arrays on disk in python\n",
    "* stackoverflow question: https://stackoverflow.com/questions/9619199/best-way-to-preserve-numpy-arrays-on-disk\n",
    "* pickle VS. hdf5: https://shocksolution.com/2010/01/10/storing-large-numpy-arrays-on-disk-python-pickle-vs-hdf5adsf/\n",
    "* hickle github: https://github.com/telegraphic/hickle\n",
    "* HDF is good for storing large numpy arrays\n",
    "* hickle aims to be exactly the same in usage as pickle, but using HDF for data storage\n",
    "\n",
    "```python\n",
    "import os\n",
    "import hickle as hkl\n",
    "import numpy as np\n",
    "    \n",
    "# Create a numpy array of data\n",
    "array_obj = np.ones(32768, dtype='float32')\n",
    "    \n",
    "# Dump to file\n",
    "hkl.dump(array_obj, 'test.hkl', mode='w')\n",
    "    \n",
    "# Dump data, with compression\n",
    "hkl.dump(array_obj, 'test_gzip.hkl', mode='w', compression='gzip')\n",
    "  \n",
    "# Compare filesizes\n",
    "print('uncompressed: %i bytes' % os.path.getsize('test.hkl'))\n",
    "print('compressed:   %i bytes' % os.path.getsize('test_gzip.hkl'))\n",
    "    \n",
    "# Load data\n",
    "array_hkl = hkl.load('test_gzip.hkl')\n",
    "    \n",
    "# Check the two are the same file\n",
    "assert array_hkl.dtype == array_obj.dtype\n",
    "assert np.all((array_hkl, array_obj))\n",
    "```\n"
   ]
  },
  {
   "cell_type": "code",
   "execution_count": 20,
   "metadata": {},
   "outputs": [],
   "source": [
    "import hickle as hkl\n",
    "def GetEmbeddingMatrix():\n",
    "    if isfile(file_embedding_matrix):\n",
    "        embedding_matrix = hkl.load(file_embedding_matrix)\n",
    "        hkl.dump(embedding_matrix, file_embedding_matrix, mode='w')\n",
    "    else:\n",
    "        embedding_matrix = CreateEmbeddingMatrix()\n",
    "    \n",
    "    return embedding_matrix\n",
    "\n",
    "# embedding_matrix = GetEmbeddingMatrix()\n"
   ]
  },
  {
   "cell_type": "code",
   "execution_count": 14,
   "metadata": {},
   "outputs": [],
   "source": [
    "from keras.callbacks import Callback\n",
    "from sklearn.metrics import accuracy_score\n",
    "from sklearn.metrics import roc_auc_score\n",
    "\n",
    "class RocAucEvaluation(Callback):\n",
    "    def __init__(self, validation_data=(), interval=1):\n",
    "        super(Callback, self).__init__()\n",
    "\n",
    "        self.interval = interval\n",
    "        self.X_val, self.y_val = validation_data\n",
    "\n",
    "    def on_epoch_end(self, epoch, logs={}):\n",
    "        if epoch % self.interval == 0:\n",
    "            y_pred = self.model.predict(self.X_val, verbose=0)\n",
    "            score = roc_auc_score(self.y_val, y_pred)\n",
    "            print(\"\\n ROC-AUC - epoch: {:d} - score: {:.6f}\".format(epoch+1, score))"
   ]
  },
  {
   "cell_type": "code",
   "execution_count": 21,
   "metadata": {},
   "outputs": [
    {
     "name": "stdout",
     "output_type": "stream",
     "text": [
      "__________________________________________________________________________________________________\n",
      "Layer (type)                    Output Shape         Param #     Connected to                     \n",
      "==================================================================================================\n",
      "input_2 (InputLayer)            (None, 150)          0                                            \n",
      "__________________________________________________________________________________________________\n",
      "embedding_2 (Embedding)         (None, 150, 300)     30000000    input_2[0][0]                    \n",
      "__________________________________________________________________________________________________\n",
      "spatial_dropout1d_1 (SpatialDro (None, 150, 300)     0           embedding_2[0][0]                \n",
      "__________________________________________________________________________________________________\n",
      "bidirectional_1 (Bidirectional) (None, 150, 256)     329472      spatial_dropout1d_1[0][0]        \n",
      "__________________________________________________________________________________________________\n",
      "conv1d_1 (Conv1D)               (None, 148, 64)      49216       bidirectional_1[0][0]            \n",
      "__________________________________________________________________________________________________\n",
      "global_average_pooling1d_1 (Glo (None, 64)           0           conv1d_1[0][0]                   \n",
      "__________________________________________________________________________________________________\n",
      "global_max_pooling1d_1 (GlobalM (None, 64)           0           conv1d_1[0][0]                   \n",
      "__________________________________________________________________________________________________\n",
      "concatenate_1 (Concatenate)     (None, 128)          0           global_average_pooling1d_1[0][0] \n",
      "                                                                 global_max_pooling1d_1[0][0]     \n",
      "__________________________________________________________________________________________________\n",
      "dense_1 (Dense)                 (None, 6)            774         concatenate_1[0][0]              \n",
      "==================================================================================================\n",
      "Total params: 30,379,462\n",
      "Trainable params: 379,462\n",
      "Non-trainable params: 30,000,000\n",
      "__________________________________________________________________________________________________\n"
     ]
    }
   ],
   "source": [
    "# A blog about LSTM-CNNs:\n",
    "# http://konukoii.com/blog/2018/02/19/twitter-sentiment-analysis-using-combined-lstm-cnn-models/\n",
    "from keras.layers import Dense,Input,Bidirectional,Activation,Conv1D,GRU, Dropout,Embedding\n",
    "from keras.layers import GlobalAveragePooling1D, GlobalMaxPooling1D, concatenate, SpatialDropout1D\n",
    "from keras.models import Model\n",
    "from keras.optimizers import Adam\n",
    "\n",
    "def GetModel():\n",
    "    sequence_input = Input(shape=(maxlen, ))\n",
    "    x = Embedding(max_features, embed_size, weights=[embedding_matrix],trainable = False)(sequence_input)\n",
    "    x = SpatialDropout1D(0.2)(x)\n",
    "    x = Bidirectional(GRU(128, return_sequences=True,dropout=0.1,recurrent_dropout=0.1))(x)\n",
    "    x = Conv1D(64, kernel_size = 3, padding = \"valid\", kernel_initializer = \"glorot_uniform\")(x)\n",
    "    avg_pool = GlobalAveragePooling1D()(x)\n",
    "    max_pool = GlobalMaxPooling1D()(x)\n",
    "    x = concatenate([avg_pool, max_pool]) \n",
    "    # x = Dense(128, activation='relu')(x)\n",
    "    # x = Dropout(0.1)(x)\n",
    "    preds = Dense(6, activation=\"sigmoid\")(x)\n",
    "    model = Model(sequence_input, preds)\n",
    "    model.compile(loss='binary_crossentropy',optimizer=Adam(lr=1e-3),metrics=['accuracy'])\n",
    "    return model\n",
    "\n",
    "model = GetModel()\n",
    "model.summary()"
   ]
  },
  {
   "cell_type": "code",
   "execution_count": 22,
   "metadata": {},
   "outputs": [],
   "source": [
    "epochs = 2\n",
    "batch_size = 128"
   ]
  },
  {
   "cell_type": "code",
   "execution_count": 23,
   "metadata": {},
   "outputs": [
    {
     "name": "stderr",
     "output_type": "stream",
     "text": [
      "D:\\Program Files\\Anaconda3\\lib\\site-packages\\sklearn\\model_selection\\_split.py:2026: FutureWarning: From version 0.21, test_size will always complement train_size unless both are specified.\n",
      "  FutureWarning)\n"
     ]
    }
   ],
   "source": [
    "from sklearn.model_selection import train_test_split\n",
    "X_tra, X_val, y_tra, y_val = train_test_split(X_train_pad, y_train, train_size=0.9, random_state=233)"
   ]
  },
  {
   "cell_type": "code",
   "execution_count": null,
   "metadata": {},
   "outputs": [],
   "source": [
    "from keras.callbacks import EarlyStopping, ModelCheckpoint\n",
    "checkpoint = ModelCheckpoint(file_model, monitor='val_acc', save_best_only=True, mode='max')\n",
    "early = EarlyStopping(monitor=\"val_acc\", mode=\"max\", patience=5)\n",
    "ra_val = RocAucEvaluation(validation_data=(X_val, y_val), interval = 1)\n",
    "callbacks_list = [ra_val,checkpoint, early]"
   ]
  },
  {
   "cell_type": "code",
   "execution_count": null,
   "metadata": {},
   "outputs": [],
   "source": [
    "# model.fit(X_tra, y_tra, batch_size=batch_size, epochs=epochs, validation_data=(X_val, y_val),callbacks = callbacks_list,verbose=1)    \n"
   ]
  },
  {
   "cell_type": "code",
   "execution_count": 60,
   "metadata": {},
   "outputs": [
    {
     "name": "stdout",
     "output_type": "stream",
     "text": [
      "Predicting....\n",
      "Done\n"
     ]
    }
   ],
   "source": [
    "model.load_weights(file_model)\n",
    "print('Predicting....')\n",
    "y_pred = model.predict(X_test_pad,batch_size=1024)\n",
    "submission = pd.read_csv('data/sample_submission.csv')\n",
    "submission[labels] = y_pred\n",
    "submission.to_csv(file_submission, index=False)\n",
    "print('Done')"
   ]
  },
  {
   "cell_type": "markdown",
   "metadata": {},
   "source": [
    "### Error Analysis"
   ]
  },
  {
   "cell_type": "code",
   "execution_count": null,
   "metadata": {},
   "outputs": [],
   "source": [
    "# this is the original data\n",
    "path_train_origin = 'data/train.csv'\n",
    "path_test_origin = 'data/test.csv'\n",
    "X_train_origin, X_test_origin, y_train, merge_origin = GetData(path_train_origin, path_test_origin)"
   ]
  },
  {
   "cell_type": "code",
   "execution_count": 70,
   "metadata": {},
   "outputs": [],
   "source": [
    "X = X_train_pad\n",
    "y = y_train\n",
    "\n",
    "y_pred = model.predict(X, batch_size=1024)\n",
    "target_class = 0 # toxic\n",
    "target_result = y_pred[:, target_class]\n",
    "target_gt = y[labels[target_class]]\n"
   ]
  },
  {
   "cell_type": "code",
   "execution_count": 98,
   "metadata": {},
   "outputs": [
    {
     "name": "stdout",
     "output_type": "stream",
     "text": [
      "0.86334765\n"
     ]
    }
   ],
   "source": [
    "def Cost(fpr, tpr):\n",
    "    a = 1-tpr\n",
    "    b = fpr\n",
    "    cost = a + 30*b\n",
    "    return cost\n",
    "\n",
    "# get the threshold that maximize the F1 score\n",
    "def GetBestThreshold(gt, pred):\n",
    "\n",
    "    fpr, tpr, thresholds = metrics.roc_curve(gt, pred)\n",
    "    cost = np.inf\n",
    "    threshold = None\n",
    "    for idx in range(len(thresholds)):\n",
    "        current_cost = Cost(fpr[idx], tpr[idx])\n",
    "        if current_cost < cost:\n",
    "            cost = current_cost\n",
    "            threshold = thresholds[idx]\n",
    "    return threshold, cost\n",
    "\n",
    "threshold, _ = GetBestThreshold(target_gt, target_result)\n",
    "print(threshold)"
   ]
  },
  {
   "cell_type": "code",
   "execution_count": 99,
   "metadata": {},
   "outputs": [
    {
     "name": "stdout",
     "output_type": "stream",
     "text": [
      "0.9806415376334906\n",
      "6734\n",
      "159571\n",
      "0.9577993495058625\n"
     ]
    }
   ],
   "source": [
    "print(metrics.roc_auc_score(target_gt, target_result))\n",
    "target_pred = target_result>threshold\n",
    "mask = target_gt!=target_pred\n",
    "error = np.sum(mask)\n",
    "total = len(mask)\n",
    "print(error)\n",
    "print(total)\n",
    "print((total-error)/total)"
   ]
  },
  {
   "cell_type": "code",
   "execution_count": 107,
   "metadata": {},
   "outputs": [],
   "source": [
    "#X_train, X_test, y_train, merge = GetData(file_train, file_test)\n",
    "misclassified_gt = target_gt[mask]\n",
    "misclassified_x =  X_train[mask]\n",
    "#X_train[:5]\n",
    "Error0 = misclassified_x[misclassified_gt==1] # misclassify toxic as healthy\n",
    "Error1 = misclassified_x[misclassified_gt==0] # misclassify healthy as toxic"
   ]
  },
  {
   "cell_type": "code",
   "execution_count": 111,
   "metadata": {},
   "outputs": [
    {
     "name": "stdout",
     "output_type": "stream",
     "text": [
      "hey talk exclusive group wp talibans good destroying self appointed purist gang one asks questions abt anti social destructive non contribution wp ask sityush clean behavior issue nonsensical warnings\n",
      "######################################\n",
      "bye look come think comming back tosser\n",
      "######################################\n",
      "i sorry i sorry i screwed around someones talk page bad i know templates talk page helps assert dominance i know i bow almighty administrators i going go play outside mom ip\n",
      "######################################\n",
      "cannot believe fat artie see recent appearence tonight show jay leno looks absolutely awful i put money i say artie lange a cannot miss candidate dead pool kindly keep malicious fingers comment everytime remove i repost\n",
      "######################################\n",
      "hi i back last warning stop undoing edits die\n",
      "######################################\n"
     ]
    }
   ],
   "source": [
    "for x in range(5):\n",
    "    current = Error0.index[x]\n",
    "    print(Error0[current])\n",
    "    print('@@@@@@@@@@@@@@@@@@@@@@@@@@@@@@@@@@@@@@')\n",
    "    print(X_train_origin[current])\n",
    "    print('######################################')"
   ]
  },
  {
   "cell_type": "code",
   "execution_count": null,
   "metadata": {},
   "outputs": [],
   "source": []
  }
 ],
 "metadata": {
  "anaconda-cloud": {},
  "kernelspec": {
   "display_name": "Python [conda env:Anaconda3]",
   "language": "python",
   "name": "conda-env-Anaconda3-py"
  },
  "language_info": {
   "codemirror_mode": {
    "name": "ipython",
    "version": 3
   },
   "file_extension": ".py",
   "mimetype": "text/x-python",
   "name": "python",
   "nbconvert_exporter": "python",
   "pygments_lexer": "ipython3",
   "version": "3.5.4"
  }
 },
 "nbformat": 4,
 "nbformat_minor": 2
}
