{
 "cells": [
  {
   "cell_type": "code",
   "execution_count": null,
   "metadata": {},
   "outputs": [],
   "source": []
  },
  {
   "cell_type": "code",
   "execution_count": 1,
   "metadata": {},
   "outputs": [],
   "source": [
    "import numpy as np\n",
    "import pandas as pd\n",
    "import re\n",
    "from os.path import join, isfile\n",
    "from tqdm import tqdm\n",
    "from sklearn import metrics"
   ]
  },
  {
   "cell_type": "code",
   "execution_count": 19,
   "metadata": {},
   "outputs": [],
   "source": [
    "max_features=100000\n",
    "maxlen=150\n",
    "embed_size=300\n",
    "\n",
    "file_embedding_txt = join('E://DM//NLP//WordVec', 'glove.840B.300d.txt')\n",
    "path_tmp = join('E:\\\\DM\\\\NLP\\\\TMP_MEMORY','ToxicCommentClassification')\n",
    "file_model = join(path_tmp, 'weights_base.best.hdf5')\n",
    "file_embedding_matrix = join(path_tmp, 'embedding_matrix.hkl')\n",
    "file_train = join(path_tmp, 'train_clean.csv')\n",
    "file_test = join(path_tmp, 'test_clean.csv')\n",
    "file_submission = join(path_tmp, 'submission.csv')\n",
    "file_submission_example = join(path_tmp, 'data', 'sample_submission.csv')"
   ]
  },
  {
   "cell_type": "code",
   "execution_count": 3,
   "metadata": {},
   "outputs": [],
   "source": [
    "labels = [\"toxic\", \"severe_toxic\", \"obscene\", \"threat\", \"insult\", \"identity_hate\"]\n",
    "\n",
    "def GetData(file_train, file_test):\n",
    "    train = pd.read_csv(file_train, encoding='utf-8')\n",
    "    test = pd.read_csv(file_test, encoding='utf-8')\n",
    "    train[\"comment_text\"].fillna('fillna')\n",
    "    test[\"comment_text\"].fillna('fillna')\n",
    "    X_train = train[\"comment_text\"].apply(str)\n",
    "    X_test = test[\"comment_text\"].apply(str)\n",
    "\n",
    "    y_train = train[labels]\n",
    "    merge = pd.concat([X_train, X_test]).reset_index(drop=True)\n",
    "    merge = merge.astype('str')\n",
    "    return X_train, X_test, y_train, merge\n",
    "\n",
    "\n",
    "X_train, X_test, y_train, merge = GetData(file_train, file_test)\n",
    "\n",
    "\n"
   ]
  },
  {
   "cell_type": "code",
   "execution_count": 4,
   "metadata": {},
   "outputs": [
    {
     "data": {
      "text/plain": [
       "count     159571\n",
       "unique    157881\n",
       "top          nan\n",
       "freq          52\n",
       "Name: comment_text, dtype: object"
      ]
     },
     "execution_count": 4,
     "metadata": {},
     "output_type": "execute_result"
    }
   ],
   "source": [
    "X_train.describe()"
   ]
  },
  {
   "cell_type": "code",
   "execution_count": 5,
   "metadata": {},
   "outputs": [
    {
     "name": "stderr",
     "output_type": "stream",
     "text": [
      "D:\\Program Files\\Anaconda3\\lib\\site-packages\\h5py\\__init__.py:36: FutureWarning: Conversion of the second argument of issubdtype from `float` to `np.floating` is deprecated. In future, it will be treated as `np.float64 == np.dtype(float).type`.\n",
      "  from ._conv import register_converters as _register_converters\n",
      "Using TensorFlow backend.\n"
     ]
    },
    {
     "name": "stdout",
     "output_type": "stream",
     "text": [
      "length of X_train_seq:[26, 12, 22, 57, 5, 6, 4, 6, 45, 4]\n",
      "shape of X_train_pad: (159571, 150)\n"
     ]
    }
   ],
   "source": [
    "from keras.preprocessing import text, sequence\n",
    "\n",
    "tokenizer = text.Tokenizer(num_words=max_features, lower=True)\n",
    "copus = list(X_train) + list(X_test)\n",
    "copus = [str(x) for x in copus]\n",
    "tokenizer.fit_on_texts(copus)\n",
    "X_train_seq = tokenizer.texts_to_sequences(X_train)\n",
    "X_test_seq = tokenizer.texts_to_sequences(X_test)\n",
    "X_train_pad = sequence.pad_sequences(X_train_seq, maxlen=maxlen)\n",
    "X_test_pad = sequence.pad_sequences(X_test_seq, maxlen=maxlen)\n",
    "\n",
    "length_seq = [len(document) for document in X_train_seq[:10]]\n",
    "print('length of X_train_seq:' + str(length_seq))\n",
    "print('shape of X_train_pad: ' + str(X_train_pad.shape))"
   ]
  },
  {
   "cell_type": "code",
   "execution_count": 6,
   "metadata": {},
   "outputs": [],
   "source": [
    "def ReadWord2Vec():\n",
    "    embeddings_index = {}\n",
    "    with open(file_embedding_txt, encoding='utf8') as f:\n",
    "        for line in tqdm(f):\n",
    "            values = line.rstrip().rsplit(' ')\n",
    "            assert len(values)>=300\n",
    "            word = values[0]\n",
    "            coefs = np.asarray(values[1:], dtype='float32')\n",
    "            embeddings_index[word] = coefs\n",
    "    return embeddings_index\n",
    "\n",
    "def GetEmbeddingStat(embeddings_index):\n",
    "    all_embs = np.stack(embeddings_index.values())\n",
    "    emb_mean,emb_std = all_embs.mean(), all_embs.std()\n",
    "    return emb_mean, emb_std\n",
    "\n",
    "def CreateEmbeddingMatrix():\n",
    "    embeddings_index = ReadWord2Vec()\n",
    "    emb_mean, emb_std = GetEmbeddingStat(embeddings_index)\n",
    "    word_index = tokenizer.word_index\n",
    "    num_words = min(max_features, len(word_index) + 1)\n",
    "    embedding_matrix = np.random.normal(emb_mean, emb_std, (num_words, embed_size))\n",
    "    print(len(embeddings_index))\n",
    "    print(len(word_index))\n",
    "    print(max_features)\n",
    "    print(embedding_matrix.shape)\n",
    "    \n",
    "    num_missed = 0\n",
    "    for word, i in word_index.items():\n",
    "        if i >= max_features: continue\n",
    "        embedding_vector = embeddings_index.get(word)\n",
    "        if embedding_vector is not None:\n",
    "            # words not found in embedding index will be all-zeros.\n",
    "            embedding_matrix[i] = embedding_vector\n",
    "        else:\n",
    "            num_missed +=1\n",
    "    print('number of words that are not found in the embedding_vector: ' + str(num_missed))\n",
    "    return embedding_matrix\n",
    "\n",
    "\n",
    "    \n"
   ]
  },
  {
   "cell_type": "markdown",
   "metadata": {},
   "source": [
    "### How to store Large numpy arrays on disk in python\n",
    "* stackoverflow question: https://stackoverflow.com/questions/9619199/best-way-to-preserve-numpy-arrays-on-disk\n",
    "* pickle VS. hdf5: https://shocksolution.com/2010/01/10/storing-large-numpy-arrays-on-disk-python-pickle-vs-hdf5adsf/\n",
    "* hickle github: https://github.com/telegraphic/hickle\n",
    "* HDF is good for storing large numpy arrays\n",
    "* hickle aims to be exactly the same in usage as pickle, but using HDF for data storage\n",
    "\n",
    "```python\n",
    "import os\n",
    "import hickle as hkl\n",
    "import numpy as np\n",
    "    \n",
    "# Create a numpy array of data\n",
    "array_obj = np.ones(32768, dtype='float32')\n",
    "    \n",
    "# Dump to file\n",
    "hkl.dump(array_obj, 'test.hkl', mode='w')\n",
    "    \n",
    "# Dump data, with compression\n",
    "hkl.dump(array_obj, 'test_gzip.hkl', mode='w', compression='gzip')\n",
    "  \n",
    "# Compare filesizes\n",
    "print('uncompressed: %i bytes' % os.path.getsize('test.hkl'))\n",
    "print('compressed:   %i bytes' % os.path.getsize('test_gzip.hkl'))\n",
    "    \n",
    "# Load data\n",
    "array_hkl = hkl.load('test_gzip.hkl')\n",
    "    \n",
    "# Check the two are the same file\n",
    "assert array_hkl.dtype == array_obj.dtype\n",
    "assert np.all((array_hkl, array_obj))\n",
    "```\n"
   ]
  },
  {
   "cell_type": "code",
   "execution_count": 7,
   "metadata": {},
   "outputs": [
    {
     "name": "stderr",
     "output_type": "stream",
     "text": [
      "2196018it [05:34, 6572.99it/s]\n"
     ]
    },
    {
     "name": "stdout",
     "output_type": "stream",
     "text": [
      "2196017\n",
      "291655\n",
      "100000\n",
      "(100000, 300)\n",
      "number of words that are not found in the embedding_vector: 21248\n"
     ]
    }
   ],
   "source": [
    "import hickle as hkl\n",
    "def GetEmbeddingMatrix():\n",
    "    if isfile(file_embedding_matrix):\n",
    "        embedding_matrix = hkl.load(file_embedding_matrix)\n",
    "        hkl.dump(embedding_matrix, file_embedding_matrix, mode='w')\n",
    "    else:\n",
    "        embedding_matrix = CreateEmbeddingMatrix()\n",
    "    \n",
    "    return embedding_matrix\n",
    "\n",
    "embedding_matrix = GetEmbeddingMatrix()\n"
   ]
  },
  {
   "cell_type": "code",
   "execution_count": 8,
   "metadata": {},
   "outputs": [],
   "source": [
    "from keras.callbacks import Callback\n",
    "from sklearn.metrics import accuracy_score\n",
    "from sklearn.metrics import roc_auc_score\n",
    "\n",
    "class RocAucEvaluation(Callback):\n",
    "    def __init__(self, validation_data=(), interval=1):\n",
    "        super(Callback, self).__init__()\n",
    "\n",
    "        self.interval = interval\n",
    "        self.X_val, self.y_val = validation_data\n",
    "\n",
    "    def on_epoch_end(self, epoch, logs={}):\n",
    "        if epoch % self.interval == 0:\n",
    "            y_pred = self.model.predict(self.X_val, verbose=0)\n",
    "            score = roc_auc_score(self.y_val, y_pred)\n",
    "            print(\"\\n ROC-AUC - epoch: {:d} - score: {:.6f}\".format(epoch+1, score))"
   ]
  },
  {
   "cell_type": "code",
   "execution_count": 9,
   "metadata": {},
   "outputs": [
    {
     "name": "stdout",
     "output_type": "stream",
     "text": [
      "__________________________________________________________________________________________________\n",
      "Layer (type)                    Output Shape         Param #     Connected to                     \n",
      "==================================================================================================\n",
      "input_1 (InputLayer)            (None, 150)          0                                            \n",
      "__________________________________________________________________________________________________\n",
      "embedding_1 (Embedding)         (None, 150, 300)     30000000    input_1[0][0]                    \n",
      "__________________________________________________________________________________________________\n",
      "spatial_dropout1d_1 (SpatialDro (None, 150, 300)     0           embedding_1[0][0]                \n",
      "__________________________________________________________________________________________________\n",
      "bidirectional_1 (Bidirectional) (None, 150, 256)     329472      spatial_dropout1d_1[0][0]        \n",
      "__________________________________________________________________________________________________\n",
      "conv1d_1 (Conv1D)               (None, 148, 64)      49216       bidirectional_1[0][0]            \n",
      "__________________________________________________________________________________________________\n",
      "global_average_pooling1d_1 (Glo (None, 64)           0           conv1d_1[0][0]                   \n",
      "__________________________________________________________________________________________________\n",
      "global_max_pooling1d_1 (GlobalM (None, 64)           0           conv1d_1[0][0]                   \n",
      "__________________________________________________________________________________________________\n",
      "concatenate_1 (Concatenate)     (None, 128)          0           global_average_pooling1d_1[0][0] \n",
      "                                                                 global_max_pooling1d_1[0][0]     \n",
      "__________________________________________________________________________________________________\n",
      "dense_1 (Dense)                 (None, 6)            774         concatenate_1[0][0]              \n",
      "==================================================================================================\n",
      "Total params: 30,379,462\n",
      "Trainable params: 379,462\n",
      "Non-trainable params: 30,000,000\n",
      "__________________________________________________________________________________________________\n"
     ]
    }
   ],
   "source": [
    "# A blog about LSTM-CNNs:\n",
    "# http://konukoii.com/blog/2018/02/19/twitter-sentiment-analysis-using-combined-lstm-cnn-models/\n",
    "from keras.layers import Dense,Input,Bidirectional,Activation,Conv1D,GRU, Dropout,Embedding\n",
    "from keras.layers import GlobalAveragePooling1D, GlobalMaxPooling1D, concatenate, SpatialDropout1D\n",
    "from keras.models import Model\n",
    "from keras.optimizers import Adam\n",
    "\n",
    "def GetModel():\n",
    "    sequence_input = Input(shape=(maxlen, ))\n",
    "    x = Embedding(max_features, embed_size, weights=[embedding_matrix],trainable = False)(sequence_input)\n",
    "    x = SpatialDropout1D(0.2)(x)\n",
    "    x = Bidirectional(GRU(128, return_sequences=True,dropout=0.1,recurrent_dropout=0.1))(x)\n",
    "    x = Conv1D(64, kernel_size = 3, padding = \"valid\", kernel_initializer = \"glorot_uniform\")(x)\n",
    "    avg_pool = GlobalAveragePooling1D()(x)\n",
    "    max_pool = GlobalMaxPooling1D()(x)\n",
    "    x = concatenate([avg_pool, max_pool]) \n",
    "    # x = Dense(128, activation='relu')(x)\n",
    "    # x = Dropout(0.1)(x)\n",
    "    preds = Dense(6, activation=\"sigmoid\")(x)\n",
    "    model = Model(sequence_input, preds)\n",
    "    model.compile(loss='binary_crossentropy',optimizer=Adam(lr=1e-3),metrics=['accuracy'])\n",
    "    return model\n",
    "\n",
    "model = GetModel()\n",
    "model.summary()"
   ]
  },
  {
   "cell_type": "code",
   "execution_count": 12,
   "metadata": {},
   "outputs": [
    {
     "name": "stderr",
     "output_type": "stream",
     "text": [
      "D:\\Program Files\\Anaconda3\\lib\\site-packages\\sklearn\\model_selection\\_split.py:2026: FutureWarning: From version 0.21, test_size will always complement train_size unless both are specified.\n",
      "  FutureWarning)\n"
     ]
    }
   ],
   "source": [
    "from sklearn.model_selection import train_test_split\n",
    "X_tra, X_val, y_tra, y_val = train_test_split(X_train_pad, y_train, train_size=0.9, random_state=233)"
   ]
  },
  {
   "cell_type": "code",
   "execution_count": 13,
   "metadata": {},
   "outputs": [],
   "source": [
    "from keras.callbacks import EarlyStopping, ModelCheckpoint\n",
    "checkpoint = ModelCheckpoint(file_model, monitor='val_acc', save_best_only=True, mode='max')\n",
    "early = EarlyStopping(monitor=\"val_acc\", mode=\"max\", patience=5)\n",
    "ra_val = RocAucEvaluation(validation_data=(X_val, y_val), interval = 1)\n",
    "callbacks_list = [ra_val,checkpoint, early]"
   ]
  },
  {
   "cell_type": "code",
   "execution_count": 14,
   "metadata": {},
   "outputs": [
    {
     "name": "stdout",
     "output_type": "stream",
     "text": [
      "Train on 143613 samples, validate on 15958 samples\n",
      "Epoch 1/1\n"
     ]
    },
    {
     "name": "stdout",
     "output_type": "stream",
     "text": [
      " 25856/143613 [====>.........................] - ETA: 1:29:20 - loss: 0.6054 - acc: 0.66 - ETA: 51:43 - loss: 0.4402 - acc: 0.8223 - ETA: 39:34 - loss: 0.3563 - acc: 0.86 - ETA: 33:11 - loss: 0.3184 - acc: 0.88 - ETA: 29:39 - loss: 0.2914 - acc: 0.90 - ETA: 27:28 - loss: 0.2588 - acc: 0.91 - ETA: 25:26 - loss: 0.2379 - acc: 0.92 - ETA: 24:13 - loss: 0.2262 - acc: 0.93 - ETA: 23:25 - loss: 0.2162 - acc: 0.93 - ETA: 22:31 - loss: 0.2059 - acc: 0.93 - ETA: 21:52 - loss: 0.2037 - acc: 0.94 - ETA: 21:24 - loss: 0.2018 - acc: 0.94 - ETA: 20:50 - loss: 0.2001 - acc: 0.94 - ETA: 20:22 - loss: 0.1978 - acc: 0.94 - ETA: 19:54 - loss: 0.1930 - acc: 0.94 - ETA: 19:34 - loss: 0.1919 - acc: 0.94 - ETA: 19:19 - loss: 0.1912 - acc: 0.94 - ETA: 18:57 - loss: 0.1897 - acc: 0.94 - ETA: 18:44 - loss: 0.1847 - acc: 0.94 - ETA: 18:25 - loss: 0.1823 - acc: 0.95 - ETA: 18:16 - loss: 0.1806 - acc: 0.95 - ETA: 18:04 - loss: 0.1756 - acc: 0.95 - ETA: 17:50 - loss: 0.1727 - acc: 0.95 - ETA: 17:40 - loss: 0.1714 - acc: 0.95 - ETA: 17:38 - loss: 0.1687 - acc: 0.95 - ETA: 17:25 - loss: 0.1693 - acc: 0.95 - ETA: 17:14 - loss: 0.1693 - acc: 0.95 - ETA: 17:08 - loss: 0.1688 - acc: 0.95 - ETA: 17:01 - loss: 0.1668 - acc: 0.95 - ETA: 16:56 - loss: 0.1656 - acc: 0.95 - ETA: 16:49 - loss: 0.1637 - acc: 0.95 - ETA: 16:41 - loss: 0.1617 - acc: 0.95 - ETA: 16:34 - loss: 0.1593 - acc: 0.95 - ETA: 16:29 - loss: 0.1598 - acc: 0.95 - ETA: 16:26 - loss: 0.1586 - acc: 0.95 - ETA: 16:22 - loss: 0.1584 - acc: 0.95 - ETA: 16:17 - loss: 0.1564 - acc: 0.95 - ETA: 16:17 - loss: 0.1547 - acc: 0.95 - ETA: 16:11 - loss: 0.1537 - acc: 0.95 - ETA: 16:06 - loss: 0.1535 - acc: 0.95 - ETA: 16:02 - loss: 0.1522 - acc: 0.95 - ETA: 15:58 - loss: 0.1513 - acc: 0.95 - ETA: 15:55 - loss: 0.1510 - acc: 0.95 - ETA: 15:52 - loss: 0.1505 - acc: 0.95 - ETA: 15:47 - loss: 0.1491 - acc: 0.95 - ETA: 15:42 - loss: 0.1482 - acc: 0.95 - ETA: 15:37 - loss: 0.1478 - acc: 0.95 - ETA: 15:32 - loss: 0.1479 - acc: 0.95 - ETA: 15:28 - loss: 0.1473 - acc: 0.95 - ETA: 15:27 - loss: 0.1461 - acc: 0.95 - ETA: 15:27 - loss: 0.1452 - acc: 0.95 - ETA: 15:25 - loss: 0.1440 - acc: 0.95 - ETA: 15:26 - loss: 0.1436 - acc: 0.95 - ETA: 15:24 - loss: 0.1424 - acc: 0.96 - ETA: 15:22 - loss: 0.1415 - acc: 0.96 - ETA: 15:20 - loss: 0.1405 - acc: 0.96 - ETA: 15:18 - loss: 0.1393 - acc: 0.96 - ETA: 15:16 - loss: 0.1378 - acc: 0.96 - ETA: 15:15 - loss: 0.1375 - acc: 0.96 - ETA: 15:13 - loss: 0.1366 - acc: 0.96 - ETA: 15:11 - loss: 0.1358 - acc: 0.96 - ETA: 15:10 - loss: 0.1349 - acc: 0.96 - ETA: 15:11 - loss: 0.1342 - acc: 0.96 - ETA: 15:09 - loss: 0.1335 - acc: 0.96 - ETA: 15:08 - loss: 0.1326 - acc: 0.96 - ETA: 15:06 - loss: 0.1320 - acc: 0.96 - ETA: 15:04 - loss: 0.1317 - acc: 0.96 - ETA: 15:04 - loss: 0.1311 - acc: 0.96 - ETA: 15:05 - loss: 0.1307 - acc: 0.96 - ETA: 15:05 - loss: 0.1296 - acc: 0.96 - ETA: 15:06 - loss: 0.1294 - acc: 0.96 - ETA: 15:04 - loss: 0.1288 - acc: 0.96 - ETA: 15:03 - loss: 0.1280 - acc: 0.96 - ETA: 15:02 - loss: 0.1270 - acc: 0.96 - ETA: 14:59 - loss: 0.1262 - acc: 0.96 - ETA: 14:58 - loss: 0.1255 - acc: 0.96 - ETA: 14:56 - loss: 0.1248 - acc: 0.96 - ETA: 14:53 - loss: 0.1238 - acc: 0.96 - ETA: 14:52 - loss: 0.1232 - acc: 0.96 - ETA: 14:50 - loss: 0.1230 - acc: 0.96 - ETA: 14:50 - loss: 0.1222 - acc: 0.96 - ETA: 14:49 - loss: 0.1216 - acc: 0.96 - ETA: 14:49 - loss: 0.1209 - acc: 0.96 - ETA: 14:48 - loss: 0.1199 - acc: 0.96 - ETA: 14:48 - loss: 0.1192 - acc: 0.96 - ETA: 14:48 - loss: 0.1184 - acc: 0.96 - ETA: 14:47 - loss: 0.1177 - acc: 0.96 - ETA: 14:48 - loss: 0.1178 - acc: 0.96 - ETA: 14:47 - loss: 0.1170 - acc: 0.96 - ETA: 14:47 - loss: 0.1163 - acc: 0.96 - ETA: 14:46 - loss: 0.1159 - acc: 0.96 - ETA: 14:46 - loss: 0.1151 - acc: 0.96 - ETA: 14:46 - loss: 0.1146 - acc: 0.96 - ETA: 14:46 - loss: 0.1139 - acc: 0.96 - ETA: 14:44 - loss: 0.1133 - acc: 0.96 - ETA: 14:42 - loss: 0.1131 - acc: 0.96 - ETA: 14:43 - loss: 0.1124 - acc: 0.96 - ETA: 14:41 - loss: 0.1119 - acc: 0.96 - ETA: 14:40 - loss: 0.1113 - acc: 0.96 - ETA: 14:40 - loss: 0.1109 - acc: 0.96 - ETA: 14:39 - loss: 0.1103 - acc: 0.96 - ETA: 14:39 - loss: 0.1098 - acc: 0.96 - ETA: 14:38 - loss: 0.1095 - acc: 0.96 - ETA: 14:36 - loss: 0.1092 - acc: 0.96 - ETA: 14:34 - loss: 0.1087 - acc: 0.96 - ETA: 14:33 - loss: 0.1085 - acc: 0.96 - ETA: 14:32 - loss: 0.1080 - acc: 0.96 - ETA: 14:31 - loss: 0.1078 - acc: 0.96 - ETA: 14:30 - loss: 0.1074 - acc: 0.96 - ETA: 14:29 - loss: 0.1072 - acc: 0.96 - ETA: 14:29 - loss: 0.1067 - acc: 0.96 - ETA: 14:28 - loss: 0.1066 - acc: 0.96 - ETA: 14:26 - loss: 0.1062 - acc: 0.96 - ETA: 14:25 - loss: 0.1058 - acc: 0.96 - ETA: 14:24 - loss: 0.1054 - acc: 0.96 - ETA: 14:24 - loss: 0.1049 - acc: 0.96 - ETA: 14:24 - loss: 0.1045 - acc: 0.96 - ETA: 14:23 - loss: 0.1042 - acc: 0.96 - ETA: 14:23 - loss: 0.1037 - acc: 0.96 - ETA: 14:22 - loss: 0.1034 - acc: 0.96 - ETA: 14:22 - loss: 0.1032 - acc: 0.96 - ETA: 14:20 - loss: 0.1027 - acc: 0.96 - ETA: 14:20 - loss: 0.1024 - acc: 0.96 - ETA: 14:21 - loss: 0.1022 - acc: 0.96 - ETA: 14:21 - loss: 0.1018 - acc: 0.96 - ETA: 14:20 - loss: 0.1012 - acc: 0.96 - ETA: 14:20 - loss: 0.1011 - acc: 0.96 - ETA: 14:20 - loss: 0.1007 - acc: 0.96 - ETA: 14:20 - loss: 0.1004 - acc: 0.96 - ETA: 14:19 - loss: 0.1000 - acc: 0.96 - ETA: 14:18 - loss: 0.0997 - acc: 0.96 - ETA: 14:16 - loss: 0.0995 - acc: 0.96 - ETA: 14:15 - loss: 0.0992 - acc: 0.96 - ETA: 14:15 - loss: 0.0986 - acc: 0.97 - ETA: 14:15 - loss: 0.0985 - acc: 0.97 - ETA: 14:14 - loss: 0.0983 - acc: 0.97 - ETA: 14:13 - loss: 0.0980 - acc: 0.97 - ETA: 14:13 - loss: 0.0975 - acc: 0.97 - ETA: 14:13 - loss: 0.0972 - acc: 0.97 - ETA: 14:13 - loss: 0.0968 - acc: 0.97 - ETA: 14:12 - loss: 0.0964 - acc: 0.97 - ETA: 14:11 - loss: 0.0962 - acc: 0.97 - ETA: 14:10 - loss: 0.0960 - acc: 0.97 - ETA: 14:08 - loss: 0.0955 - acc: 0.97 - ETA: 14:07 - loss: 0.0955 - acc: 0.97 - ETA: 14:06 - loss: 0.0952 - acc: 0.97 - ETA: 14:05 - loss: 0.0948 - acc: 0.97 - ETA: 14:04 - loss: 0.0945 - acc: 0.97 - ETA: 14:03 - loss: 0.0942 - acc: 0.97 - ETA: 14:02 - loss: 0.0940 - acc: 0.97 - ETA: 14:02 - loss: 0.0937 - acc: 0.97 - ETA: 14:01 - loss: 0.0934 - acc: 0.97 - ETA: 14:01 - loss: 0.0932 - acc: 0.97 - ETA: 13:59 - loss: 0.0930 - acc: 0.97 - ETA: 13:58 - loss: 0.0930 - acc: 0.97 - ETA: 13:57 - loss: 0.0929 - acc: 0.97 - ETA: 13:57 - loss: 0.0927 - acc: 0.97 - ETA: 13:55 - loss: 0.0924 - acc: 0.97 - ETA: 13:55 - loss: 0.0922 - acc: 0.97 - ETA: 13:55 - loss: 0.0919 - acc: 0.97 - ETA: 13:54 - loss: 0.0917 - acc: 0.97 - ETA: 13:53 - loss: 0.0913 - acc: 0.97 - ETA: 13:52 - loss: 0.0909 - acc: 0.97 - ETA: 13:52 - loss: 0.0909 - acc: 0.97 - ETA: 13:51 - loss: 0.0909 - acc: 0.97 - ETA: 13:50 - loss: 0.0908 - acc: 0.97 - ETA: 13:49 - loss: 0.0906 - acc: 0.97 - ETA: 13:49 - loss: 0.0904 - acc: 0.97 - ETA: 13:48 - loss: 0.0902 - acc: 0.97 - ETA: 13:47 - loss: 0.0901 - acc: 0.97 - ETA: 13:47 - loss: 0.0897 - acc: 0.97 - ETA: 13:47 - loss: 0.0894 - acc: 0.97 - ETA: 13:48 - loss: 0.0892 - acc: 0.97 - ETA: 13:46 - loss: 0.0891 - acc: 0.97 - ETA: 13:44 - loss: 0.0890 - acc: 0.97 - ETA: 13:43 - loss: 0.0889 - acc: 0.97 - ETA: 13:41 - loss: 0.0887 - acc: 0.97 - ETA: 13:40 - loss: 0.0885 - acc: 0.97 - ETA: 13:39 - loss: 0.0883 - acc: 0.97 - ETA: 13:39 - loss: 0.0881 - acc: 0.97 - ETA: 13:38 - loss: 0.0879 - acc: 0.97 - ETA: 13:37 - loss: 0.0876 - acc: 0.97 - ETA: 13:35 - loss: 0.0874 - acc: 0.97 - ETA: 13:35 - loss: 0.0871 - acc: 0.97 - ETA: 13:33 - loss: 0.0871 - acc: 0.97 - ETA: 13:32 - loss: 0.0868 - acc: 0.97 - ETA: 13:31 - loss: 0.0867 - acc: 0.97 - ETA: 13:30 - loss: 0.0866 - acc: 0.97 - ETA: 13:30 - loss: 0.0866 - acc: 0.97 - ETA: 13:29 - loss: 0.0865 - acc: 0.97 - ETA: 13:29 - loss: 0.0864 - acc: 0.97 - ETA: 13:28 - loss: 0.0862 - acc: 0.97 - ETA: 13:28 - loss: 0.0859 - acc: 0.97 - ETA: 13:27 - loss: 0.0858 - acc: 0.97 - ETA: 13:26 - loss: 0.0857 - acc: 0.97 - ETA: 13:25 - loss: 0.0857 - acc: 0.97 - ETA: 13:24 - loss: 0.0856 - acc: 0.97 - ETA: 13:23 - loss: 0.0855 - acc: 0.97 - ETA: 13:23 - loss: 0.0855 - acc: 0.97 - ETA: 13:22 - loss: 0.0853 - acc: 0.97 - ETA: 13:21 - loss: 0.0852 - acc: 0.97 - ETA: 13:20 - loss: 0.0852 - acc: 0.9733\b\b\b\b\b\b\b\b\b\b\b\b\b\b\b\b\b\b\b\b\b\b\b\b\b\b\b\b\b\b\b\b\b\b\b\b\b\b\b\b\b\b\b\b\b\b\b\b\b\b\b\b\b\b\b\b\b\b\b\b\b\b\b\b\b\b\b\b\b\b\b\b\b\b\b\b\b\b\b\b\b\b\b\b\b\b\b\b"
     ]
    },
    {
     "name": "stdout",
     "output_type": "stream",
     "text": [
      " 51968/143613 [=========>....................] - ETA: 13:19 - loss: 0.0849 - acc: 0.97 - ETA: 13:17 - loss: 0.0847 - acc: 0.97 - ETA: 13:16 - loss: 0.0845 - acc: 0.97 - ETA: 13:15 - loss: 0.0845 - acc: 0.97 - ETA: 13:13 - loss: 0.0843 - acc: 0.97 - ETA: 13:13 - loss: 0.0843 - acc: 0.97 - ETA: 13:12 - loss: 0.0843 - acc: 0.97 - ETA: 13:11 - loss: 0.0841 - acc: 0.97 - ETA: 13:10 - loss: 0.0840 - acc: 0.97 - ETA: 13:09 - loss: 0.0839 - acc: 0.97 - ETA: 13:09 - loss: 0.0838 - acc: 0.97 - ETA: 13:08 - loss: 0.0837 - acc: 0.97 - ETA: 13:08 - loss: 0.0837 - acc: 0.97 - ETA: 13:07 - loss: 0.0838 - acc: 0.97 - ETA: 13:06 - loss: 0.0837 - acc: 0.97 - ETA: 13:05 - loss: 0.0836 - acc: 0.97 - ETA: 13:04 - loss: 0.0836 - acc: 0.97 - ETA: 13:03 - loss: 0.0834 - acc: 0.97 - ETA: 13:02 - loss: 0.0833 - acc: 0.97 - ETA: 13:01 - loss: 0.0831 - acc: 0.97 - ETA: 12:59 - loss: 0.0829 - acc: 0.97 - ETA: 12:58 - loss: 0.0828 - acc: 0.97 - ETA: 12:58 - loss: 0.0826 - acc: 0.97 - ETA: 12:57 - loss: 0.0826 - acc: 0.97 - ETA: 12:55 - loss: 0.0824 - acc: 0.97 - ETA: 12:54 - loss: 0.0823 - acc: 0.97 - ETA: 12:53 - loss: 0.0822 - acc: 0.97 - ETA: 12:52 - loss: 0.0820 - acc: 0.97 - ETA: 12:51 - loss: 0.0818 - acc: 0.97 - ETA: 12:51 - loss: 0.0818 - acc: 0.97 - ETA: 12:50 - loss: 0.0817 - acc: 0.97 - ETA: 12:49 - loss: 0.0816 - acc: 0.97 - ETA: 12:48 - loss: 0.0815 - acc: 0.97 - ETA: 12:47 - loss: 0.0814 - acc: 0.97 - ETA: 12:46 - loss: 0.0813 - acc: 0.97 - ETA: 12:45 - loss: 0.0812 - acc: 0.97 - ETA: 12:44 - loss: 0.0810 - acc: 0.97 - ETA: 12:43 - loss: 0.0808 - acc: 0.97 - ETA: 12:42 - loss: 0.0807 - acc: 0.97 - ETA: 12:42 - loss: 0.0806 - acc: 0.97 - ETA: 12:41 - loss: 0.0805 - acc: 0.97 - ETA: 12:41 - loss: 0.0806 - acc: 0.97 - ETA: 12:40 - loss: 0.0804 - acc: 0.97 - ETA: 12:39 - loss: 0.0802 - acc: 0.97 - ETA: 12:38 - loss: 0.0801 - acc: 0.97 - ETA: 12:38 - loss: 0.0799 - acc: 0.97 - ETA: 12:37 - loss: 0.0799 - acc: 0.97 - ETA: 12:36 - loss: 0.0797 - acc: 0.97 - ETA: 12:35 - loss: 0.0796 - acc: 0.97 - ETA: 12:34 - loss: 0.0796 - acc: 0.97 - ETA: 12:33 - loss: 0.0796 - acc: 0.97 - ETA: 12:32 - loss: 0.0796 - acc: 0.97 - ETA: 12:32 - loss: 0.0795 - acc: 0.97 - ETA: 12:31 - loss: 0.0794 - acc: 0.97 - ETA: 12:30 - loss: 0.0792 - acc: 0.97 - ETA: 12:30 - loss: 0.0791 - acc: 0.97 - ETA: 12:30 - loss: 0.0790 - acc: 0.97 - ETA: 12:29 - loss: 0.0790 - acc: 0.97 - ETA: 12:28 - loss: 0.0789 - acc: 0.97 - ETA: 12:27 - loss: 0.0789 - acc: 0.97 - ETA: 12:26 - loss: 0.0788 - acc: 0.97 - ETA: 12:26 - loss: 0.0787 - acc: 0.97 - ETA: 12:25 - loss: 0.0787 - acc: 0.97 - ETA: 12:24 - loss: 0.0786 - acc: 0.97 - ETA: 12:23 - loss: 0.0784 - acc: 0.97 - ETA: 12:22 - loss: 0.0783 - acc: 0.97 - ETA: 12:21 - loss: 0.0783 - acc: 0.97 - ETA: 12:21 - loss: 0.0782 - acc: 0.97 - ETA: 12:20 - loss: 0.0781 - acc: 0.97 - ETA: 12:19 - loss: 0.0780 - acc: 0.97 - ETA: 12:18 - loss: 0.0778 - acc: 0.97 - ETA: 12:18 - loss: 0.0777 - acc: 0.97 - ETA: 12:17 - loss: 0.0777 - acc: 0.97 - ETA: 12:16 - loss: 0.0776 - acc: 0.97 - ETA: 12:15 - loss: 0.0775 - acc: 0.97 - ETA: 12:14 - loss: 0.0774 - acc: 0.97 - ETA: 12:13 - loss: 0.0774 - acc: 0.97 - ETA: 12:13 - loss: 0.0772 - acc: 0.97 - ETA: 12:11 - loss: 0.0772 - acc: 0.97 - ETA: 12:11 - loss: 0.0770 - acc: 0.97 - ETA: 12:10 - loss: 0.0770 - acc: 0.97 - ETA: 12:10 - loss: 0.0769 - acc: 0.97 - ETA: 12:09 - loss: 0.0767 - acc: 0.97 - ETA: 12:08 - loss: 0.0766 - acc: 0.97 - ETA: 12:08 - loss: 0.0765 - acc: 0.97 - ETA: 12:07 - loss: 0.0764 - acc: 0.97 - ETA: 12:07 - loss: 0.0762 - acc: 0.97 - ETA: 12:06 - loss: 0.0761 - acc: 0.97 - ETA: 12:05 - loss: 0.0760 - acc: 0.97 - ETA: 12:05 - loss: 0.0759 - acc: 0.97 - ETA: 12:04 - loss: 0.0758 - acc: 0.97 - ETA: 12:02 - loss: 0.0757 - acc: 0.97 - ETA: 12:02 - loss: 0.0755 - acc: 0.97 - ETA: 12:01 - loss: 0.0755 - acc: 0.97 - ETA: 12:00 - loss: 0.0754 - acc: 0.97 - ETA: 11:59 - loss: 0.0753 - acc: 0.97 - ETA: 11:58 - loss: 0.0751 - acc: 0.97 - ETA: 11:57 - loss: 0.0751 - acc: 0.97 - ETA: 11:56 - loss: 0.0750 - acc: 0.97 - ETA: 11:55 - loss: 0.0748 - acc: 0.97 - ETA: 11:54 - loss: 0.0749 - acc: 0.97 - ETA: 11:53 - loss: 0.0747 - acc: 0.97 - ETA: 11:52 - loss: 0.0746 - acc: 0.97 - ETA: 11:51 - loss: 0.0745 - acc: 0.97 - ETA: 11:50 - loss: 0.0746 - acc: 0.97 - ETA: 11:49 - loss: 0.0745 - acc: 0.97 - ETA: 11:48 - loss: 0.0744 - acc: 0.97 - ETA: 11:47 - loss: 0.0744 - acc: 0.97 - ETA: 11:46 - loss: 0.0743 - acc: 0.97 - ETA: 11:45 - loss: 0.0742 - acc: 0.97 - ETA: 11:44 - loss: 0.0741 - acc: 0.97 - ETA: 11:43 - loss: 0.0740 - acc: 0.97 - ETA: 11:42 - loss: 0.0740 - acc: 0.97 - ETA: 11:41 - loss: 0.0739 - acc: 0.97 - ETA: 11:39 - loss: 0.0738 - acc: 0.97 - ETA: 11:38 - loss: 0.0738 - acc: 0.97 - ETA: 11:38 - loss: 0.0737 - acc: 0.97 - ETA: 11:37 - loss: 0.0736 - acc: 0.97 - ETA: 11:35 - loss: 0.0736 - acc: 0.97 - ETA: 11:34 - loss: 0.0735 - acc: 0.97 - ETA: 11:34 - loss: 0.0734 - acc: 0.97 - ETA: 11:33 - loss: 0.0733 - acc: 0.97 - ETA: 11:31 - loss: 0.0732 - acc: 0.97 - ETA: 11:30 - loss: 0.0731 - acc: 0.97 - ETA: 11:29 - loss: 0.0730 - acc: 0.97 - ETA: 11:28 - loss: 0.0730 - acc: 0.97 - ETA: 11:27 - loss: 0.0728 - acc: 0.97 - ETA: 11:26 - loss: 0.0728 - acc: 0.97 - ETA: 11:25 - loss: 0.0727 - acc: 0.97 - ETA: 11:24 - loss: 0.0726 - acc: 0.97 - ETA: 11:23 - loss: 0.0726 - acc: 0.97 - ETA: 11:22 - loss: 0.0726 - acc: 0.97 - ETA: 11:21 - loss: 0.0726 - acc: 0.97 - ETA: 11:20 - loss: 0.0725 - acc: 0.97 - ETA: 11:19 - loss: 0.0725 - acc: 0.97 - ETA: 11:18 - loss: 0.0724 - acc: 0.97 - ETA: 11:17 - loss: 0.0723 - acc: 0.97 - ETA: 11:16 - loss: 0.0722 - acc: 0.97 - ETA: 11:15 - loss: 0.0721 - acc: 0.97 - ETA: 11:15 - loss: 0.0720 - acc: 0.97 - ETA: 11:14 - loss: 0.0720 - acc: 0.97 - ETA: 11:13 - loss: 0.0720 - acc: 0.97 - ETA: 11:12 - loss: 0.0720 - acc: 0.97 - ETA: 11:11 - loss: 0.0720 - acc: 0.97 - ETA: 11:10 - loss: 0.0718 - acc: 0.97 - ETA: 11:09 - loss: 0.0718 - acc: 0.97 - ETA: 11:08 - loss: 0.0717 - acc: 0.97 - ETA: 11:07 - loss: 0.0717 - acc: 0.97 - ETA: 11:06 - loss: 0.0716 - acc: 0.97 - ETA: 11:05 - loss: 0.0715 - acc: 0.97 - ETA: 11:04 - loss: 0.0715 - acc: 0.97 - ETA: 11:04 - loss: 0.0715 - acc: 0.97 - ETA: 11:03 - loss: 0.0715 - acc: 0.97 - ETA: 11:03 - loss: 0.0714 - acc: 0.97 - ETA: 11:02 - loss: 0.0714 - acc: 0.97 - ETA: 11:01 - loss: 0.0714 - acc: 0.97 - ETA: 11:01 - loss: 0.0713 - acc: 0.97 - ETA: 11:00 - loss: 0.0712 - acc: 0.97 - ETA: 10:59 - loss: 0.0712 - acc: 0.97 - ETA: 10:58 - loss: 0.0711 - acc: 0.97 - ETA: 10:57 - loss: 0.0711 - acc: 0.97 - ETA: 10:56 - loss: 0.0710 - acc: 0.97 - ETA: 10:55 - loss: 0.0710 - acc: 0.97 - ETA: 10:54 - loss: 0.0709 - acc: 0.97 - ETA: 10:53 - loss: 0.0709 - acc: 0.97 - ETA: 10:52 - loss: 0.0708 - acc: 0.97 - ETA: 10:51 - loss: 0.0708 - acc: 0.97 - ETA: 10:51 - loss: 0.0708 - acc: 0.97 - ETA: 10:50 - loss: 0.0707 - acc: 0.97 - ETA: 10:49 - loss: 0.0706 - acc: 0.97 - ETA: 10:48 - loss: 0.0706 - acc: 0.97 - ETA: 10:47 - loss: 0.0705 - acc: 0.97 - ETA: 10:46 - loss: 0.0704 - acc: 0.97 - ETA: 10:45 - loss: 0.0704 - acc: 0.97 - ETA: 10:44 - loss: 0.0703 - acc: 0.97 - ETA: 10:43 - loss: 0.0702 - acc: 0.97 - ETA: 10:43 - loss: 0.0701 - acc: 0.97 - ETA: 10:42 - loss: 0.0700 - acc: 0.97 - ETA: 10:41 - loss: 0.0699 - acc: 0.97 - ETA: 10:40 - loss: 0.0698 - acc: 0.97 - ETA: 10:39 - loss: 0.0698 - acc: 0.97 - ETA: 10:39 - loss: 0.0698 - acc: 0.97 - ETA: 10:38 - loss: 0.0698 - acc: 0.97 - ETA: 10:37 - loss: 0.0697 - acc: 0.97 - ETA: 10:36 - loss: 0.0696 - acc: 0.97 - ETA: 10:35 - loss: 0.0696 - acc: 0.97 - ETA: 10:34 - loss: 0.0695 - acc: 0.97 - ETA: 10:33 - loss: 0.0695 - acc: 0.97 - ETA: 10:32 - loss: 0.0695 - acc: 0.97 - ETA: 10:32 - loss: 0.0693 - acc: 0.97 - ETA: 10:31 - loss: 0.0693 - acc: 0.97 - ETA: 10:30 - loss: 0.0692 - acc: 0.97 - ETA: 10:29 - loss: 0.0692 - acc: 0.97 - ETA: 10:29 - loss: 0.0692 - acc: 0.97 - ETA: 10:28 - loss: 0.0692 - acc: 0.97 - ETA: 10:27 - loss: 0.0692 - acc: 0.97 - ETA: 10:27 - loss: 0.0691 - acc: 0.97 - ETA: 10:26 - loss: 0.0691 - acc: 0.97 - ETA: 10:26 - loss: 0.0690 - acc: 0.97 - ETA: 10:25 - loss: 0.0690 - acc: 0.97 - ETA: 10:24 - loss: 0.0690 - acc: 0.97 - ETA: 10:23 - loss: 0.0690 - acc: 0.97 - ETA: 10:23 - loss: 0.0689 - acc: 0.97 - ETA: 10:22 - loss: 0.0689 - acc: 0.9771"
     ]
    },
    {
     "name": "stdout",
     "output_type": "stream",
     "text": [
      " 78080/143613 [===============>..............] - ETA: 10:21 - loss: 0.0689 - acc: 0.97 - ETA: 10:20 - loss: 0.0689 - acc: 0.97 - ETA: 10:19 - loss: 0.0688 - acc: 0.97 - ETA: 10:18 - loss: 0.0688 - acc: 0.97 - ETA: 10:17 - loss: 0.0687 - acc: 0.97 - ETA: 10:16 - loss: 0.0687 - acc: 0.97 - ETA: 10:15 - loss: 0.0686 - acc: 0.97 - ETA: 10:14 - loss: 0.0686 - acc: 0.97 - ETA: 10:13 - loss: 0.0687 - acc: 0.97 - ETA: 10:12 - loss: 0.0687 - acc: 0.97 - ETA: 10:12 - loss: 0.0686 - acc: 0.97 - ETA: 10:11 - loss: 0.0686 - acc: 0.97 - ETA: 10:10 - loss: 0.0685 - acc: 0.97 - ETA: 10:09 - loss: 0.0684 - acc: 0.97 - ETA: 10:08 - loss: 0.0684 - acc: 0.97 - ETA: 10:07 - loss: 0.0684 - acc: 0.97 - ETA: 10:05 - loss: 0.0683 - acc: 0.97 - ETA: 10:05 - loss: 0.0684 - acc: 0.97 - ETA: 10:04 - loss: 0.0683 - acc: 0.97 - ETA: 10:03 - loss: 0.0682 - acc: 0.97 - ETA: 10:02 - loss: 0.0682 - acc: 0.97 - ETA: 10:01 - loss: 0.0682 - acc: 0.97 - ETA: 10:00 - loss: 0.0683 - acc: 0.97 - ETA: 9:59 - loss: 0.0683 - acc: 0.9772 - ETA: 9:58 - loss: 0.0683 - acc: 0.977 - ETA: 9:57 - loss: 0.0682 - acc: 0.977 - ETA: 9:56 - loss: 0.0682 - acc: 0.977 - ETA: 9:55 - loss: 0.0681 - acc: 0.977 - ETA: 9:54 - loss: 0.0681 - acc: 0.977 - ETA: 9:53 - loss: 0.0681 - acc: 0.977 - ETA: 9:52 - loss: 0.0680 - acc: 0.977 - ETA: 9:51 - loss: 0.0679 - acc: 0.977 - ETA: 9:51 - loss: 0.0679 - acc: 0.977 - ETA: 9:50 - loss: 0.0678 - acc: 0.977 - ETA: 9:49 - loss: 0.0678 - acc: 0.977 - ETA: 9:48 - loss: 0.0678 - acc: 0.977 - ETA: 9:47 - loss: 0.0678 - acc: 0.977 - ETA: 9:46 - loss: 0.0677 - acc: 0.977 - ETA: 9:45 - loss: 0.0676 - acc: 0.977 - ETA: 9:44 - loss: 0.0676 - acc: 0.977 - ETA: 9:43 - loss: 0.0675 - acc: 0.977 - ETA: 9:42 - loss: 0.0675 - acc: 0.977 - ETA: 9:41 - loss: 0.0675 - acc: 0.977 - ETA: 9:41 - loss: 0.0674 - acc: 0.977 - ETA: 9:40 - loss: 0.0674 - acc: 0.977 - ETA: 9:39 - loss: 0.0674 - acc: 0.977 - ETA: 9:38 - loss: 0.0674 - acc: 0.977 - ETA: 9:38 - loss: 0.0674 - acc: 0.977 - ETA: 9:37 - loss: 0.0674 - acc: 0.977 - ETA: 9:36 - loss: 0.0674 - acc: 0.977 - ETA: 9:35 - loss: 0.0673 - acc: 0.977 - ETA: 9:34 - loss: 0.0673 - acc: 0.977 - ETA: 9:34 - loss: 0.0672 - acc: 0.977 - ETA: 9:33 - loss: 0.0672 - acc: 0.977 - ETA: 9:32 - loss: 0.0671 - acc: 0.977 - ETA: 9:31 - loss: 0.0671 - acc: 0.977 - ETA: 9:30 - loss: 0.0671 - acc: 0.977 - ETA: 9:30 - loss: 0.0671 - acc: 0.977 - ETA: 9:29 - loss: 0.0670 - acc: 0.977 - ETA: 9:28 - loss: 0.0670 - acc: 0.977 - ETA: 9:28 - loss: 0.0670 - acc: 0.977 - ETA: 9:27 - loss: 0.0669 - acc: 0.977 - ETA: 9:26 - loss: 0.0669 - acc: 0.977 - ETA: 9:25 - loss: 0.0669 - acc: 0.977 - ETA: 9:24 - loss: 0.0668 - acc: 0.977 - ETA: 9:23 - loss: 0.0668 - acc: 0.977 - ETA: 9:23 - loss: 0.0668 - acc: 0.977 - ETA: 9:22 - loss: 0.0667 - acc: 0.977 - ETA: 9:21 - loss: 0.0667 - acc: 0.977 - ETA: 9:20 - loss: 0.0667 - acc: 0.977 - ETA: 9:19 - loss: 0.0667 - acc: 0.977 - ETA: 9:18 - loss: 0.0666 - acc: 0.977 - ETA: 9:18 - loss: 0.0665 - acc: 0.977 - ETA: 9:17 - loss: 0.0665 - acc: 0.977 - ETA: 9:16 - loss: 0.0665 - acc: 0.977 - ETA: 9:15 - loss: 0.0665 - acc: 0.977 - ETA: 9:14 - loss: 0.0664 - acc: 0.977 - ETA: 9:13 - loss: 0.0663 - acc: 0.977 - ETA: 9:12 - loss: 0.0663 - acc: 0.977 - ETA: 9:11 - loss: 0.0663 - acc: 0.977 - ETA: 9:11 - loss: 0.0663 - acc: 0.977 - ETA: 9:10 - loss: 0.0662 - acc: 0.977 - ETA: 9:09 - loss: 0.0662 - acc: 0.977 - ETA: 9:08 - loss: 0.0662 - acc: 0.977 - ETA: 9:07 - loss: 0.0662 - acc: 0.977 - ETA: 9:06 - loss: 0.0661 - acc: 0.977 - ETA: 9:06 - loss: 0.0661 - acc: 0.977 - ETA: 9:05 - loss: 0.0660 - acc: 0.977 - ETA: 9:04 - loss: 0.0660 - acc: 0.977 - ETA: 9:03 - loss: 0.0660 - acc: 0.977 - ETA: 9:02 - loss: 0.0660 - acc: 0.977 - ETA: 9:01 - loss: 0.0660 - acc: 0.977 - ETA: 9:00 - loss: 0.0659 - acc: 0.977 - ETA: 9:00 - loss: 0.0658 - acc: 0.977 - ETA: 8:59 - loss: 0.0658 - acc: 0.977 - ETA: 8:58 - loss: 0.0657 - acc: 0.977 - ETA: 8:57 - loss: 0.0657 - acc: 0.977 - ETA: 8:56 - loss: 0.0657 - acc: 0.977 - ETA: 8:55 - loss: 0.0657 - acc: 0.977 - ETA: 8:54 - loss: 0.0656 - acc: 0.977 - ETA: 8:54 - loss: 0.0655 - acc: 0.977 - ETA: 8:53 - loss: 0.0655 - acc: 0.977 - ETA: 8:52 - loss: 0.0655 - acc: 0.977 - ETA: 8:51 - loss: 0.0655 - acc: 0.977 - ETA: 8:50 - loss: 0.0654 - acc: 0.977 - ETA: 8:50 - loss: 0.0654 - acc: 0.977 - ETA: 8:49 - loss: 0.0655 - acc: 0.977 - ETA: 8:48 - loss: 0.0655 - acc: 0.977 - ETA: 8:47 - loss: 0.0655 - acc: 0.977 - ETA: 8:46 - loss: 0.0655 - acc: 0.977 - ETA: 8:45 - loss: 0.0654 - acc: 0.977 - ETA: 8:44 - loss: 0.0654 - acc: 0.977 - ETA: 8:43 - loss: 0.0655 - acc: 0.977 - ETA: 8:42 - loss: 0.0655 - acc: 0.977 - ETA: 8:42 - loss: 0.0655 - acc: 0.977 - ETA: 8:41 - loss: 0.0655 - acc: 0.977 - ETA: 8:40 - loss: 0.0654 - acc: 0.977 - ETA: 8:38 - loss: 0.0654 - acc: 0.977 - ETA: 8:38 - loss: 0.0654 - acc: 0.977 - ETA: 8:37 - loss: 0.0654 - acc: 0.977 - ETA: 8:36 - loss: 0.0654 - acc: 0.977 - ETA: 8:35 - loss: 0.0653 - acc: 0.977 - ETA: 8:34 - loss: 0.0653 - acc: 0.977 - ETA: 8:33 - loss: 0.0653 - acc: 0.977 - ETA: 8:32 - loss: 0.0653 - acc: 0.977 - ETA: 8:31 - loss: 0.0652 - acc: 0.977 - ETA: 8:31 - loss: 0.0652 - acc: 0.977 - ETA: 8:30 - loss: 0.0651 - acc: 0.977 - ETA: 8:29 - loss: 0.0651 - acc: 0.977 - ETA: 8:28 - loss: 0.0651 - acc: 0.977 - ETA: 8:27 - loss: 0.0651 - acc: 0.977 - ETA: 8:26 - loss: 0.0651 - acc: 0.977 - ETA: 8:25 - loss: 0.0650 - acc: 0.977 - ETA: 8:25 - loss: 0.0650 - acc: 0.977 - ETA: 8:24 - loss: 0.0650 - acc: 0.977 - ETA: 8:23 - loss: 0.0650 - acc: 0.977 - ETA: 8:22 - loss: 0.0649 - acc: 0.977 - ETA: 8:21 - loss: 0.0649 - acc: 0.977 - ETA: 8:21 - loss: 0.0649 - acc: 0.977 - ETA: 8:20 - loss: 0.0649 - acc: 0.977 - ETA: 8:19 - loss: 0.0649 - acc: 0.977 - ETA: 8:18 - loss: 0.0649 - acc: 0.977 - ETA: 8:17 - loss: 0.0648 - acc: 0.977 - ETA: 8:16 - loss: 0.0647 - acc: 0.977 - ETA: 8:15 - loss: 0.0647 - acc: 0.977 - ETA: 8:14 - loss: 0.0646 - acc: 0.977 - ETA: 8:14 - loss: 0.0646 - acc: 0.977 - ETA: 8:13 - loss: 0.0645 - acc: 0.977 - ETA: 8:12 - loss: 0.0645 - acc: 0.977 - ETA: 8:11 - loss: 0.0645 - acc: 0.977 - ETA: 8:11 - loss: 0.0645 - acc: 0.978 - ETA: 8:10 - loss: 0.0644 - acc: 0.978 - ETA: 8:09 - loss: 0.0644 - acc: 0.978 - ETA: 8:08 - loss: 0.0644 - acc: 0.978 - ETA: 8:07 - loss: 0.0644 - acc: 0.978 - ETA: 8:07 - loss: 0.0643 - acc: 0.978 - ETA: 8:06 - loss: 0.0643 - acc: 0.978 - ETA: 8:05 - loss: 0.0642 - acc: 0.978 - ETA: 8:04 - loss: 0.0642 - acc: 0.978 - ETA: 8:03 - loss: 0.0641 - acc: 0.978 - ETA: 8:03 - loss: 0.0641 - acc: 0.978 - ETA: 8:02 - loss: 0.0641 - acc: 0.978 - ETA: 8:01 - loss: 0.0641 - acc: 0.978 - ETA: 8:00 - loss: 0.0641 - acc: 0.978 - ETA: 7:59 - loss: 0.0640 - acc: 0.978 - ETA: 7:59 - loss: 0.0640 - acc: 0.978 - ETA: 7:58 - loss: 0.0640 - acc: 0.978 - ETA: 7:57 - loss: 0.0640 - acc: 0.978 - ETA: 7:56 - loss: 0.0640 - acc: 0.978 - ETA: 7:56 - loss: 0.0640 - acc: 0.978 - ETA: 7:55 - loss: 0.0640 - acc: 0.978 - ETA: 7:54 - loss: 0.0640 - acc: 0.978 - ETA: 7:53 - loss: 0.0640 - acc: 0.978 - ETA: 7:52 - loss: 0.0640 - acc: 0.978 - ETA: 7:51 - loss: 0.0639 - acc: 0.978 - ETA: 7:50 - loss: 0.0639 - acc: 0.978 - ETA: 7:49 - loss: 0.0639 - acc: 0.978 - ETA: 7:48 - loss: 0.0638 - acc: 0.978 - ETA: 7:47 - loss: 0.0639 - acc: 0.978 - ETA: 7:46 - loss: 0.0639 - acc: 0.978 - ETA: 7:46 - loss: 0.0639 - acc: 0.978 - ETA: 7:45 - loss: 0.0639 - acc: 0.978 - ETA: 7:44 - loss: 0.0638 - acc: 0.978 - ETA: 7:43 - loss: 0.0638 - acc: 0.978 - ETA: 7:42 - loss: 0.0638 - acc: 0.978 - ETA: 7:41 - loss: 0.0638 - acc: 0.978 - ETA: 7:40 - loss: 0.0638 - acc: 0.978 - ETA: 7:39 - loss: 0.0637 - acc: 0.978 - ETA: 7:38 - loss: 0.0637 - acc: 0.978 - ETA: 7:38 - loss: 0.0637 - acc: 0.978 - ETA: 7:37 - loss: 0.0636 - acc: 0.978 - ETA: 7:36 - loss: 0.0636 - acc: 0.978 - ETA: 7:35 - loss: 0.0635 - acc: 0.978 - ETA: 7:34 - loss: 0.0635 - acc: 0.978 - ETA: 7:33 - loss: 0.0635 - acc: 0.978 - ETA: 7:32 - loss: 0.0635 - acc: 0.978 - ETA: 7:31 - loss: 0.0635 - acc: 0.978 - ETA: 7:30 - loss: 0.0634 - acc: 0.978 - ETA: 7:30 - loss: 0.0634 - acc: 0.978 - ETA: 7:29 - loss: 0.0634 - acc: 0.978 - ETA: 7:28 - loss: 0.0634 - acc: 0.978 - ETA: 7:27 - loss: 0.0634 - acc: 0.978 - ETA: 7:26 - loss: 0.0634 - acc: 0.978 - ETA: 7:25 - loss: 0.0633 - acc: 0.9782"
     ]
    },
    {
     "name": "stdout",
     "output_type": "stream",
     "text": [
      "104192/143613 [====================>.........] - ETA: 7:24 - loss: 0.0633 - acc: 0.978 - ETA: 7:23 - loss: 0.0632 - acc: 0.978 - ETA: 7:22 - loss: 0.0632 - acc: 0.978 - ETA: 7:22 - loss: 0.0632 - acc: 0.978 - ETA: 7:21 - loss: 0.0632 - acc: 0.978 - ETA: 7:20 - loss: 0.0632 - acc: 0.978 - ETA: 7:19 - loss: 0.0632 - acc: 0.978 - ETA: 7:18 - loss: 0.0632 - acc: 0.978 - ETA: 7:17 - loss: 0.0632 - acc: 0.978 - ETA: 7:16 - loss: 0.0632 - acc: 0.978 - ETA: 7:15 - loss: 0.0632 - acc: 0.978 - ETA: 7:15 - loss: 0.0632 - acc: 0.978 - ETA: 7:14 - loss: 0.0632 - acc: 0.978 - ETA: 7:13 - loss: 0.0631 - acc: 0.978 - ETA: 7:12 - loss: 0.0631 - acc: 0.978 - ETA: 7:11 - loss: 0.0630 - acc: 0.978 - ETA: 7:10 - loss: 0.0630 - acc: 0.978 - ETA: 7:09 - loss: 0.0630 - acc: 0.978 - ETA: 7:08 - loss: 0.0630 - acc: 0.978 - ETA: 7:08 - loss: 0.0630 - acc: 0.978 - ETA: 7:07 - loss: 0.0629 - acc: 0.978 - ETA: 7:06 - loss: 0.0629 - acc: 0.978 - ETA: 7:05 - loss: 0.0629 - acc: 0.978 - ETA: 7:04 - loss: 0.0629 - acc: 0.978 - ETA: 7:03 - loss: 0.0629 - acc: 0.978 - ETA: 7:03 - loss: 0.0628 - acc: 0.978 - ETA: 7:02 - loss: 0.0628 - acc: 0.978 - ETA: 7:01 - loss: 0.0627 - acc: 0.978 - ETA: 7:00 - loss: 0.0627 - acc: 0.978 - ETA: 6:59 - loss: 0.0628 - acc: 0.978 - ETA: 6:58 - loss: 0.0628 - acc: 0.978 - ETA: 6:57 - loss: 0.0627 - acc: 0.978 - ETA: 6:57 - loss: 0.0628 - acc: 0.978 - ETA: 6:56 - loss: 0.0627 - acc: 0.978 - ETA: 6:55 - loss: 0.0627 - acc: 0.978 - ETA: 6:54 - loss: 0.0627 - acc: 0.978 - ETA: 6:53 - loss: 0.0626 - acc: 0.978 - ETA: 6:52 - loss: 0.0626 - acc: 0.978 - ETA: 6:52 - loss: 0.0626 - acc: 0.978 - ETA: 6:51 - loss: 0.0626 - acc: 0.978 - ETA: 6:50 - loss: 0.0626 - acc: 0.978 - ETA: 6:49 - loss: 0.0626 - acc: 0.978 - ETA: 6:48 - loss: 0.0625 - acc: 0.978 - ETA: 6:48 - loss: 0.0625 - acc: 0.978 - ETA: 6:47 - loss: 0.0625 - acc: 0.978 - ETA: 6:46 - loss: 0.0625 - acc: 0.978 - ETA: 6:45 - loss: 0.0624 - acc: 0.978 - ETA: 6:44 - loss: 0.0624 - acc: 0.978 - ETA: 6:43 - loss: 0.0624 - acc: 0.978 - ETA: 6:42 - loss: 0.0624 - acc: 0.978 - ETA: 6:41 - loss: 0.0624 - acc: 0.978 - ETA: 6:41 - loss: 0.0624 - acc: 0.978 - ETA: 6:40 - loss: 0.0623 - acc: 0.978 - ETA: 6:39 - loss: 0.0623 - acc: 0.978 - ETA: 6:38 - loss: 0.0623 - acc: 0.978 - ETA: 6:37 - loss: 0.0623 - acc: 0.978 - ETA: 6:37 - loss: 0.0622 - acc: 0.978 - ETA: 6:36 - loss: 0.0622 - acc: 0.978 - ETA: 6:35 - loss: 0.0622 - acc: 0.978 - ETA: 6:34 - loss: 0.0622 - acc: 0.978 - ETA: 6:33 - loss: 0.0622 - acc: 0.978 - ETA: 6:32 - loss: 0.0621 - acc: 0.978 - ETA: 6:31 - loss: 0.0622 - acc: 0.978 - ETA: 6:30 - loss: 0.0622 - acc: 0.978 - ETA: 6:30 - loss: 0.0622 - acc: 0.978 - ETA: 6:29 - loss: 0.0622 - acc: 0.978 - ETA: 6:28 - loss: 0.0621 - acc: 0.978 - ETA: 6:27 - loss: 0.0622 - acc: 0.978 - ETA: 6:26 - loss: 0.0621 - acc: 0.978 - ETA: 6:25 - loss: 0.0621 - acc: 0.978 - ETA: 6:24 - loss: 0.0620 - acc: 0.978 - ETA: 6:23 - loss: 0.0620 - acc: 0.978 - ETA: 6:22 - loss: 0.0620 - acc: 0.978 - ETA: 6:21 - loss: 0.0620 - acc: 0.978 - ETA: 6:20 - loss: 0.0620 - acc: 0.978 - ETA: 6:20 - loss: 0.0619 - acc: 0.978 - ETA: 6:19 - loss: 0.0619 - acc: 0.978 - ETA: 6:18 - loss: 0.0619 - acc: 0.978 - ETA: 6:17 - loss: 0.0619 - acc: 0.978 - ETA: 6:16 - loss: 0.0619 - acc: 0.978 - ETA: 6:15 - loss: 0.0619 - acc: 0.978 - ETA: 6:14 - loss: 0.0619 - acc: 0.978 - ETA: 6:13 - loss: 0.0619 - acc: 0.978 - ETA: 6:12 - loss: 0.0618 - acc: 0.978 - ETA: 6:11 - loss: 0.0618 - acc: 0.978 - ETA: 6:10 - loss: 0.0618 - acc: 0.978 - ETA: 6:10 - loss: 0.0618 - acc: 0.978 - ETA: 6:09 - loss: 0.0618 - acc: 0.978 - ETA: 6:08 - loss: 0.0618 - acc: 0.978 - ETA: 6:07 - loss: 0.0617 - acc: 0.978 - ETA: 6:06 - loss: 0.0617 - acc: 0.978 - ETA: 6:05 - loss: 0.0617 - acc: 0.978 - ETA: 6:04 - loss: 0.0617 - acc: 0.978 - ETA: 6:03 - loss: 0.0616 - acc: 0.978 - ETA: 6:02 - loss: 0.0616 - acc: 0.978 - ETA: 6:02 - loss: 0.0617 - acc: 0.978 - ETA: 6:01 - loss: 0.0616 - acc: 0.978 - ETA: 6:00 - loss: 0.0616 - acc: 0.978 - ETA: 5:59 - loss: 0.0617 - acc: 0.978 - ETA: 5:58 - loss: 0.0617 - acc: 0.978 - ETA: 5:57 - loss: 0.0616 - acc: 0.978 - ETA: 5:56 - loss: 0.0616 - acc: 0.978 - ETA: 5:55 - loss: 0.0616 - acc: 0.978 - ETA: 5:54 - loss: 0.0616 - acc: 0.978 - ETA: 5:54 - loss: 0.0616 - acc: 0.978 - ETA: 5:53 - loss: 0.0616 - acc: 0.978 - ETA: 5:52 - loss: 0.0616 - acc: 0.978 - ETA: 5:51 - loss: 0.0616 - acc: 0.978 - ETA: 5:50 - loss: 0.0616 - acc: 0.978 - ETA: 5:49 - loss: 0.0616 - acc: 0.978 - ETA: 5:48 - loss: 0.0615 - acc: 0.978 - ETA: 5:47 - loss: 0.0615 - acc: 0.978 - ETA: 5:47 - loss: 0.0615 - acc: 0.978 - ETA: 5:46 - loss: 0.0615 - acc: 0.978 - ETA: 5:45 - loss: 0.0614 - acc: 0.978 - ETA: 5:44 - loss: 0.0614 - acc: 0.978 - ETA: 5:43 - loss: 0.0614 - acc: 0.978 - ETA: 5:42 - loss: 0.0614 - acc: 0.978 - ETA: 5:42 - loss: 0.0613 - acc: 0.978 - ETA: 5:41 - loss: 0.0613 - acc: 0.978 - ETA: 5:40 - loss: 0.0614 - acc: 0.978 - ETA: 5:39 - loss: 0.0613 - acc: 0.978 - ETA: 5:38 - loss: 0.0613 - acc: 0.978 - ETA: 5:37 - loss: 0.0614 - acc: 0.978 - ETA: 5:37 - loss: 0.0613 - acc: 0.978 - ETA: 5:36 - loss: 0.0613 - acc: 0.978 - ETA: 5:35 - loss: 0.0613 - acc: 0.978 - ETA: 5:34 - loss: 0.0613 - acc: 0.978 - ETA: 5:33 - loss: 0.0613 - acc: 0.978 - ETA: 5:32 - loss: 0.0613 - acc: 0.978 - ETA: 5:31 - loss: 0.0612 - acc: 0.978 - ETA: 5:30 - loss: 0.0612 - acc: 0.978 - ETA: 5:30 - loss: 0.0612 - acc: 0.978 - ETA: 5:29 - loss: 0.0612 - acc: 0.978 - ETA: 5:28 - loss: 0.0612 - acc: 0.978 - ETA: 5:27 - loss: 0.0611 - acc: 0.978 - ETA: 5:26 - loss: 0.0611 - acc: 0.978 - ETA: 5:25 - loss: 0.0611 - acc: 0.978 - ETA: 5:25 - loss: 0.0611 - acc: 0.978 - ETA: 5:24 - loss: 0.0611 - acc: 0.978 - ETA: 5:23 - loss: 0.0611 - acc: 0.978 - ETA: 5:22 - loss: 0.0611 - acc: 0.978 - ETA: 5:21 - loss: 0.0611 - acc: 0.978 - ETA: 5:20 - loss: 0.0611 - acc: 0.978 - ETA: 5:19 - loss: 0.0611 - acc: 0.978 - ETA: 5:19 - loss: 0.0611 - acc: 0.978 - ETA: 5:18 - loss: 0.0611 - acc: 0.978 - ETA: 5:17 - loss: 0.0610 - acc: 0.978 - ETA: 5:16 - loss: 0.0610 - acc: 0.978 - ETA: 5:15 - loss: 0.0610 - acc: 0.978 - ETA: 5:14 - loss: 0.0610 - acc: 0.978 - ETA: 5:13 - loss: 0.0610 - acc: 0.978 - ETA: 5:13 - loss: 0.0610 - acc: 0.978 - ETA: 5:12 - loss: 0.0609 - acc: 0.978 - ETA: 5:11 - loss: 0.0609 - acc: 0.978 - ETA: 5:10 - loss: 0.0609 - acc: 0.978 - ETA: 5:09 - loss: 0.0609 - acc: 0.978 - ETA: 5:08 - loss: 0.0609 - acc: 0.978 - ETA: 5:07 - loss: 0.0608 - acc: 0.978 - ETA: 5:06 - loss: 0.0608 - acc: 0.978 - ETA: 5:05 - loss: 0.0608 - acc: 0.978 - ETA: 5:04 - loss: 0.0608 - acc: 0.978 - ETA: 5:03 - loss: 0.0607 - acc: 0.978 - ETA: 5:03 - loss: 0.0607 - acc: 0.978 - ETA: 5:02 - loss: 0.0608 - acc: 0.978 - ETA: 5:01 - loss: 0.0608 - acc: 0.978 - ETA: 5:00 - loss: 0.0608 - acc: 0.978 - ETA: 4:59 - loss: 0.0607 - acc: 0.978 - ETA: 4:58 - loss: 0.0607 - acc: 0.978 - ETA: 4:57 - loss: 0.0607 - acc: 0.978 - ETA: 4:56 - loss: 0.0607 - acc: 0.978 - ETA: 4:56 - loss: 0.0607 - acc: 0.978 - ETA: 4:55 - loss: 0.0607 - acc: 0.978 - ETA: 4:54 - loss: 0.0607 - acc: 0.978 - ETA: 4:53 - loss: 0.0607 - acc: 0.978 - ETA: 4:52 - loss: 0.0607 - acc: 0.978 - ETA: 4:51 - loss: 0.0607 - acc: 0.978 - ETA: 4:50 - loss: 0.0606 - acc: 0.978 - ETA: 4:49 - loss: 0.0606 - acc: 0.978 - ETA: 4:49 - loss: 0.0606 - acc: 0.978 - ETA: 4:48 - loss: 0.0606 - acc: 0.978 - ETA: 4:47 - loss: 0.0606 - acc: 0.978 - ETA: 4:46 - loss: 0.0606 - acc: 0.978 - ETA: 4:45 - loss: 0.0606 - acc: 0.978 - ETA: 4:44 - loss: 0.0605 - acc: 0.978 - ETA: 4:44 - loss: 0.0605 - acc: 0.978 - ETA: 4:43 - loss: 0.0605 - acc: 0.978 - ETA: 4:42 - loss: 0.0605 - acc: 0.978 - ETA: 4:41 - loss: 0.0605 - acc: 0.978 - ETA: 4:40 - loss: 0.0605 - acc: 0.978 - ETA: 4:39 - loss: 0.0605 - acc: 0.978 - ETA: 4:38 - loss: 0.0605 - acc: 0.978 - ETA: 4:38 - loss: 0.0605 - acc: 0.978 - ETA: 4:37 - loss: 0.0605 - acc: 0.978 - ETA: 4:36 - loss: 0.0604 - acc: 0.978 - ETA: 4:35 - loss: 0.0604 - acc: 0.978 - ETA: 4:34 - loss: 0.0604 - acc: 0.978 - ETA: 4:33 - loss: 0.0604 - acc: 0.978 - ETA: 4:33 - loss: 0.0603 - acc: 0.978 - ETA: 4:32 - loss: 0.0603 - acc: 0.978 - ETA: 4:31 - loss: 0.0603 - acc: 0.978 - ETA: 4:30 - loss: 0.0603 - acc: 0.978 - ETA: 4:29 - loss: 0.0603 - acc: 0.978 - ETA: 4:28 - loss: 0.0602 - acc: 0.9789"
     ]
    },
    {
     "name": "stdout",
     "output_type": "stream",
     "text": [
      "130304/143613 [==========================>...] - ETA: 4:27 - loss: 0.0602 - acc: 0.978 - ETA: 4:27 - loss: 0.0602 - acc: 0.978 - ETA: 4:26 - loss: 0.0602 - acc: 0.978 - ETA: 4:25 - loss: 0.0602 - acc: 0.978 - ETA: 4:24 - loss: 0.0602 - acc: 0.978 - ETA: 4:23 - loss: 0.0602 - acc: 0.978 - ETA: 4:22 - loss: 0.0602 - acc: 0.978 - ETA: 4:21 - loss: 0.0601 - acc: 0.978 - ETA: 4:20 - loss: 0.0601 - acc: 0.978 - ETA: 4:20 - loss: 0.0601 - acc: 0.978 - ETA: 4:19 - loss: 0.0601 - acc: 0.978 - ETA: 4:18 - loss: 0.0601 - acc: 0.979 - ETA: 4:17 - loss: 0.0601 - acc: 0.979 - ETA: 4:16 - loss: 0.0601 - acc: 0.979 - ETA: 4:15 - loss: 0.0601 - acc: 0.979 - ETA: 4:14 - loss: 0.0600 - acc: 0.979 - ETA: 4:13 - loss: 0.0600 - acc: 0.979 - ETA: 4:13 - loss: 0.0600 - acc: 0.979 - ETA: 4:12 - loss: 0.0599 - acc: 0.979 - ETA: 4:11 - loss: 0.0599 - acc: 0.979 - ETA: 4:10 - loss: 0.0600 - acc: 0.979 - ETA: 4:09 - loss: 0.0600 - acc: 0.979 - ETA: 4:08 - loss: 0.0599 - acc: 0.979 - ETA: 4:07 - loss: 0.0599 - acc: 0.979 - ETA: 4:06 - loss: 0.0599 - acc: 0.979 - ETA: 4:05 - loss: 0.0599 - acc: 0.979 - ETA: 4:05 - loss: 0.0599 - acc: 0.979 - ETA: 4:04 - loss: 0.0599 - acc: 0.979 - ETA: 4:03 - loss: 0.0599 - acc: 0.979 - ETA: 4:02 - loss: 0.0599 - acc: 0.979 - ETA: 4:01 - loss: 0.0599 - acc: 0.979 - ETA: 4:00 - loss: 0.0599 - acc: 0.979 - ETA: 3:59 - loss: 0.0599 - acc: 0.979 - ETA: 3:59 - loss: 0.0598 - acc: 0.979 - ETA: 3:58 - loss: 0.0598 - acc: 0.979 - ETA: 3:57 - loss: 0.0598 - acc: 0.979 - ETA: 3:56 - loss: 0.0598 - acc: 0.979 - ETA: 3:55 - loss: 0.0597 - acc: 0.979 - ETA: 3:54 - loss: 0.0597 - acc: 0.979 - ETA: 3:53 - loss: 0.0597 - acc: 0.979 - ETA: 3:53 - loss: 0.0597 - acc: 0.979 - ETA: 3:52 - loss: 0.0597 - acc: 0.979 - ETA: 3:51 - loss: 0.0597 - acc: 0.979 - ETA: 3:50 - loss: 0.0597 - acc: 0.979 - ETA: 3:49 - loss: 0.0597 - acc: 0.979 - ETA: 3:48 - loss: 0.0596 - acc: 0.979 - ETA: 3:47 - loss: 0.0596 - acc: 0.979 - ETA: 3:46 - loss: 0.0596 - acc: 0.979 - ETA: 3:45 - loss: 0.0596 - acc: 0.979 - ETA: 3:45 - loss: 0.0596 - acc: 0.979 - ETA: 3:44 - loss: 0.0596 - acc: 0.979 - ETA: 3:43 - loss: 0.0595 - acc: 0.979 - ETA: 3:42 - loss: 0.0595 - acc: 0.979 - ETA: 3:41 - loss: 0.0595 - acc: 0.979 - ETA: 3:40 - loss: 0.0595 - acc: 0.979 - ETA: 3:39 - loss: 0.0595 - acc: 0.979 - ETA: 3:39 - loss: 0.0595 - acc: 0.979 - ETA: 3:38 - loss: 0.0595 - acc: 0.979 - ETA: 3:37 - loss: 0.0595 - acc: 0.979 - ETA: 3:36 - loss: 0.0595 - acc: 0.979 - ETA: 3:35 - loss: 0.0595 - acc: 0.979 - ETA: 3:34 - loss: 0.0594 - acc: 0.979 - ETA: 3:33 - loss: 0.0594 - acc: 0.979 - ETA: 3:32 - loss: 0.0594 - acc: 0.979 - ETA: 3:31 - loss: 0.0594 - acc: 0.979 - ETA: 3:31 - loss: 0.0594 - acc: 0.979 - ETA: 3:30 - loss: 0.0594 - acc: 0.979 - ETA: 3:29 - loss: 0.0593 - acc: 0.979 - ETA: 3:28 - loss: 0.0593 - acc: 0.979 - ETA: 3:27 - loss: 0.0593 - acc: 0.979 - ETA: 3:26 - loss: 0.0593 - acc: 0.979 - ETA: 3:25 - loss: 0.0593 - acc: 0.979 - ETA: 3:24 - loss: 0.0593 - acc: 0.979 - ETA: 3:24 - loss: 0.0593 - acc: 0.979 - ETA: 3:23 - loss: 0.0593 - acc: 0.979 - ETA: 3:22 - loss: 0.0593 - acc: 0.979 - ETA: 3:21 - loss: 0.0593 - acc: 0.979 - ETA: 3:20 - loss: 0.0593 - acc: 0.979 - ETA: 3:19 - loss: 0.0593 - acc: 0.979 - ETA: 3:18 - loss: 0.0593 - acc: 0.979 - ETA: 3:17 - loss: 0.0593 - acc: 0.979 - ETA: 3:17 - loss: 0.0592 - acc: 0.979 - ETA: 3:16 - loss: 0.0592 - acc: 0.979 - ETA: 3:15 - loss: 0.0592 - acc: 0.979 - ETA: 3:14 - loss: 0.0592 - acc: 0.979 - ETA: 3:13 - loss: 0.0592 - acc: 0.979 - ETA: 3:12 - loss: 0.0592 - acc: 0.979 - ETA: 3:11 - loss: 0.0592 - acc: 0.979 - ETA: 3:10 - loss: 0.0591 - acc: 0.979 - ETA: 3:10 - loss: 0.0591 - acc: 0.979 - ETA: 3:09 - loss: 0.0591 - acc: 0.979 - ETA: 3:08 - loss: 0.0591 - acc: 0.979 - ETA: 3:07 - loss: 0.0591 - acc: 0.979 - ETA: 3:06 - loss: 0.0591 - acc: 0.979 - ETA: 3:05 - loss: 0.0590 - acc: 0.979 - ETA: 3:04 - loss: 0.0590 - acc: 0.979 - ETA: 3:03 - loss: 0.0590 - acc: 0.979 - ETA: 3:02 - loss: 0.0590 - acc: 0.979 - ETA: 3:02 - loss: 0.0590 - acc: 0.979 - ETA: 3:01 - loss: 0.0590 - acc: 0.979 - ETA: 3:00 - loss: 0.0590 - acc: 0.979 - ETA: 2:59 - loss: 0.0590 - acc: 0.979 - ETA: 2:58 - loss: 0.0590 - acc: 0.979 - ETA: 2:57 - loss: 0.0590 - acc: 0.979 - ETA: 2:56 - loss: 0.0590 - acc: 0.979 - ETA: 2:55 - loss: 0.0590 - acc: 0.979 - ETA: 2:54 - loss: 0.0589 - acc: 0.979 - ETA: 2:54 - loss: 0.0589 - acc: 0.979 - ETA: 2:53 - loss: 0.0589 - acc: 0.979 - ETA: 2:52 - loss: 0.0589 - acc: 0.979 - ETA: 2:51 - loss: 0.0589 - acc: 0.979 - ETA: 2:50 - loss: 0.0589 - acc: 0.979 - ETA: 2:49 - loss: 0.0589 - acc: 0.979 - ETA: 2:48 - loss: 0.0589 - acc: 0.979 - ETA: 2:47 - loss: 0.0589 - acc: 0.979 - ETA: 2:46 - loss: 0.0589 - acc: 0.979 - ETA: 2:46 - loss: 0.0589 - acc: 0.979 - ETA: 2:45 - loss: 0.0589 - acc: 0.979 - ETA: 2:44 - loss: 0.0589 - acc: 0.979 - ETA: 2:43 - loss: 0.0589 - acc: 0.979 - ETA: 2:42 - loss: 0.0589 - acc: 0.979 - ETA: 2:41 - loss: 0.0588 - acc: 0.979 - ETA: 2:40 - loss: 0.0588 - acc: 0.979 - ETA: 2:39 - loss: 0.0588 - acc: 0.979 - ETA: 2:39 - loss: 0.0588 - acc: 0.979 - ETA: 2:38 - loss: 0.0588 - acc: 0.979 - ETA: 2:37 - loss: 0.0587 - acc: 0.979 - ETA: 2:36 - loss: 0.0588 - acc: 0.979 - ETA: 2:35 - loss: 0.0587 - acc: 0.979 - ETA: 2:34 - loss: 0.0587 - acc: 0.979 - ETA: 2:33 - loss: 0.0587 - acc: 0.979 - ETA: 2:32 - loss: 0.0587 - acc: 0.979 - ETA: 2:32 - loss: 0.0586 - acc: 0.979 - ETA: 2:31 - loss: 0.0586 - acc: 0.979 - ETA: 2:30 - loss: 0.0586 - acc: 0.979 - ETA: 2:29 - loss: 0.0586 - acc: 0.979 - ETA: 2:28 - loss: 0.0586 - acc: 0.979 - ETA: 2:27 - loss: 0.0586 - acc: 0.979 - ETA: 2:26 - loss: 0.0586 - acc: 0.979 - ETA: 2:25 - loss: 0.0586 - acc: 0.979 - ETA: 2:24 - loss: 0.0586 - acc: 0.979 - ETA: 2:24 - loss: 0.0585 - acc: 0.979 - ETA: 2:23 - loss: 0.0586 - acc: 0.979 - ETA: 2:22 - loss: 0.0585 - acc: 0.979 - ETA: 2:21 - loss: 0.0585 - acc: 0.979 - ETA: 2:20 - loss: 0.0585 - acc: 0.979 - ETA: 2:19 - loss: 0.0585 - acc: 0.979 - ETA: 2:18 - loss: 0.0584 - acc: 0.979 - ETA: 2:17 - loss: 0.0584 - acc: 0.979 - ETA: 2:16 - loss: 0.0584 - acc: 0.979 - ETA: 2:16 - loss: 0.0584 - acc: 0.979 - ETA: 2:15 - loss: 0.0584 - acc: 0.979 - ETA: 2:14 - loss: 0.0584 - acc: 0.979 - ETA: 2:13 - loss: 0.0584 - acc: 0.979 - ETA: 2:12 - loss: 0.0584 - acc: 0.979 - ETA: 2:11 - loss: 0.0584 - acc: 0.979 - ETA: 2:10 - loss: 0.0584 - acc: 0.979 - ETA: 2:09 - loss: 0.0584 - acc: 0.979 - ETA: 2:09 - loss: 0.0584 - acc: 0.979 - ETA: 2:08 - loss: 0.0584 - acc: 0.979 - ETA: 2:07 - loss: 0.0583 - acc: 0.979 - ETA: 2:06 - loss: 0.0583 - acc: 0.979 - ETA: 2:05 - loss: 0.0583 - acc: 0.979 - ETA: 2:04 - loss: 0.0583 - acc: 0.979 - ETA: 2:03 - loss: 0.0583 - acc: 0.979 - ETA: 2:02 - loss: 0.0583 - acc: 0.979 - ETA: 2:02 - loss: 0.0583 - acc: 0.979 - ETA: 2:01 - loss: 0.0583 - acc: 0.979 - ETA: 2:00 - loss: 0.0583 - acc: 0.979 - ETA: 1:59 - loss: 0.0583 - acc: 0.979 - ETA: 1:58 - loss: 0.0582 - acc: 0.979 - ETA: 1:57 - loss: 0.0582 - acc: 0.979 - ETA: 1:56 - loss: 0.0582 - acc: 0.979 - ETA: 1:56 - loss: 0.0582 - acc: 0.979 - ETA: 1:55 - loss: 0.0582 - acc: 0.979 - ETA: 1:54 - loss: 0.0582 - acc: 0.979 - ETA: 1:53 - loss: 0.0581 - acc: 0.979 - ETA: 1:52 - loss: 0.0581 - acc: 0.979 - ETA: 1:51 - loss: 0.0581 - acc: 0.979 - ETA: 1:50 - loss: 0.0581 - acc: 0.979 - ETA: 1:50 - loss: 0.0581 - acc: 0.979 - ETA: 1:49 - loss: 0.0581 - acc: 0.979 - ETA: 1:48 - loss: 0.0580 - acc: 0.979 - ETA: 1:47 - loss: 0.0580 - acc: 0.979 - ETA: 1:46 - loss: 0.0580 - acc: 0.979 - ETA: 1:45 - loss: 0.0580 - acc: 0.979 - ETA: 1:44 - loss: 0.0580 - acc: 0.979 - ETA: 1:43 - loss: 0.0580 - acc: 0.979 - ETA: 1:43 - loss: 0.0580 - acc: 0.979 - ETA: 1:42 - loss: 0.0580 - acc: 0.979 - ETA: 1:41 - loss: 0.0580 - acc: 0.979 - ETA: 1:40 - loss: 0.0580 - acc: 0.979 - ETA: 1:39 - loss: 0.0580 - acc: 0.979 - ETA: 1:38 - loss: 0.0580 - acc: 0.979 - ETA: 1:37 - loss: 0.0579 - acc: 0.979 - ETA: 1:37 - loss: 0.0579 - acc: 0.979 - ETA: 1:36 - loss: 0.0579 - acc: 0.979 - ETA: 1:35 - loss: 0.0579 - acc: 0.979 - ETA: 1:34 - loss: 0.0579 - acc: 0.979 - ETA: 1:33 - loss: 0.0579 - acc: 0.979 - ETA: 1:32 - loss: 0.0578 - acc: 0.979 - ETA: 1:31 - loss: 0.0578 - acc: 0.979 - ETA: 1:31 - loss: 0.0578 - acc: 0.979 - ETA: 1:30 - loss: 0.0578 - acc: 0.9795"
     ]
    },
    {
     "name": "stdout",
     "output_type": "stream",
     "text": [
      "143488/143613 [============================>.] - ETA: 1:29 - loss: 0.0578 - acc: 0.979 - ETA: 1:28 - loss: 0.0578 - acc: 0.979 - ETA: 1:27 - loss: 0.0578 - acc: 0.979 - ETA: 1:26 - loss: 0.0578 - acc: 0.979 - ETA: 1:25 - loss: 0.0578 - acc: 0.979 - ETA: 1:24 - loss: 0.0578 - acc: 0.979 - ETA: 1:24 - loss: 0.0578 - acc: 0.979 - ETA: 1:23 - loss: 0.0578 - acc: 0.979 - ETA: 1:22 - loss: 0.0578 - acc: 0.979 - ETA: 1:21 - loss: 0.0578 - acc: 0.979 - ETA: 1:20 - loss: 0.0578 - acc: 0.979 - ETA: 1:19 - loss: 0.0578 - acc: 0.979 - ETA: 1:18 - loss: 0.0577 - acc: 0.979 - ETA: 1:18 - loss: 0.0578 - acc: 0.979 - ETA: 1:17 - loss: 0.0577 - acc: 0.979 - ETA: 1:16 - loss: 0.0577 - acc: 0.979 - ETA: 1:15 - loss: 0.0577 - acc: 0.979 - ETA: 1:14 - loss: 0.0577 - acc: 0.979 - ETA: 1:13 - loss: 0.0577 - acc: 0.979 - ETA: 1:12 - loss: 0.0576 - acc: 0.979 - ETA: 1:12 - loss: 0.0576 - acc: 0.979 - ETA: 1:11 - loss: 0.0576 - acc: 0.979 - ETA: 1:10 - loss: 0.0576 - acc: 0.979 - ETA: 1:09 - loss: 0.0576 - acc: 0.979 - ETA: 1:08 - loss: 0.0576 - acc: 0.979 - ETA: 1:07 - loss: 0.0576 - acc: 0.979 - ETA: 1:06 - loss: 0.0576 - acc: 0.979 - ETA: 1:05 - loss: 0.0576 - acc: 0.979 - ETA: 1:05 - loss: 0.0576 - acc: 0.979 - ETA: 1:04 - loss: 0.0576 - acc: 0.979 - ETA: 1:03 - loss: 0.0575 - acc: 0.979 - ETA: 1:02 - loss: 0.0575 - acc: 0.979 - ETA: 1:01 - loss: 0.0575 - acc: 0.979 - ETA: 1:00 - loss: 0.0575 - acc: 0.979 - ETA: 59s - loss: 0.0575 - acc: 0.979 - ETA: 58s - loss: 0.0575 - acc: 0.97 - ETA: 58s - loss: 0.0575 - acc: 0.97 - ETA: 57s - loss: 0.0574 - acc: 0.97 - ETA: 56s - loss: 0.0574 - acc: 0.97 - ETA: 55s - loss: 0.0574 - acc: 0.97 - ETA: 54s - loss: 0.0574 - acc: 0.97 - ETA: 53s - loss: 0.0574 - acc: 0.97 - ETA: 52s - loss: 0.0574 - acc: 0.97 - ETA: 52s - loss: 0.0574 - acc: 0.97 - ETA: 51s - loss: 0.0573 - acc: 0.97 - ETA: 50s - loss: 0.0573 - acc: 0.97 - ETA: 49s - loss: 0.0573 - acc: 0.97 - ETA: 48s - loss: 0.0573 - acc: 0.97 - ETA: 47s - loss: 0.0573 - acc: 0.97 - ETA: 46s - loss: 0.0573 - acc: 0.97 - ETA: 45s - loss: 0.0573 - acc: 0.97 - ETA: 45s - loss: 0.0573 - acc: 0.97 - ETA: 44s - loss: 0.0572 - acc: 0.97 - ETA: 43s - loss: 0.0572 - acc: 0.97 - ETA: 42s - loss: 0.0572 - acc: 0.97 - ETA: 41s - loss: 0.0572 - acc: 0.97 - ETA: 40s - loss: 0.0572 - acc: 0.97 - ETA: 39s - loss: 0.0572 - acc: 0.97 - ETA: 39s - loss: 0.0572 - acc: 0.97 - ETA: 38s - loss: 0.0572 - acc: 0.97 - ETA: 37s - loss: 0.0572 - acc: 0.97 - ETA: 36s - loss: 0.0572 - acc: 0.97 - ETA: 35s - loss: 0.0572 - acc: 0.97 - ETA: 34s - loss: 0.0572 - acc: 0.97 - ETA: 33s - loss: 0.0572 - acc: 0.97 - ETA: 32s - loss: 0.0572 - acc: 0.97 - ETA: 32s - loss: 0.0572 - acc: 0.97 - ETA: 31s - loss: 0.0572 - acc: 0.97 - ETA: 30s - loss: 0.0571 - acc: 0.97 - ETA: 29s - loss: 0.0572 - acc: 0.97 - ETA: 28s - loss: 0.0571 - acc: 0.97 - ETA: 27s - loss: 0.0571 - acc: 0.97 - ETA: 26s - loss: 0.0571 - acc: 0.97 - ETA: 26s - loss: 0.0571 - acc: 0.97 - ETA: 25s - loss: 0.0571 - acc: 0.97 - ETA: 24s - loss: 0.0571 - acc: 0.97 - ETA: 23s - loss: 0.0570 - acc: 0.97 - ETA: 22s - loss: 0.0570 - acc: 0.97 - ETA: 21s - loss: 0.0570 - acc: 0.97 - ETA: 20s - loss: 0.0570 - acc: 0.97 - ETA: 19s - loss: 0.0570 - acc: 0.97 - ETA: 19s - loss: 0.0570 - acc: 0.97 - ETA: 18s - loss: 0.0570 - acc: 0.97 - ETA: 17s - loss: 0.0570 - acc: 0.97 - ETA: 16s - loss: 0.0569 - acc: 0.97 - ETA: 15s - loss: 0.0569 - acc: 0.97 - ETA: 14s - loss: 0.0569 - acc: 0.97 - ETA: 13s - loss: 0.0569 - acc: 0.97 - ETA: 12s - loss: 0.0569 - acc: 0.97 - ETA: 12s - loss: 0.0569 - acc: 0.97 - ETA: 11s - loss: 0.0569 - acc: 0.97 - ETA: 10s - loss: 0.0569 - acc: 0.97 - ETA: 9s - loss: 0.0569 - acc: 0.9798 - ETA: 8s - loss: 0.0568 - acc: 0.979 - ETA: 7s - loss: 0.0568 - acc: 0.979 - ETA: 6s - loss: 0.0568 - acc: 0.979 - ETA: 6s - loss: 0.0568 - acc: 0.979 - ETA: 5s - loss: 0.0568 - acc: 0.979 - ETA: 4s - loss: 0.0568 - acc: 0.979 - ETA: 3s - loss: 0.0567 - acc: 0.979 - ETA: 2s - loss: 0.0568 - acc: 0.979 - ETA: 1s - loss: 0.0568 - acc: 0.979 - ETA: 0s - loss: 0.0568 - acc: 0.9798\n",
      " ROC-AUC - epoch: 1 - score: 0.983772\n",
      "143613/143613 [==============================] - 1104s 8ms/step - loss: 0.0567 - acc: 0.9798 - val_loss: 0.0460 - val_acc: 0.9822\n"
     ]
    },
    {
     "data": {
      "text/plain": [
       "<keras.callbacks.History at 0x7eeb5be0>"
      ]
     },
     "execution_count": 14,
     "metadata": {},
     "output_type": "execute_result"
    }
   ],
   "source": [
    "for l in model.layers:\n",
    "    print(l.name)\n",
    "for l in model.layers[:1]:\n",
    "    l.trainable = False\n",
    "epochs = 1\n",
    "batch_size = 128\n",
    "model.fit(X_tra, y_tra, batch_size=batch_size, epochs=epochs, validation_data=(X_val, y_val),callbacks = callbacks_list,verbose=1)    \n"
   ]
  },
  {
   "cell_type": "code",
   "execution_count": 18,
   "metadata": {},
   "outputs": [
    {
     "name": "stdout",
     "output_type": "stream",
     "text": [
      "Train on 143613 samples, validate on 15958 samples\n",
      "Epoch 1/2\n"
     ]
    },
    {
     "name": "stdout",
     "output_type": "stream",
     "text": [
      " 25984/143613 [====>.........................] - ETA: 14:06 - loss: 0.0465 - acc: 0.98 - ETA: 14:01 - loss: 0.0410 - acc: 0.98 - ETA: 14:41 - loss: 0.0450 - acc: 0.98 - ETA: 14:32 - loss: 0.0488 - acc: 0.98 - ETA: 14:29 - loss: 0.0487 - acc: 0.98 - ETA: 14:15 - loss: 0.0479 - acc: 0.98 - ETA: 14:19 - loss: 0.0516 - acc: 0.98 - ETA: 14:19 - loss: 0.0485 - acc: 0.98 - ETA: 14:21 - loss: 0.0502 - acc: 0.98 - ETA: 14:21 - loss: 0.0503 - acc: 0.98 - ETA: 14:38 - loss: 0.0492 - acc: 0.98 - ETA: 14:39 - loss: 0.0480 - acc: 0.98 - ETA: 14:57 - loss: 0.0470 - acc: 0.98 - ETA: 14:53 - loss: 0.0468 - acc: 0.98 - ETA: 14:47 - loss: 0.0461 - acc: 0.98 - ETA: 14:43 - loss: 0.0468 - acc: 0.98 - ETA: 14:40 - loss: 0.0476 - acc: 0.98 - ETA: 14:51 - loss: 0.0463 - acc: 0.98 - ETA: 14:45 - loss: 0.0455 - acc: 0.98 - ETA: 14:51 - loss: 0.0450 - acc: 0.98 - ETA: 14:50 - loss: 0.0442 - acc: 0.98 - ETA: 14:46 - loss: 0.0454 - acc: 0.98 - ETA: 14:52 - loss: 0.0462 - acc: 0.98 - ETA: 14:49 - loss: 0.0459 - acc: 0.98 - ETA: 14:42 - loss: 0.0458 - acc: 0.98 - ETA: 14:43 - loss: 0.0453 - acc: 0.98 - ETA: 14:37 - loss: 0.0450 - acc: 0.98 - ETA: 14:36 - loss: 0.0449 - acc: 0.98 - ETA: 14:32 - loss: 0.0446 - acc: 0.98 - ETA: 14:28 - loss: 0.0443 - acc: 0.98 - ETA: 14:31 - loss: 0.0445 - acc: 0.98 - ETA: 14:27 - loss: 0.0452 - acc: 0.98 - ETA: 14:24 - loss: 0.0448 - acc: 0.98 - ETA: 14:27 - loss: 0.0457 - acc: 0.98 - ETA: 14:26 - loss: 0.0456 - acc: 0.98 - ETA: 14:30 - loss: 0.0456 - acc: 0.98 - ETA: 14:29 - loss: 0.0452 - acc: 0.98 - ETA: 14:25 - loss: 0.0455 - acc: 0.98 - ETA: 14:24 - loss: 0.0456 - acc: 0.98 - ETA: 14:25 - loss: 0.0454 - acc: 0.98 - ETA: 14:26 - loss: 0.0456 - acc: 0.98 - ETA: 14:26 - loss: 0.0452 - acc: 0.98 - ETA: 14:23 - loss: 0.0451 - acc: 0.98 - ETA: 14:24 - loss: 0.0445 - acc: 0.98 - ETA: 14:22 - loss: 0.0448 - acc: 0.98 - ETA: 14:23 - loss: 0.0446 - acc: 0.98 - ETA: 14:24 - loss: 0.0447 - acc: 0.98 - ETA: 14:26 - loss: 0.0453 - acc: 0.98 - ETA: 14:22 - loss: 0.0450 - acc: 0.98 - ETA: 14:23 - loss: 0.0447 - acc: 0.98 - ETA: 14:22 - loss: 0.0451 - acc: 0.98 - ETA: 14:23 - loss: 0.0451 - acc: 0.98 - ETA: 14:26 - loss: 0.0452 - acc: 0.98 - ETA: 14:26 - loss: 0.0452 - acc: 0.98 - ETA: 14:25 - loss: 0.0455 - acc: 0.98 - ETA: 14:24 - loss: 0.0456 - acc: 0.98 - ETA: 14:24 - loss: 0.0455 - acc: 0.98 - ETA: 14:28 - loss: 0.0453 - acc: 0.98 - ETA: 14:26 - loss: 0.0453 - acc: 0.98 - ETA: 14:25 - loss: 0.0449 - acc: 0.98 - ETA: 14:24 - loss: 0.0449 - acc: 0.98 - ETA: 14:24 - loss: 0.0450 - acc: 0.98 - ETA: 14:24 - loss: 0.0451 - acc: 0.98 - ETA: 14:23 - loss: 0.0450 - acc: 0.98 - ETA: 14:22 - loss: 0.0449 - acc: 0.98 - ETA: 14:22 - loss: 0.0446 - acc: 0.98 - ETA: 14:20 - loss: 0.0446 - acc: 0.98 - ETA: 14:21 - loss: 0.0451 - acc: 0.98 - ETA: 14:22 - loss: 0.0452 - acc: 0.98 - ETA: 14:21 - loss: 0.0452 - acc: 0.98 - ETA: 14:21 - loss: 0.0451 - acc: 0.98 - ETA: 14:20 - loss: 0.0451 - acc: 0.98 - ETA: 14:17 - loss: 0.0448 - acc: 0.98 - ETA: 14:17 - loss: 0.0447 - acc: 0.98 - ETA: 14:16 - loss: 0.0449 - acc: 0.98 - ETA: 14:17 - loss: 0.0448 - acc: 0.98 - ETA: 14:17 - loss: 0.0447 - acc: 0.98 - ETA: 14:17 - loss: 0.0444 - acc: 0.98 - ETA: 14:15 - loss: 0.0442 - acc: 0.98 - ETA: 14:14 - loss: 0.0440 - acc: 0.98 - ETA: 14:12 - loss: 0.0441 - acc: 0.98 - ETA: 14:11 - loss: 0.0442 - acc: 0.98 - ETA: 14:10 - loss: 0.0443 - acc: 0.98 - ETA: 14:09 - loss: 0.0442 - acc: 0.98 - ETA: 14:10 - loss: 0.0443 - acc: 0.98 - ETA: 14:07 - loss: 0.0442 - acc: 0.98 - ETA: 14:05 - loss: 0.0443 - acc: 0.98 - ETA: 14:05 - loss: 0.0445 - acc: 0.98 - ETA: 14:04 - loss: 0.0446 - acc: 0.98 - ETA: 14:02 - loss: 0.0448 - acc: 0.98 - ETA: 14:00 - loss: 0.0451 - acc: 0.98 - ETA: 13:59 - loss: 0.0450 - acc: 0.98 - ETA: 13:59 - loss: 0.0451 - acc: 0.98 - ETA: 13:57 - loss: 0.0453 - acc: 0.98 - ETA: 13:56 - loss: 0.0452 - acc: 0.98 - ETA: 13:54 - loss: 0.0452 - acc: 0.98 - ETA: 13:54 - loss: 0.0453 - acc: 0.98 - ETA: 13:52 - loss: 0.0452 - acc: 0.98 - ETA: 13:52 - loss: 0.0459 - acc: 0.98 - ETA: 13:50 - loss: 0.0459 - acc: 0.98 - ETA: 13:50 - loss: 0.0458 - acc: 0.98 - ETA: 13:50 - loss: 0.0459 - acc: 0.98 - ETA: 13:49 - loss: 0.0461 - acc: 0.98 - ETA: 13:49 - loss: 0.0460 - acc: 0.98 - ETA: 13:48 - loss: 0.0461 - acc: 0.98 - ETA: 13:47 - loss: 0.0461 - acc: 0.98 - ETA: 13:45 - loss: 0.0459 - acc: 0.98 - ETA: 13:44 - loss: 0.0459 - acc: 0.98 - ETA: 13:43 - loss: 0.0458 - acc: 0.98 - ETA: 13:41 - loss: 0.0456 - acc: 0.98 - ETA: 13:40 - loss: 0.0457 - acc: 0.98 - ETA: 13:38 - loss: 0.0456 - acc: 0.98 - ETA: 13:37 - loss: 0.0457 - acc: 0.98 - ETA: 13:35 - loss: 0.0458 - acc: 0.98 - ETA: 13:34 - loss: 0.0459 - acc: 0.98 - ETA: 13:35 - loss: 0.0459 - acc: 0.98 - ETA: 13:34 - loss: 0.0461 - acc: 0.98 - ETA: 13:32 - loss: 0.0460 - acc: 0.98 - ETA: 13:31 - loss: 0.0461 - acc: 0.98 - ETA: 13:32 - loss: 0.0459 - acc: 0.98 - ETA: 13:30 - loss: 0.0460 - acc: 0.98 - ETA: 13:30 - loss: 0.0459 - acc: 0.98 - ETA: 13:29 - loss: 0.0459 - acc: 0.98 - ETA: 13:28 - loss: 0.0459 - acc: 0.98 - ETA: 13:27 - loss: 0.0459 - acc: 0.98 - ETA: 13:27 - loss: 0.0459 - acc: 0.98 - ETA: 13:26 - loss: 0.0458 - acc: 0.98 - ETA: 13:24 - loss: 0.0458 - acc: 0.98 - ETA: 13:24 - loss: 0.0459 - acc: 0.98 - ETA: 13:23 - loss: 0.0458 - acc: 0.98 - ETA: 13:22 - loss: 0.0458 - acc: 0.98 - ETA: 13:20 - loss: 0.0460 - acc: 0.98 - ETA: 13:19 - loss: 0.0460 - acc: 0.98 - ETA: 13:18 - loss: 0.0459 - acc: 0.98 - ETA: 13:17 - loss: 0.0457 - acc: 0.98 - ETA: 13:16 - loss: 0.0458 - acc: 0.98 - ETA: 13:16 - loss: 0.0458 - acc: 0.98 - ETA: 13:16 - loss: 0.0457 - acc: 0.98 - ETA: 13:15 - loss: 0.0457 - acc: 0.98 - ETA: 13:16 - loss: 0.0456 - acc: 0.98 - ETA: 13:14 - loss: 0.0456 - acc: 0.98 - ETA: 13:14 - loss: 0.0456 - acc: 0.98 - ETA: 13:12 - loss: 0.0456 - acc: 0.98 - ETA: 13:11 - loss: 0.0454 - acc: 0.98 - ETA: 13:10 - loss: 0.0454 - acc: 0.98 - ETA: 13:08 - loss: 0.0453 - acc: 0.98 - ETA: 13:07 - loss: 0.0452 - acc: 0.98 - ETA: 13:05 - loss: 0.0452 - acc: 0.98 - ETA: 13:05 - loss: 0.0453 - acc: 0.98 - ETA: 13:05 - loss: 0.0453 - acc: 0.98 - ETA: 13:04 - loss: 0.0452 - acc: 0.98 - ETA: 13:03 - loss: 0.0451 - acc: 0.98 - ETA: 13:01 - loss: 0.0453 - acc: 0.98 - ETA: 13:00 - loss: 0.0452 - acc: 0.98 - ETA: 12:59 - loss: 0.0451 - acc: 0.98 - ETA: 12:58 - loss: 0.0451 - acc: 0.98 - ETA: 12:56 - loss: 0.0451 - acc: 0.98 - ETA: 12:55 - loss: 0.0453 - acc: 0.98 - ETA: 12:54 - loss: 0.0453 - acc: 0.98 - ETA: 12:52 - loss: 0.0452 - acc: 0.98 - ETA: 12:51 - loss: 0.0453 - acc: 0.98 - ETA: 12:50 - loss: 0.0453 - acc: 0.98 - ETA: 12:49 - loss: 0.0452 - acc: 0.98 - ETA: 12:47 - loss: 0.0452 - acc: 0.98 - ETA: 12:46 - loss: 0.0452 - acc: 0.98 - ETA: 12:44 - loss: 0.0456 - acc: 0.98 - ETA: 12:43 - loss: 0.0456 - acc: 0.98 - ETA: 12:42 - loss: 0.0456 - acc: 0.98 - ETA: 12:41 - loss: 0.0456 - acc: 0.98 - ETA: 12:40 - loss: 0.0457 - acc: 0.98 - ETA: 12:39 - loss: 0.0457 - acc: 0.98 - ETA: 12:38 - loss: 0.0457 - acc: 0.98 - ETA: 12:37 - loss: 0.0457 - acc: 0.98 - ETA: 12:36 - loss: 0.0457 - acc: 0.98 - ETA: 12:35 - loss: 0.0458 - acc: 0.98 - ETA: 12:34 - loss: 0.0458 - acc: 0.98 - ETA: 12:32 - loss: 0.0458 - acc: 0.98 - ETA: 12:31 - loss: 0.0457 - acc: 0.98 - ETA: 12:30 - loss: 0.0458 - acc: 0.98 - ETA: 12:28 - loss: 0.0459 - acc: 0.98 - ETA: 12:27 - loss: 0.0459 - acc: 0.98 - ETA: 12:26 - loss: 0.0459 - acc: 0.98 - ETA: 12:25 - loss: 0.0459 - acc: 0.98 - ETA: 12:24 - loss: 0.0459 - acc: 0.98 - ETA: 12:23 - loss: 0.0460 - acc: 0.98 - ETA: 12:22 - loss: 0.0460 - acc: 0.98 - ETA: 12:22 - loss: 0.0461 - acc: 0.98 - ETA: 12:21 - loss: 0.0461 - acc: 0.98 - ETA: 12:20 - loss: 0.0460 - acc: 0.98 - ETA: 12:19 - loss: 0.0460 - acc: 0.98 - ETA: 12:18 - loss: 0.0461 - acc: 0.98 - ETA: 12:17 - loss: 0.0462 - acc: 0.98 - ETA: 12:17 - loss: 0.0461 - acc: 0.98 - ETA: 12:16 - loss: 0.0461 - acc: 0.98 - ETA: 12:15 - loss: 0.0462 - acc: 0.98 - ETA: 12:14 - loss: 0.0461 - acc: 0.98 - ETA: 12:13 - loss: 0.0461 - acc: 0.98 - ETA: 12:13 - loss: 0.0460 - acc: 0.98 - ETA: 12:12 - loss: 0.0459 - acc: 0.98 - ETA: 12:11 - loss: 0.0459 - acc: 0.98 - ETA: 12:11 - loss: 0.0460 - acc: 0.98 - ETA: 12:10 - loss: 0.0459 - acc: 0.98 - ETA: 12:09 - loss: 0.0459 - acc: 0.9824\b\b\b\b\b\b\b\b\b\b\b\b\b\b\b\b\b\b\b\b\b\b\b\b\b\b\b\b\b\b\b\b\b\b\b\b\b\b\b\b\b\b\b\b\b\b\b\b\b\b\b\b\b\b\b\b\b\b\b\b\b\b\b\b\b\b\b\b\b\b\b\b\b\b\b\b\b\b\b\b\b\b\b\b\b\b\b\b"
     ]
    },
    {
     "name": "stdout",
     "output_type": "stream",
     "text": [
      " 52096/143613 [=========>....................] - ETA: 12:08 - loss: 0.0459 - acc: 0.98 - ETA: 12:07 - loss: 0.0459 - acc: 0.98 - ETA: 12:06 - loss: 0.0458 - acc: 0.98 - ETA: 12:06 - loss: 0.0458 - acc: 0.98 - ETA: 12:05 - loss: 0.0458 - acc: 0.98 - ETA: 12:04 - loss: 0.0458 - acc: 0.98 - ETA: 12:03 - loss: 0.0459 - acc: 0.98 - ETA: 12:04 - loss: 0.0459 - acc: 0.98 - ETA: 12:03 - loss: 0.0460 - acc: 0.98 - ETA: 12:03 - loss: 0.0459 - acc: 0.98 - ETA: 12:02 - loss: 0.0460 - acc: 0.98 - ETA: 12:01 - loss: 0.0459 - acc: 0.98 - ETA: 12:00 - loss: 0.0459 - acc: 0.98 - ETA: 12:01 - loss: 0.0459 - acc: 0.98 - ETA: 12:00 - loss: 0.0459 - acc: 0.98 - ETA: 11:59 - loss: 0.0460 - acc: 0.98 - ETA: 11:59 - loss: 0.0460 - acc: 0.98 - ETA: 11:58 - loss: 0.0460 - acc: 0.98 - ETA: 11:58 - loss: 0.0459 - acc: 0.98 - ETA: 11:58 - loss: 0.0459 - acc: 0.98 - ETA: 11:58 - loss: 0.0460 - acc: 0.98 - ETA: 11:58 - loss: 0.0460 - acc: 0.98 - ETA: 11:59 - loss: 0.0459 - acc: 0.98 - ETA: 11:58 - loss: 0.0460 - acc: 0.98 - ETA: 11:58 - loss: 0.0459 - acc: 0.98 - ETA: 11:57 - loss: 0.0459 - acc: 0.98 - ETA: 11:57 - loss: 0.0460 - acc: 0.98 - ETA: 11:56 - loss: 0.0460 - acc: 0.98 - ETA: 11:56 - loss: 0.0460 - acc: 0.98 - ETA: 11:56 - loss: 0.0460 - acc: 0.98 - ETA: 11:55 - loss: 0.0461 - acc: 0.98 - ETA: 11:54 - loss: 0.0460 - acc: 0.98 - ETA: 11:54 - loss: 0.0461 - acc: 0.98 - ETA: 11:53 - loss: 0.0460 - acc: 0.98 - ETA: 11:52 - loss: 0.0461 - acc: 0.98 - ETA: 11:51 - loss: 0.0460 - acc: 0.98 - ETA: 11:50 - loss: 0.0462 - acc: 0.98 - ETA: 11:49 - loss: 0.0461 - acc: 0.98 - ETA: 11:48 - loss: 0.0461 - acc: 0.98 - ETA: 11:47 - loss: 0.0462 - acc: 0.98 - ETA: 11:46 - loss: 0.0462 - acc: 0.98 - ETA: 11:44 - loss: 0.0461 - acc: 0.98 - ETA: 11:43 - loss: 0.0461 - acc: 0.98 - ETA: 11:42 - loss: 0.0461 - acc: 0.98 - ETA: 11:42 - loss: 0.0462 - acc: 0.98 - ETA: 11:41 - loss: 0.0462 - acc: 0.98 - ETA: 11:41 - loss: 0.0462 - acc: 0.98 - ETA: 11:40 - loss: 0.0462 - acc: 0.98 - ETA: 11:39 - loss: 0.0461 - acc: 0.98 - ETA: 11:39 - loss: 0.0461 - acc: 0.98 - ETA: 11:38 - loss: 0.0461 - acc: 0.98 - ETA: 11:37 - loss: 0.0461 - acc: 0.98 - ETA: 11:36 - loss: 0.0460 - acc: 0.98 - ETA: 11:35 - loss: 0.0461 - acc: 0.98 - ETA: 11:34 - loss: 0.0461 - acc: 0.98 - ETA: 11:33 - loss: 0.0460 - acc: 0.98 - ETA: 11:32 - loss: 0.0460 - acc: 0.98 - ETA: 11:31 - loss: 0.0460 - acc: 0.98 - ETA: 11:31 - loss: 0.0459 - acc: 0.98 - ETA: 11:30 - loss: 0.0460 - acc: 0.98 - ETA: 11:29 - loss: 0.0459 - acc: 0.98 - ETA: 11:28 - loss: 0.0459 - acc: 0.98 - ETA: 11:27 - loss: 0.0460 - acc: 0.98 - ETA: 11:26 - loss: 0.0459 - acc: 0.98 - ETA: 11:25 - loss: 0.0459 - acc: 0.98 - ETA: 11:24 - loss: 0.0459 - acc: 0.98 - ETA: 11:23 - loss: 0.0459 - acc: 0.98 - ETA: 11:22 - loss: 0.0459 - acc: 0.98 - ETA: 11:21 - loss: 0.0458 - acc: 0.98 - ETA: 11:20 - loss: 0.0459 - acc: 0.98 - ETA: 11:19 - loss: 0.0458 - acc: 0.98 - ETA: 11:19 - loss: 0.0458 - acc: 0.98 - ETA: 11:18 - loss: 0.0457 - acc: 0.98 - ETA: 11:17 - loss: 0.0458 - acc: 0.98 - ETA: 11:16 - loss: 0.0458 - acc: 0.98 - ETA: 11:16 - loss: 0.0457 - acc: 0.98 - ETA: 11:15 - loss: 0.0457 - acc: 0.98 - ETA: 11:14 - loss: 0.0456 - acc: 0.98 - ETA: 11:13 - loss: 0.0456 - acc: 0.98 - ETA: 11:13 - loss: 0.0456 - acc: 0.98 - ETA: 11:12 - loss: 0.0455 - acc: 0.98 - ETA: 11:11 - loss: 0.0455 - acc: 0.98 - ETA: 11:11 - loss: 0.0455 - acc: 0.98 - ETA: 11:10 - loss: 0.0456 - acc: 0.98 - ETA: 11:09 - loss: 0.0456 - acc: 0.98 - ETA: 11:09 - loss: 0.0456 - acc: 0.98 - ETA: 11:08 - loss: 0.0455 - acc: 0.98 - ETA: 11:08 - loss: 0.0455 - acc: 0.98 - ETA: 11:07 - loss: 0.0454 - acc: 0.98 - ETA: 11:06 - loss: 0.0454 - acc: 0.98 - ETA: 11:05 - loss: 0.0454 - acc: 0.98 - ETA: 11:05 - loss: 0.0455 - acc: 0.98 - ETA: 11:05 - loss: 0.0454 - acc: 0.98 - ETA: 11:04 - loss: 0.0455 - acc: 0.98 - ETA: 11:03 - loss: 0.0456 - acc: 0.98 - ETA: 11:02 - loss: 0.0456 - acc: 0.98 - ETA: 11:00 - loss: 0.0455 - acc: 0.98 - ETA: 10:59 - loss: 0.0456 - acc: 0.98 - ETA: 10:58 - loss: 0.0456 - acc: 0.98 - ETA: 10:57 - loss: 0.0456 - acc: 0.98 - ETA: 10:56 - loss: 0.0456 - acc: 0.98 - ETA: 10:55 - loss: 0.0456 - acc: 0.98 - ETA: 10:54 - loss: 0.0456 - acc: 0.98 - ETA: 10:53 - loss: 0.0457 - acc: 0.98 - ETA: 10:52 - loss: 0.0457 - acc: 0.98 - ETA: 10:51 - loss: 0.0458 - acc: 0.98 - ETA: 10:50 - loss: 0.0458 - acc: 0.98 - ETA: 10:49 - loss: 0.0458 - acc: 0.98 - ETA: 10:48 - loss: 0.0458 - acc: 0.98 - ETA: 10:48 - loss: 0.0457 - acc: 0.98 - ETA: 10:47 - loss: 0.0457 - acc: 0.98 - ETA: 10:46 - loss: 0.0458 - acc: 0.98 - ETA: 10:45 - loss: 0.0457 - acc: 0.98 - ETA: 10:44 - loss: 0.0457 - acc: 0.98 - ETA: 10:44 - loss: 0.0457 - acc: 0.98 - ETA: 10:43 - loss: 0.0457 - acc: 0.98 - ETA: 10:42 - loss: 0.0457 - acc: 0.98 - ETA: 10:41 - loss: 0.0457 - acc: 0.98 - ETA: 10:40 - loss: 0.0457 - acc: 0.98 - ETA: 10:39 - loss: 0.0457 - acc: 0.98 - ETA: 10:39 - loss: 0.0457 - acc: 0.98 - ETA: 10:38 - loss: 0.0457 - acc: 0.98 - ETA: 10:37 - loss: 0.0457 - acc: 0.98 - ETA: 10:37 - loss: 0.0457 - acc: 0.98 - ETA: 10:36 - loss: 0.0458 - acc: 0.98 - ETA: 10:35 - loss: 0.0458 - acc: 0.98 - ETA: 10:34 - loss: 0.0459 - acc: 0.98 - ETA: 10:33 - loss: 0.0459 - acc: 0.98 - ETA: 10:32 - loss: 0.0460 - acc: 0.98 - ETA: 10:32 - loss: 0.0459 - acc: 0.98 - ETA: 10:31 - loss: 0.0460 - acc: 0.98 - ETA: 10:30 - loss: 0.0460 - acc: 0.98 - ETA: 10:30 - loss: 0.0460 - acc: 0.98 - ETA: 10:29 - loss: 0.0460 - acc: 0.98 - ETA: 10:28 - loss: 0.0460 - acc: 0.98 - ETA: 10:27 - loss: 0.0461 - acc: 0.98 - ETA: 10:27 - loss: 0.0461 - acc: 0.98 - ETA: 10:26 - loss: 0.0460 - acc: 0.98 - ETA: 10:25 - loss: 0.0460 - acc: 0.98 - ETA: 10:25 - loss: 0.0460 - acc: 0.98 - ETA: 10:24 - loss: 0.0460 - acc: 0.98 - ETA: 10:23 - loss: 0.0460 - acc: 0.98 - ETA: 10:23 - loss: 0.0460 - acc: 0.98 - ETA: 10:24 - loss: 0.0460 - acc: 0.98 - ETA: 10:25 - loss: 0.0460 - acc: 0.98 - ETA: 10:26 - loss: 0.0460 - acc: 0.98 - ETA: 10:26 - loss: 0.0460 - acc: 0.98 - ETA: 10:27 - loss: 0.0460 - acc: 0.98 - ETA: 10:28 - loss: 0.0460 - acc: 0.98 - ETA: 10:29 - loss: 0.0460 - acc: 0.98 - ETA: 10:29 - loss: 0.0460 - acc: 0.98 - ETA: 10:31 - loss: 0.0460 - acc: 0.98 - ETA: 10:31 - loss: 0.0460 - acc: 0.98 - ETA: 10:32 - loss: 0.0459 - acc: 0.98 - ETA: 10:33 - loss: 0.0460 - acc: 0.98 - ETA: 10:34 - loss: 0.0459 - acc: 0.98 - ETA: 10:35 - loss: 0.0459 - acc: 0.98 - ETA: 10:34 - loss: 0.0459 - acc: 0.98 - ETA: 10:33 - loss: 0.0459 - acc: 0.98 - ETA: 10:32 - loss: 0.0458 - acc: 0.98 - ETA: 10:31 - loss: 0.0458 - acc: 0.98 - ETA: 10:30 - loss: 0.0458 - acc: 0.98 - ETA: 10:29 - loss: 0.0459 - acc: 0.98 - ETA: 10:28 - loss: 0.0458 - acc: 0.98 - ETA: 10:28 - loss: 0.0458 - acc: 0.98 - ETA: 10:27 - loss: 0.0459 - acc: 0.98 - ETA: 10:27 - loss: 0.0458 - acc: 0.98 - ETA: 10:26 - loss: 0.0458 - acc: 0.98 - ETA: 10:25 - loss: 0.0457 - acc: 0.98 - ETA: 10:24 - loss: 0.0457 - acc: 0.98 - ETA: 10:24 - loss: 0.0456 - acc: 0.98 - ETA: 10:23 - loss: 0.0455 - acc: 0.98 - ETA: 10:22 - loss: 0.0455 - acc: 0.98 - ETA: 10:22 - loss: 0.0457 - acc: 0.98 - ETA: 10:21 - loss: 0.0456 - acc: 0.98 - ETA: 10:20 - loss: 0.0456 - acc: 0.98 - ETA: 10:19 - loss: 0.0457 - acc: 0.98 - ETA: 10:18 - loss: 0.0457 - acc: 0.98 - ETA: 10:17 - loss: 0.0457 - acc: 0.98 - ETA: 10:16 - loss: 0.0457 - acc: 0.98 - ETA: 10:15 - loss: 0.0457 - acc: 0.98 - ETA: 10:14 - loss: 0.0457 - acc: 0.98 - ETA: 10:14 - loss: 0.0456 - acc: 0.98 - ETA: 10:13 - loss: 0.0456 - acc: 0.98 - ETA: 10:12 - loss: 0.0456 - acc: 0.98 - ETA: 10:11 - loss: 0.0456 - acc: 0.98 - ETA: 10:11 - loss: 0.0456 - acc: 0.98 - ETA: 10:10 - loss: 0.0456 - acc: 0.98 - ETA: 10:09 - loss: 0.0457 - acc: 0.98 - ETA: 10:08 - loss: 0.0457 - acc: 0.98 - ETA: 10:08 - loss: 0.0456 - acc: 0.98 - ETA: 10:07 - loss: 0.0456 - acc: 0.98 - ETA: 10:06 - loss: 0.0457 - acc: 0.98 - ETA: 10:05 - loss: 0.0457 - acc: 0.98 - ETA: 10:04 - loss: 0.0457 - acc: 0.98 - ETA: 10:03 - loss: 0.0458 - acc: 0.98 - ETA: 10:02 - loss: 0.0458 - acc: 0.98 - ETA: 10:01 - loss: 0.0458 - acc: 0.98 - ETA: 10:00 - loss: 0.0459 - acc: 0.98 - ETA: 9:59 - loss: 0.0459 - acc: 0.9824 - ETA: 9:59 - loss: 0.0458 - acc: 0.982 - ETA: 9:58 - loss: 0.0458 - acc: 0.982 - ETA: 9:57 - loss: 0.0457 - acc: 0.982 - ETA: 9:56 - loss: 0.0457 - acc: 0.9825"
     ]
    },
    {
     "name": "stdout",
     "output_type": "stream",
     "text": [
      " 78208/143613 [===============>..............] - ETA: 9:55 - loss: 0.0457 - acc: 0.982 - ETA: 9:54 - loss: 0.0457 - acc: 0.982 - ETA: 9:53 - loss: 0.0456 - acc: 0.982 - ETA: 9:52 - loss: 0.0456 - acc: 0.982 - ETA: 9:51 - loss: 0.0456 - acc: 0.982 - ETA: 9:50 - loss: 0.0456 - acc: 0.982 - ETA: 9:50 - loss: 0.0456 - acc: 0.982 - ETA: 9:49 - loss: 0.0456 - acc: 0.982 - ETA: 9:48 - loss: 0.0456 - acc: 0.982 - ETA: 9:47 - loss: 0.0456 - acc: 0.982 - ETA: 9:46 - loss: 0.0456 - acc: 0.982 - ETA: 9:45 - loss: 0.0455 - acc: 0.982 - ETA: 9:44 - loss: 0.0456 - acc: 0.982 - ETA: 9:43 - loss: 0.0455 - acc: 0.982 - ETA: 9:42 - loss: 0.0455 - acc: 0.982 - ETA: 9:41 - loss: 0.0455 - acc: 0.982 - ETA: 9:40 - loss: 0.0455 - acc: 0.982 - ETA: 9:39 - loss: 0.0454 - acc: 0.982 - ETA: 9:38 - loss: 0.0455 - acc: 0.982 - ETA: 9:37 - loss: 0.0455 - acc: 0.982 - ETA: 9:36 - loss: 0.0455 - acc: 0.982 - ETA: 9:35 - loss: 0.0455 - acc: 0.982 - ETA: 9:34 - loss: 0.0455 - acc: 0.982 - ETA: 9:33 - loss: 0.0455 - acc: 0.982 - ETA: 9:32 - loss: 0.0455 - acc: 0.982 - ETA: 9:31 - loss: 0.0455 - acc: 0.982 - ETA: 9:30 - loss: 0.0455 - acc: 0.982 - ETA: 9:29 - loss: 0.0455 - acc: 0.982 - ETA: 9:28 - loss: 0.0456 - acc: 0.982 - ETA: 9:28 - loss: 0.0456 - acc: 0.982 - ETA: 9:27 - loss: 0.0455 - acc: 0.982 - ETA: 9:26 - loss: 0.0456 - acc: 0.982 - ETA: 9:25 - loss: 0.0456 - acc: 0.982 - ETA: 9:24 - loss: 0.0455 - acc: 0.982 - ETA: 9:23 - loss: 0.0455 - acc: 0.982 - ETA: 9:22 - loss: 0.0455 - acc: 0.982 - ETA: 9:21 - loss: 0.0455 - acc: 0.982 - ETA: 9:20 - loss: 0.0456 - acc: 0.982 - ETA: 9:19 - loss: 0.0455 - acc: 0.982 - ETA: 9:18 - loss: 0.0455 - acc: 0.982 - ETA: 9:17 - loss: 0.0455 - acc: 0.982 - ETA: 9:17 - loss: 0.0455 - acc: 0.982 - ETA: 9:16 - loss: 0.0455 - acc: 0.982 - ETA: 9:15 - loss: 0.0456 - acc: 0.982 - ETA: 9:14 - loss: 0.0456 - acc: 0.982 - ETA: 9:13 - loss: 0.0456 - acc: 0.982 - ETA: 9:12 - loss: 0.0456 - acc: 0.982 - ETA: 9:11 - loss: 0.0456 - acc: 0.982 - ETA: 9:10 - loss: 0.0456 - acc: 0.982 - ETA: 9:09 - loss: 0.0456 - acc: 0.982 - ETA: 9:08 - loss: 0.0456 - acc: 0.982 - ETA: 9:07 - loss: 0.0456 - acc: 0.982 - ETA: 9:06 - loss: 0.0456 - acc: 0.982 - ETA: 9:05 - loss: 0.0456 - acc: 0.982 - ETA: 9:04 - loss: 0.0456 - acc: 0.982 - ETA: 9:04 - loss: 0.0456 - acc: 0.982 - ETA: 9:03 - loss: 0.0457 - acc: 0.982 - ETA: 9:02 - loss: 0.0457 - acc: 0.982 - ETA: 9:01 - loss: 0.0456 - acc: 0.982 - ETA: 9:00 - loss: 0.0457 - acc: 0.982 - ETA: 8:59 - loss: 0.0456 - acc: 0.982 - ETA: 8:58 - loss: 0.0456 - acc: 0.982 - ETA: 8:57 - loss: 0.0455 - acc: 0.982 - ETA: 8:56 - loss: 0.0456 - acc: 0.982 - ETA: 8:55 - loss: 0.0456 - acc: 0.982 - ETA: 8:54 - loss: 0.0456 - acc: 0.982 - ETA: 8:53 - loss: 0.0456 - acc: 0.982 - ETA: 8:52 - loss: 0.0456 - acc: 0.982 - ETA: 8:51 - loss: 0.0456 - acc: 0.982 - ETA: 8:50 - loss: 0.0456 - acc: 0.982 - ETA: 8:49 - loss: 0.0456 - acc: 0.982 - ETA: 8:48 - loss: 0.0456 - acc: 0.982 - ETA: 8:47 - loss: 0.0456 - acc: 0.982 - ETA: 8:47 - loss: 0.0455 - acc: 0.982 - ETA: 8:46 - loss: 0.0455 - acc: 0.982 - ETA: 8:45 - loss: 0.0455 - acc: 0.982 - ETA: 8:44 - loss: 0.0455 - acc: 0.982 - ETA: 8:43 - loss: 0.0455 - acc: 0.982 - ETA: 8:42 - loss: 0.0455 - acc: 0.982 - ETA: 8:41 - loss: 0.0455 - acc: 0.982 - ETA: 8:40 - loss: 0.0455 - acc: 0.982 - ETA: 8:40 - loss: 0.0455 - acc: 0.982 - ETA: 8:39 - loss: 0.0455 - acc: 0.982 - ETA: 8:38 - loss: 0.0455 - acc: 0.982 - ETA: 8:37 - loss: 0.0455 - acc: 0.982 - ETA: 8:36 - loss: 0.0455 - acc: 0.982 - ETA: 8:35 - loss: 0.0455 - acc: 0.982 - ETA: 8:34 - loss: 0.0455 - acc: 0.982 - ETA: 8:33 - loss: 0.0455 - acc: 0.982 - ETA: 8:33 - loss: 0.0455 - acc: 0.982 - ETA: 8:32 - loss: 0.0456 - acc: 0.982 - ETA: 8:31 - loss: 0.0456 - acc: 0.982 - ETA: 8:30 - loss: 0.0456 - acc: 0.982 - ETA: 8:29 - loss: 0.0457 - acc: 0.982 - ETA: 8:28 - loss: 0.0457 - acc: 0.982 - ETA: 8:27 - loss: 0.0456 - acc: 0.982 - ETA: 8:26 - loss: 0.0456 - acc: 0.982 - ETA: 8:26 - loss: 0.0456 - acc: 0.982 - ETA: 8:25 - loss: 0.0456 - acc: 0.982 - ETA: 8:24 - loss: 0.0456 - acc: 0.982 - ETA: 8:23 - loss: 0.0456 - acc: 0.982 - ETA: 8:22 - loss: 0.0456 - acc: 0.982 - ETA: 8:21 - loss: 0.0455 - acc: 0.982 - ETA: 8:21 - loss: 0.0456 - acc: 0.982 - ETA: 8:20 - loss: 0.0456 - acc: 0.982 - ETA: 8:19 - loss: 0.0456 - acc: 0.982 - ETA: 8:18 - loss: 0.0456 - acc: 0.982 - ETA: 8:17 - loss: 0.0456 - acc: 0.982 - ETA: 8:17 - loss: 0.0456 - acc: 0.982 - ETA: 8:16 - loss: 0.0456 - acc: 0.982 - ETA: 8:15 - loss: 0.0455 - acc: 0.982 - ETA: 8:14 - loss: 0.0455 - acc: 0.982 - ETA: 8:13 - loss: 0.0455 - acc: 0.982 - ETA: 8:12 - loss: 0.0456 - acc: 0.982 - ETA: 8:11 - loss: 0.0456 - acc: 0.982 - ETA: 8:11 - loss: 0.0457 - acc: 0.982 - ETA: 8:10 - loss: 0.0457 - acc: 0.982 - ETA: 8:09 - loss: 0.0457 - acc: 0.982 - ETA: 8:08 - loss: 0.0457 - acc: 0.982 - ETA: 8:07 - loss: 0.0457 - acc: 0.982 - ETA: 8:06 - loss: 0.0457 - acc: 0.982 - ETA: 8:05 - loss: 0.0457 - acc: 0.982 - ETA: 8:04 - loss: 0.0457 - acc: 0.982 - ETA: 8:03 - loss: 0.0457 - acc: 0.982 - ETA: 8:02 - loss: 0.0457 - acc: 0.982 - ETA: 8:02 - loss: 0.0456 - acc: 0.982 - ETA: 8:01 - loss: 0.0456 - acc: 0.982 - ETA: 8:00 - loss: 0.0457 - acc: 0.982 - ETA: 7:59 - loss: 0.0458 - acc: 0.982 - ETA: 7:58 - loss: 0.0457 - acc: 0.982 - ETA: 7:57 - loss: 0.0457 - acc: 0.982 - ETA: 7:56 - loss: 0.0457 - acc: 0.982 - ETA: 7:56 - loss: 0.0457 - acc: 0.982 - ETA: 7:55 - loss: 0.0457 - acc: 0.982 - ETA: 7:54 - loss: 0.0457 - acc: 0.982 - ETA: 7:53 - loss: 0.0457 - acc: 0.982 - ETA: 7:52 - loss: 0.0457 - acc: 0.982 - ETA: 7:51 - loss: 0.0457 - acc: 0.982 - ETA: 7:51 - loss: 0.0457 - acc: 0.982 - ETA: 7:50 - loss: 0.0457 - acc: 0.982 - ETA: 7:49 - loss: 0.0457 - acc: 0.982 - ETA: 7:48 - loss: 0.0457 - acc: 0.982 - ETA: 7:47 - loss: 0.0457 - acc: 0.982 - ETA: 7:46 - loss: 0.0457 - acc: 0.982 - ETA: 7:45 - loss: 0.0457 - acc: 0.982 - ETA: 7:45 - loss: 0.0457 - acc: 0.982 - ETA: 7:44 - loss: 0.0457 - acc: 0.982 - ETA: 7:43 - loss: 0.0457 - acc: 0.982 - ETA: 7:42 - loss: 0.0457 - acc: 0.982 - ETA: 7:41 - loss: 0.0457 - acc: 0.982 - ETA: 7:40 - loss: 0.0457 - acc: 0.982 - ETA: 7:39 - loss: 0.0457 - acc: 0.982 - ETA: 7:38 - loss: 0.0457 - acc: 0.982 - ETA: 7:38 - loss: 0.0457 - acc: 0.982 - ETA: 7:37 - loss: 0.0457 - acc: 0.982 - ETA: 7:36 - loss: 0.0457 - acc: 0.982 - ETA: 7:35 - loss: 0.0457 - acc: 0.982 - ETA: 7:34 - loss: 0.0457 - acc: 0.982 - ETA: 7:33 - loss: 0.0457 - acc: 0.982 - ETA: 7:33 - loss: 0.0457 - acc: 0.982 - ETA: 7:32 - loss: 0.0457 - acc: 0.982 - ETA: 7:31 - loss: 0.0457 - acc: 0.982 - ETA: 7:30 - loss: 0.0456 - acc: 0.982 - ETA: 7:29 - loss: 0.0456 - acc: 0.982 - ETA: 7:28 - loss: 0.0457 - acc: 0.982 - ETA: 7:28 - loss: 0.0457 - acc: 0.982 - ETA: 7:27 - loss: 0.0457 - acc: 0.982 - ETA: 7:26 - loss: 0.0457 - acc: 0.982 - ETA: 7:25 - loss: 0.0457 - acc: 0.982 - ETA: 7:24 - loss: 0.0457 - acc: 0.982 - ETA: 7:23 - loss: 0.0457 - acc: 0.982 - ETA: 7:22 - loss: 0.0457 - acc: 0.982 - ETA: 7:21 - loss: 0.0457 - acc: 0.982 - ETA: 7:21 - loss: 0.0457 - acc: 0.982 - ETA: 7:20 - loss: 0.0457 - acc: 0.982 - ETA: 7:19 - loss: 0.0457 - acc: 0.982 - ETA: 7:18 - loss: 0.0457 - acc: 0.982 - ETA: 7:17 - loss: 0.0457 - acc: 0.982 - ETA: 7:16 - loss: 0.0456 - acc: 0.982 - ETA: 7:15 - loss: 0.0456 - acc: 0.982 - ETA: 7:15 - loss: 0.0456 - acc: 0.982 - ETA: 7:14 - loss: 0.0456 - acc: 0.982 - ETA: 7:13 - loss: 0.0456 - acc: 0.982 - ETA: 7:12 - loss: 0.0457 - acc: 0.982 - ETA: 7:11 - loss: 0.0457 - acc: 0.982 - ETA: 7:10 - loss: 0.0456 - acc: 0.982 - ETA: 7:10 - loss: 0.0456 - acc: 0.982 - ETA: 7:09 - loss: 0.0456 - acc: 0.982 - ETA: 7:08 - loss: 0.0456 - acc: 0.982 - ETA: 7:07 - loss: 0.0456 - acc: 0.982 - ETA: 7:06 - loss: 0.0456 - acc: 0.982 - ETA: 7:05 - loss: 0.0456 - acc: 0.982 - ETA: 7:04 - loss: 0.0456 - acc: 0.982 - ETA: 7:03 - loss: 0.0456 - acc: 0.982 - ETA: 7:02 - loss: 0.0456 - acc: 0.982 - ETA: 7:01 - loss: 0.0457 - acc: 0.982 - ETA: 7:01 - loss: 0.0457 - acc: 0.982 - ETA: 7:00 - loss: 0.0457 - acc: 0.982 - ETA: 6:59 - loss: 0.0457 - acc: 0.982 - ETA: 6:58 - loss: 0.0457 - acc: 0.982 - ETA: 6:57 - loss: 0.0457 - acc: 0.982 - ETA: 6:56 - loss: 0.0457 - acc: 0.982 - ETA: 6:55 - loss: 0.0457 - acc: 0.982 - ETA: 6:54 - loss: 0.0457 - acc: 0.9826"
     ]
    },
    {
     "name": "stdout",
     "output_type": "stream",
     "text": [
      "104320/143613 [====================>.........] - ETA: 6:54 - loss: 0.0457 - acc: 0.982 - ETA: 6:53 - loss: 0.0456 - acc: 0.982 - ETA: 6:52 - loss: 0.0456 - acc: 0.982 - ETA: 6:51 - loss: 0.0456 - acc: 0.982 - ETA: 6:50 - loss: 0.0456 - acc: 0.982 - ETA: 6:49 - loss: 0.0456 - acc: 0.982 - ETA: 6:48 - loss: 0.0456 - acc: 0.982 - ETA: 6:48 - loss: 0.0456 - acc: 0.982 - ETA: 6:47 - loss: 0.0455 - acc: 0.982 - ETA: 6:46 - loss: 0.0455 - acc: 0.982 - ETA: 6:45 - loss: 0.0455 - acc: 0.982 - ETA: 6:44 - loss: 0.0456 - acc: 0.982 - ETA: 6:43 - loss: 0.0455 - acc: 0.982 - ETA: 6:42 - loss: 0.0456 - acc: 0.982 - ETA: 6:42 - loss: 0.0456 - acc: 0.982 - ETA: 6:41 - loss: 0.0455 - acc: 0.982 - ETA: 6:40 - loss: 0.0455 - acc: 0.982 - ETA: 6:39 - loss: 0.0455 - acc: 0.982 - ETA: 6:38 - loss: 0.0455 - acc: 0.982 - ETA: 6:37 - loss: 0.0455 - acc: 0.982 - ETA: 6:37 - loss: 0.0455 - acc: 0.982 - ETA: 6:36 - loss: 0.0455 - acc: 0.982 - ETA: 6:35 - loss: 0.0455 - acc: 0.982 - ETA: 6:34 - loss: 0.0455 - acc: 0.982 - ETA: 6:33 - loss: 0.0455 - acc: 0.982 - ETA: 6:32 - loss: 0.0455 - acc: 0.982 - ETA: 6:31 - loss: 0.0455 - acc: 0.982 - ETA: 6:31 - loss: 0.0455 - acc: 0.982 - ETA: 6:30 - loss: 0.0455 - acc: 0.982 - ETA: 6:29 - loss: 0.0455 - acc: 0.982 - ETA: 6:28 - loss: 0.0455 - acc: 0.982 - ETA: 6:27 - loss: 0.0455 - acc: 0.982 - ETA: 6:26 - loss: 0.0455 - acc: 0.982 - ETA: 6:25 - loss: 0.0455 - acc: 0.982 - ETA: 6:24 - loss: 0.0455 - acc: 0.982 - ETA: 6:24 - loss: 0.0455 - acc: 0.982 - ETA: 6:23 - loss: 0.0454 - acc: 0.982 - ETA: 6:22 - loss: 0.0454 - acc: 0.982 - ETA: 6:21 - loss: 0.0454 - acc: 0.982 - ETA: 6:20 - loss: 0.0454 - acc: 0.982 - ETA: 6:19 - loss: 0.0454 - acc: 0.982 - ETA: 6:18 - loss: 0.0454 - acc: 0.982 - ETA: 6:18 - loss: 0.0454 - acc: 0.982 - ETA: 6:17 - loss: 0.0454 - acc: 0.982 - ETA: 6:16 - loss: 0.0454 - acc: 0.982 - ETA: 6:15 - loss: 0.0454 - acc: 0.982 - ETA: 6:14 - loss: 0.0454 - acc: 0.982 - ETA: 6:13 - loss: 0.0454 - acc: 0.982 - ETA: 6:13 - loss: 0.0454 - acc: 0.982 - ETA: 6:12 - loss: 0.0454 - acc: 0.982 - ETA: 6:11 - loss: 0.0454 - acc: 0.982 - ETA: 6:10 - loss: 0.0454 - acc: 0.982 - ETA: 6:09 - loss: 0.0454 - acc: 0.982 - ETA: 6:08 - loss: 0.0454 - acc: 0.982 - ETA: 6:07 - loss: 0.0454 - acc: 0.982 - ETA: 6:07 - loss: 0.0455 - acc: 0.982 - ETA: 6:06 - loss: 0.0455 - acc: 0.982 - ETA: 6:05 - loss: 0.0455 - acc: 0.982 - ETA: 6:04 - loss: 0.0454 - acc: 0.982 - ETA: 6:03 - loss: 0.0454 - acc: 0.982 - ETA: 6:02 - loss: 0.0454 - acc: 0.982 - ETA: 6:02 - loss: 0.0454 - acc: 0.982 - ETA: 6:01 - loss: 0.0454 - acc: 0.982 - ETA: 6:00 - loss: 0.0454 - acc: 0.982 - ETA: 5:59 - loss: 0.0454 - acc: 0.982 - ETA: 5:58 - loss: 0.0454 - acc: 0.982 - ETA: 5:57 - loss: 0.0454 - acc: 0.982 - ETA: 5:57 - loss: 0.0454 - acc: 0.982 - ETA: 5:56 - loss: 0.0454 - acc: 0.982 - ETA: 5:55 - loss: 0.0454 - acc: 0.982 - ETA: 5:54 - loss: 0.0454 - acc: 0.982 - ETA: 5:53 - loss: 0.0454 - acc: 0.982 - ETA: 5:52 - loss: 0.0454 - acc: 0.982 - ETA: 5:52 - loss: 0.0454 - acc: 0.982 - ETA: 5:51 - loss: 0.0454 - acc: 0.982 - ETA: 5:50 - loss: 0.0453 - acc: 0.982 - ETA: 5:49 - loss: 0.0453 - acc: 0.982 - ETA: 5:48 - loss: 0.0453 - acc: 0.982 - ETA: 5:48 - loss: 0.0453 - acc: 0.982 - ETA: 5:47 - loss: 0.0454 - acc: 0.982 - ETA: 5:46 - loss: 0.0454 - acc: 0.982 - ETA: 5:45 - loss: 0.0453 - acc: 0.982 - ETA: 5:45 - loss: 0.0453 - acc: 0.982 - ETA: 5:44 - loss: 0.0453 - acc: 0.982 - ETA: 5:43 - loss: 0.0453 - acc: 0.982 - ETA: 5:42 - loss: 0.0453 - acc: 0.982 - ETA: 5:41 - loss: 0.0453 - acc: 0.982 - ETA: 5:41 - loss: 0.0453 - acc: 0.982 - ETA: 5:40 - loss: 0.0453 - acc: 0.982 - ETA: 5:39 - loss: 0.0453 - acc: 0.982 - ETA: 5:38 - loss: 0.0453 - acc: 0.982 - ETA: 5:37 - loss: 0.0454 - acc: 0.982 - ETA: 5:36 - loss: 0.0454 - acc: 0.982 - ETA: 5:36 - loss: 0.0454 - acc: 0.982 - ETA: 5:35 - loss: 0.0454 - acc: 0.982 - ETA: 5:34 - loss: 0.0455 - acc: 0.982 - ETA: 5:33 - loss: 0.0454 - acc: 0.982 - ETA: 5:32 - loss: 0.0454 - acc: 0.982 - ETA: 5:31 - loss: 0.0454 - acc: 0.982 - ETA: 5:31 - loss: 0.0454 - acc: 0.982 - ETA: 5:30 - loss: 0.0454 - acc: 0.982 - ETA: 5:29 - loss: 0.0454 - acc: 0.982 - ETA: 5:28 - loss: 0.0454 - acc: 0.982 - ETA: 5:27 - loss: 0.0454 - acc: 0.982 - ETA: 5:26 - loss: 0.0455 - acc: 0.982 - ETA: 5:26 - loss: 0.0455 - acc: 0.982 - ETA: 5:25 - loss: 0.0455 - acc: 0.982 - ETA: 5:24 - loss: 0.0455 - acc: 0.982 - ETA: 5:23 - loss: 0.0455 - acc: 0.982 - ETA: 5:22 - loss: 0.0454 - acc: 0.982 - ETA: 5:22 - loss: 0.0455 - acc: 0.982 - ETA: 5:21 - loss: 0.0455 - acc: 0.982 - ETA: 5:20 - loss: 0.0454 - acc: 0.982 - ETA: 5:19 - loss: 0.0454 - acc: 0.982 - ETA: 5:18 - loss: 0.0454 - acc: 0.982 - ETA: 5:18 - loss: 0.0455 - acc: 0.982 - ETA: 5:17 - loss: 0.0455 - acc: 0.982 - ETA: 5:16 - loss: 0.0455 - acc: 0.982 - ETA: 5:15 - loss: 0.0455 - acc: 0.982 - ETA: 5:14 - loss: 0.0455 - acc: 0.982 - ETA: 5:14 - loss: 0.0455 - acc: 0.982 - ETA: 5:13 - loss: 0.0455 - acc: 0.982 - ETA: 5:12 - loss: 0.0455 - acc: 0.982 - ETA: 5:11 - loss: 0.0455 - acc: 0.982 - ETA: 5:10 - loss: 0.0454 - acc: 0.982 - ETA: 5:09 - loss: 0.0454 - acc: 0.982 - ETA: 5:09 - loss: 0.0455 - acc: 0.982 - ETA: 5:08 - loss: 0.0455 - acc: 0.982 - ETA: 5:07 - loss: 0.0455 - acc: 0.982 - ETA: 5:06 - loss: 0.0455 - acc: 0.982 - ETA: 5:05 - loss: 0.0455 - acc: 0.982 - ETA: 5:04 - loss: 0.0455 - acc: 0.982 - ETA: 5:04 - loss: 0.0455 - acc: 0.982 - ETA: 5:03 - loss: 0.0455 - acc: 0.982 - ETA: 5:02 - loss: 0.0455 - acc: 0.982 - ETA: 5:01 - loss: 0.0455 - acc: 0.982 - ETA: 5:00 - loss: 0.0455 - acc: 0.982 - ETA: 5:00 - loss: 0.0455 - acc: 0.982 - ETA: 4:59 - loss: 0.0455 - acc: 0.982 - ETA: 4:58 - loss: 0.0455 - acc: 0.982 - ETA: 4:57 - loss: 0.0455 - acc: 0.982 - ETA: 4:56 - loss: 0.0455 - acc: 0.982 - ETA: 4:56 - loss: 0.0455 - acc: 0.982 - ETA: 4:55 - loss: 0.0455 - acc: 0.982 - ETA: 4:54 - loss: 0.0455 - acc: 0.982 - ETA: 4:53 - loss: 0.0455 - acc: 0.982 - ETA: 4:52 - loss: 0.0454 - acc: 0.982 - ETA: 4:51 - loss: 0.0454 - acc: 0.982 - ETA: 4:51 - loss: 0.0454 - acc: 0.982 - ETA: 4:50 - loss: 0.0454 - acc: 0.982 - ETA: 4:49 - loss: 0.0454 - acc: 0.982 - ETA: 4:48 - loss: 0.0454 - acc: 0.982 - ETA: 4:47 - loss: 0.0454 - acc: 0.982 - ETA: 4:47 - loss: 0.0454 - acc: 0.982 - ETA: 4:46 - loss: 0.0454 - acc: 0.982 - ETA: 4:45 - loss: 0.0454 - acc: 0.982 - ETA: 4:44 - loss: 0.0454 - acc: 0.982 - ETA: 4:43 - loss: 0.0454 - acc: 0.982 - ETA: 4:42 - loss: 0.0454 - acc: 0.982 - ETA: 4:42 - loss: 0.0454 - acc: 0.982 - ETA: 4:41 - loss: 0.0455 - acc: 0.982 - ETA: 4:40 - loss: 0.0454 - acc: 0.982 - ETA: 4:39 - loss: 0.0454 - acc: 0.982 - ETA: 4:38 - loss: 0.0454 - acc: 0.982 - ETA: 4:38 - loss: 0.0454 - acc: 0.982 - ETA: 4:37 - loss: 0.0454 - acc: 0.982 - ETA: 4:36 - loss: 0.0454 - acc: 0.982 - ETA: 4:35 - loss: 0.0454 - acc: 0.982 - ETA: 4:34 - loss: 0.0454 - acc: 0.982 - ETA: 4:34 - loss: 0.0454 - acc: 0.982 - ETA: 4:33 - loss: 0.0454 - acc: 0.982 - ETA: 4:32 - loss: 0.0454 - acc: 0.982 - ETA: 4:31 - loss: 0.0454 - acc: 0.982 - ETA: 4:30 - loss: 0.0454 - acc: 0.982 - ETA: 4:29 - loss: 0.0454 - acc: 0.982 - ETA: 4:28 - loss: 0.0455 - acc: 0.982 - ETA: 4:28 - loss: 0.0455 - acc: 0.982 - ETA: 4:27 - loss: 0.0454 - acc: 0.982 - ETA: 4:26 - loss: 0.0454 - acc: 0.982 - ETA: 4:25 - loss: 0.0454 - acc: 0.982 - ETA: 4:24 - loss: 0.0455 - acc: 0.982 - ETA: 4:24 - loss: 0.0455 - acc: 0.982 - ETA: 4:23 - loss: 0.0455 - acc: 0.982 - ETA: 4:22 - loss: 0.0455 - acc: 0.982 - ETA: 4:21 - loss: 0.0455 - acc: 0.982 - ETA: 4:20 - loss: 0.0455 - acc: 0.982 - ETA: 4:20 - loss: 0.0455 - acc: 0.982 - ETA: 4:19 - loss: 0.0455 - acc: 0.982 - ETA: 4:18 - loss: 0.0455 - acc: 0.982 - ETA: 4:17 - loss: 0.0455 - acc: 0.982 - ETA: 4:16 - loss: 0.0455 - acc: 0.982 - ETA: 4:16 - loss: 0.0455 - acc: 0.982 - ETA: 4:15 - loss: 0.0454 - acc: 0.982 - ETA: 4:14 - loss: 0.0455 - acc: 0.982 - ETA: 4:13 - loss: 0.0455 - acc: 0.982 - ETA: 4:12 - loss: 0.0455 - acc: 0.982 - ETA: 4:12 - loss: 0.0455 - acc: 0.982 - ETA: 4:11 - loss: 0.0455 - acc: 0.982 - ETA: 4:10 - loss: 0.0455 - acc: 0.982 - ETA: 4:09 - loss: 0.0454 - acc: 0.982 - ETA: 4:08 - loss: 0.0454 - acc: 0.982 - ETA: 4:08 - loss: 0.0454 - acc: 0.982 - ETA: 4:07 - loss: 0.0455 - acc: 0.982 - ETA: 4:06 - loss: 0.0454 - acc: 0.9826"
     ]
    },
    {
     "name": "stdout",
     "output_type": "stream",
     "text": [
      "130432/143613 [==========================>...] - ETA: 4:05 - loss: 0.0454 - acc: 0.982 - ETA: 4:04 - loss: 0.0454 - acc: 0.982 - ETA: 4:04 - loss: 0.0454 - acc: 0.982 - ETA: 4:03 - loss: 0.0454 - acc: 0.982 - ETA: 4:02 - loss: 0.0454 - acc: 0.982 - ETA: 4:01 - loss: 0.0454 - acc: 0.982 - ETA: 4:00 - loss: 0.0454 - acc: 0.982 - ETA: 3:59 - loss: 0.0454 - acc: 0.982 - ETA: 3:59 - loss: 0.0454 - acc: 0.982 - ETA: 3:58 - loss: 0.0454 - acc: 0.982 - ETA: 3:57 - loss: 0.0455 - acc: 0.982 - ETA: 3:56 - loss: 0.0454 - acc: 0.982 - ETA: 3:55 - loss: 0.0454 - acc: 0.982 - ETA: 3:55 - loss: 0.0454 - acc: 0.982 - ETA: 3:54 - loss: 0.0454 - acc: 0.982 - ETA: 3:53 - loss: 0.0454 - acc: 0.982 - ETA: 3:52 - loss: 0.0454 - acc: 0.982 - ETA: 3:51 - loss: 0.0453 - acc: 0.982 - ETA: 3:51 - loss: 0.0453 - acc: 0.982 - ETA: 3:50 - loss: 0.0453 - acc: 0.982 - ETA: 3:49 - loss: 0.0453 - acc: 0.982 - ETA: 3:48 - loss: 0.0453 - acc: 0.982 - ETA: 3:47 - loss: 0.0453 - acc: 0.982 - ETA: 3:47 - loss: 0.0453 - acc: 0.982 - ETA: 3:46 - loss: 0.0453 - acc: 0.982 - ETA: 3:45 - loss: 0.0453 - acc: 0.982 - ETA: 3:44 - loss: 0.0453 - acc: 0.982 - ETA: 3:43 - loss: 0.0453 - acc: 0.982 - ETA: 3:42 - loss: 0.0453 - acc: 0.982 - ETA: 3:42 - loss: 0.0453 - acc: 0.982 - ETA: 3:41 - loss: 0.0453 - acc: 0.982 - ETA: 3:40 - loss: 0.0453 - acc: 0.982 - ETA: 3:39 - loss: 0.0453 - acc: 0.982 - ETA: 3:38 - loss: 0.0453 - acc: 0.982 - ETA: 3:38 - loss: 0.0453 - acc: 0.982 - ETA: 3:37 - loss: 0.0453 - acc: 0.982 - ETA: 3:36 - loss: 0.0453 - acc: 0.982 - ETA: 3:35 - loss: 0.0453 - acc: 0.982 - ETA: 3:34 - loss: 0.0452 - acc: 0.982 - ETA: 3:34 - loss: 0.0453 - acc: 0.982 - ETA: 3:33 - loss: 0.0452 - acc: 0.982 - ETA: 3:32 - loss: 0.0453 - acc: 0.982 - ETA: 3:31 - loss: 0.0453 - acc: 0.982 - ETA: 3:30 - loss: 0.0453 - acc: 0.982 - ETA: 3:30 - loss: 0.0452 - acc: 0.982 - ETA: 3:29 - loss: 0.0452 - acc: 0.982 - ETA: 3:28 - loss: 0.0452 - acc: 0.982 - ETA: 3:27 - loss: 0.0452 - acc: 0.982 - ETA: 3:26 - loss: 0.0453 - acc: 0.982 - ETA: 3:26 - loss: 0.0453 - acc: 0.982 - ETA: 3:25 - loss: 0.0453 - acc: 0.982 - ETA: 3:24 - loss: 0.0453 - acc: 0.982 - ETA: 3:23 - loss: 0.0453 - acc: 0.982 - ETA: 3:22 - loss: 0.0453 - acc: 0.982 - ETA: 3:22 - loss: 0.0453 - acc: 0.982 - ETA: 3:21 - loss: 0.0453 - acc: 0.982 - ETA: 3:20 - loss: 0.0453 - acc: 0.982 - ETA: 3:19 - loss: 0.0453 - acc: 0.982 - ETA: 3:18 - loss: 0.0453 - acc: 0.982 - ETA: 3:17 - loss: 0.0453 - acc: 0.982 - ETA: 3:17 - loss: 0.0453 - acc: 0.982 - ETA: 3:16 - loss: 0.0453 - acc: 0.982 - ETA: 3:15 - loss: 0.0453 - acc: 0.982 - ETA: 3:14 - loss: 0.0453 - acc: 0.982 - ETA: 3:13 - loss: 0.0453 - acc: 0.982 - ETA: 3:13 - loss: 0.0453 - acc: 0.982 - ETA: 3:12 - loss: 0.0453 - acc: 0.982 - ETA: 3:11 - loss: 0.0453 - acc: 0.982 - ETA: 3:10 - loss: 0.0453 - acc: 0.982 - ETA: 3:09 - loss: 0.0453 - acc: 0.982 - ETA: 3:09 - loss: 0.0453 - acc: 0.982 - ETA: 3:08 - loss: 0.0453 - acc: 0.982 - ETA: 3:07 - loss: 0.0453 - acc: 0.982 - ETA: 3:06 - loss: 0.0453 - acc: 0.982 - ETA: 3:05 - loss: 0.0453 - acc: 0.982 - ETA: 3:05 - loss: 0.0453 - acc: 0.982 - ETA: 3:04 - loss: 0.0453 - acc: 0.982 - ETA: 3:03 - loss: 0.0453 - acc: 0.982 - ETA: 3:02 - loss: 0.0453 - acc: 0.982 - ETA: 3:01 - loss: 0.0453 - acc: 0.982 - ETA: 3:01 - loss: 0.0453 - acc: 0.982 - ETA: 3:00 - loss: 0.0453 - acc: 0.982 - ETA: 2:59 - loss: 0.0453 - acc: 0.982 - ETA: 2:58 - loss: 0.0453 - acc: 0.982 - ETA: 2:57 - loss: 0.0453 - acc: 0.982 - ETA: 2:57 - loss: 0.0453 - acc: 0.982 - ETA: 2:56 - loss: 0.0453 - acc: 0.982 - ETA: 2:55 - loss: 0.0453 - acc: 0.982 - ETA: 2:54 - loss: 0.0453 - acc: 0.982 - ETA: 2:53 - loss: 0.0453 - acc: 0.982 - ETA: 2:53 - loss: 0.0452 - acc: 0.982 - ETA: 2:52 - loss: 0.0453 - acc: 0.982 - ETA: 2:51 - loss: 0.0453 - acc: 0.982 - ETA: 2:50 - loss: 0.0453 - acc: 0.982 - ETA: 2:49 - loss: 0.0453 - acc: 0.982 - ETA: 2:48 - loss: 0.0452 - acc: 0.982 - ETA: 2:48 - loss: 0.0452 - acc: 0.982 - ETA: 2:47 - loss: 0.0452 - acc: 0.982 - ETA: 2:46 - loss: 0.0452 - acc: 0.982 - ETA: 2:45 - loss: 0.0452 - acc: 0.982 - ETA: 2:44 - loss: 0.0452 - acc: 0.982 - ETA: 2:44 - loss: 0.0453 - acc: 0.982 - ETA: 2:43 - loss: 0.0452 - acc: 0.982 - ETA: 2:42 - loss: 0.0452 - acc: 0.982 - ETA: 2:41 - loss: 0.0452 - acc: 0.982 - ETA: 2:40 - loss: 0.0452 - acc: 0.982 - ETA: 2:40 - loss: 0.0453 - acc: 0.982 - ETA: 2:39 - loss: 0.0453 - acc: 0.982 - ETA: 2:38 - loss: 0.0453 - acc: 0.982 - ETA: 2:37 - loss: 0.0453 - acc: 0.982 - ETA: 2:36 - loss: 0.0453 - acc: 0.982 - ETA: 2:36 - loss: 0.0453 - acc: 0.982 - ETA: 2:35 - loss: 0.0452 - acc: 0.982 - ETA: 2:34 - loss: 0.0452 - acc: 0.982 - ETA: 2:33 - loss: 0.0452 - acc: 0.982 - ETA: 2:32 - loss: 0.0452 - acc: 0.982 - ETA: 2:32 - loss: 0.0452 - acc: 0.982 - ETA: 2:31 - loss: 0.0452 - acc: 0.982 - ETA: 2:30 - loss: 0.0452 - acc: 0.982 - ETA: 2:29 - loss: 0.0452 - acc: 0.982 - ETA: 2:28 - loss: 0.0452 - acc: 0.982 - ETA: 2:28 - loss: 0.0452 - acc: 0.982 - ETA: 2:27 - loss: 0.0452 - acc: 0.982 - ETA: 2:26 - loss: 0.0452 - acc: 0.982 - ETA: 2:25 - loss: 0.0453 - acc: 0.982 - ETA: 2:24 - loss: 0.0452 - acc: 0.982 - ETA: 2:24 - loss: 0.0452 - acc: 0.982 - ETA: 2:23 - loss: 0.0452 - acc: 0.982 - ETA: 2:22 - loss: 0.0452 - acc: 0.982 - ETA: 2:21 - loss: 0.0452 - acc: 0.982 - ETA: 2:20 - loss: 0.0452 - acc: 0.982 - ETA: 2:20 - loss: 0.0452 - acc: 0.982 - ETA: 2:19 - loss: 0.0452 - acc: 0.982 - ETA: 2:18 - loss: 0.0452 - acc: 0.982 - ETA: 2:17 - loss: 0.0452 - acc: 0.982 - ETA: 2:16 - loss: 0.0452 - acc: 0.982 - ETA: 2:16 - loss: 0.0451 - acc: 0.982 - ETA: 2:15 - loss: 0.0451 - acc: 0.982 - ETA: 2:14 - loss: 0.0451 - acc: 0.982 - ETA: 2:13 - loss: 0.0451 - acc: 0.982 - ETA: 2:13 - loss: 0.0451 - acc: 0.982 - ETA: 2:12 - loss: 0.0451 - acc: 0.982 - ETA: 2:11 - loss: 0.0451 - acc: 0.982 - ETA: 2:10 - loss: 0.0451 - acc: 0.982 - ETA: 2:10 - loss: 0.0451 - acc: 0.982 - ETA: 2:09 - loss: 0.0451 - acc: 0.982 - ETA: 2:08 - loss: 0.0451 - acc: 0.982 - ETA: 2:07 - loss: 0.0451 - acc: 0.982 - ETA: 2:06 - loss: 0.0452 - acc: 0.982 - ETA: 2:06 - loss: 0.0452 - acc: 0.982 - ETA: 2:05 - loss: 0.0452 - acc: 0.982 - ETA: 2:04 - loss: 0.0452 - acc: 0.982 - ETA: 2:03 - loss: 0.0452 - acc: 0.982 - ETA: 2:02 - loss: 0.0452 - acc: 0.982 - ETA: 2:02 - loss: 0.0453 - acc: 0.982 - ETA: 2:01 - loss: 0.0453 - acc: 0.982 - ETA: 2:00 - loss: 0.0453 - acc: 0.982 - ETA: 1:59 - loss: 0.0453 - acc: 0.982 - ETA: 1:58 - loss: 0.0453 - acc: 0.982 - ETA: 1:58 - loss: 0.0453 - acc: 0.982 - ETA: 1:57 - loss: 0.0453 - acc: 0.982 - ETA: 1:56 - loss: 0.0453 - acc: 0.982 - ETA: 1:55 - loss: 0.0453 - acc: 0.982 - ETA: 1:54 - loss: 0.0453 - acc: 0.982 - ETA: 1:54 - loss: 0.0453 - acc: 0.982 - ETA: 1:53 - loss: 0.0453 - acc: 0.982 - ETA: 1:52 - loss: 0.0452 - acc: 0.982 - ETA: 1:51 - loss: 0.0453 - acc: 0.982 - ETA: 1:50 - loss: 0.0453 - acc: 0.982 - ETA: 1:50 - loss: 0.0452 - acc: 0.982 - ETA: 1:49 - loss: 0.0452 - acc: 0.982 - ETA: 1:48 - loss: 0.0452 - acc: 0.982 - ETA: 1:47 - loss: 0.0452 - acc: 0.982 - ETA: 1:46 - loss: 0.0452 - acc: 0.982 - ETA: 1:46 - loss: 0.0452 - acc: 0.982 - ETA: 1:45 - loss: 0.0452 - acc: 0.982 - ETA: 1:44 - loss: 0.0452 - acc: 0.982 - ETA: 1:43 - loss: 0.0452 - acc: 0.982 - ETA: 1:42 - loss: 0.0452 - acc: 0.982 - ETA: 1:42 - loss: 0.0452 - acc: 0.982 - ETA: 1:41 - loss: 0.0452 - acc: 0.982 - ETA: 1:40 - loss: 0.0452 - acc: 0.982 - ETA: 1:39 - loss: 0.0452 - acc: 0.982 - ETA: 1:38 - loss: 0.0452 - acc: 0.982 - ETA: 1:38 - loss: 0.0452 - acc: 0.982 - ETA: 1:37 - loss: 0.0452 - acc: 0.982 - ETA: 1:36 - loss: 0.0452 - acc: 0.982 - ETA: 1:35 - loss: 0.0452 - acc: 0.982 - ETA: 1:34 - loss: 0.0452 - acc: 0.982 - ETA: 1:34 - loss: 0.0451 - acc: 0.982 - ETA: 1:33 - loss: 0.0451 - acc: 0.982 - ETA: 1:32 - loss: 0.0451 - acc: 0.982 - ETA: 1:31 - loss: 0.0451 - acc: 0.982 - ETA: 1:30 - loss: 0.0451 - acc: 0.982 - ETA: 1:30 - loss: 0.0451 - acc: 0.982 - ETA: 1:29 - loss: 0.0451 - acc: 0.982 - ETA: 1:28 - loss: 0.0451 - acc: 0.982 - ETA: 1:27 - loss: 0.0451 - acc: 0.982 - ETA: 1:26 - loss: 0.0451 - acc: 0.982 - ETA: 1:26 - loss: 0.0451 - acc: 0.982 - ETA: 1:25 - loss: 0.0451 - acc: 0.982 - ETA: 1:24 - loss: 0.0451 - acc: 0.982 - ETA: 1:23 - loss: 0.0451 - acc: 0.982 - ETA: 1:22 - loss: 0.0451 - acc: 0.9827"
     ]
    },
    {
     "name": "stdout",
     "output_type": "stream",
     "text": [
      "143488/143613 [============================>.] - ETA: 1:22 - loss: 0.0451 - acc: 0.982 - ETA: 1:21 - loss: 0.0451 - acc: 0.982 - ETA: 1:20 - loss: 0.0451 - acc: 0.982 - ETA: 1:19 - loss: 0.0451 - acc: 0.982 - ETA: 1:18 - loss: 0.0451 - acc: 0.982 - ETA: 1:18 - loss: 0.0451 - acc: 0.982 - ETA: 1:17 - loss: 0.0452 - acc: 0.982 - ETA: 1:16 - loss: 0.0452 - acc: 0.982 - ETA: 1:15 - loss: 0.0452 - acc: 0.982 - ETA: 1:14 - loss: 0.0452 - acc: 0.982 - ETA: 1:14 - loss: 0.0452 - acc: 0.982 - ETA: 1:13 - loss: 0.0452 - acc: 0.982 - ETA: 1:12 - loss: 0.0452 - acc: 0.982 - ETA: 1:11 - loss: 0.0452 - acc: 0.982 - ETA: 1:10 - loss: 0.0451 - acc: 0.982 - ETA: 1:10 - loss: 0.0451 - acc: 0.982 - ETA: 1:09 - loss: 0.0451 - acc: 0.982 - ETA: 1:08 - loss: 0.0451 - acc: 0.982 - ETA: 1:07 - loss: 0.0451 - acc: 0.982 - ETA: 1:06 - loss: 0.0451 - acc: 0.982 - ETA: 1:06 - loss: 0.0451 - acc: 0.982 - ETA: 1:05 - loss: 0.0451 - acc: 0.982 - ETA: 1:04 - loss: 0.0451 - acc: 0.982 - ETA: 1:03 - loss: 0.0451 - acc: 0.982 - ETA: 1:02 - loss: 0.0451 - acc: 0.982 - ETA: 1:02 - loss: 0.0451 - acc: 0.982 - ETA: 1:01 - loss: 0.0451 - acc: 0.982 - ETA: 1:00 - loss: 0.0451 - acc: 0.982 - ETA: 59s - loss: 0.0451 - acc: 0.982 - ETA: 58s - loss: 0.0451 - acc: 0.98 - ETA: 58s - loss: 0.0451 - acc: 0.98 - ETA: 57s - loss: 0.0451 - acc: 0.98 - ETA: 56s - loss: 0.0451 - acc: 0.98 - ETA: 55s - loss: 0.0451 - acc: 0.98 - ETA: 54s - loss: 0.0451 - acc: 0.98 - ETA: 53s - loss: 0.0451 - acc: 0.98 - ETA: 53s - loss: 0.0451 - acc: 0.98 - ETA: 52s - loss: 0.0451 - acc: 0.98 - ETA: 51s - loss: 0.0451 - acc: 0.98 - ETA: 50s - loss: 0.0451 - acc: 0.98 - ETA: 49s - loss: 0.0451 - acc: 0.98 - ETA: 49s - loss: 0.0451 - acc: 0.98 - ETA: 48s - loss: 0.0451 - acc: 0.98 - ETA: 47s - loss: 0.0451 - acc: 0.98 - ETA: 46s - loss: 0.0451 - acc: 0.98 - ETA: 45s - loss: 0.0451 - acc: 0.98 - ETA: 45s - loss: 0.0451 - acc: 0.98 - ETA: 44s - loss: 0.0451 - acc: 0.98 - ETA: 43s - loss: 0.0451 - acc: 0.98 - ETA: 42s - loss: 0.0451 - acc: 0.98 - ETA: 41s - loss: 0.0451 - acc: 0.98 - ETA: 41s - loss: 0.0451 - acc: 0.98 - ETA: 40s - loss: 0.0451 - acc: 0.98 - ETA: 39s - loss: 0.0451 - acc: 0.98 - ETA: 38s - loss: 0.0451 - acc: 0.98 - ETA: 37s - loss: 0.0451 - acc: 0.98 - ETA: 37s - loss: 0.0451 - acc: 0.98 - ETA: 36s - loss: 0.0451 - acc: 0.98 - ETA: 35s - loss: 0.0451 - acc: 0.98 - ETA: 34s - loss: 0.0451 - acc: 0.98 - ETA: 33s - loss: 0.0451 - acc: 0.98 - ETA: 33s - loss: 0.0451 - acc: 0.98 - ETA: 32s - loss: 0.0451 - acc: 0.98 - ETA: 31s - loss: 0.0451 - acc: 0.98 - ETA: 30s - loss: 0.0451 - acc: 0.98 - ETA: 29s - loss: 0.0451 - acc: 0.98 - ETA: 29s - loss: 0.0451 - acc: 0.98 - ETA: 28s - loss: 0.0451 - acc: 0.98 - ETA: 27s - loss: 0.0451 - acc: 0.98 - ETA: 26s - loss: 0.0451 - acc: 0.98 - ETA: 25s - loss: 0.0451 - acc: 0.98 - ETA: 25s - loss: 0.0451 - acc: 0.98 - ETA: 24s - loss: 0.0451 - acc: 0.98 - ETA: 23s - loss: 0.0451 - acc: 0.98 - ETA: 22s - loss: 0.0451 - acc: 0.98 - ETA: 21s - loss: 0.0451 - acc: 0.98 - ETA: 20s - loss: 0.0451 - acc: 0.98 - ETA: 20s - loss: 0.0452 - acc: 0.98 - ETA: 19s - loss: 0.0452 - acc: 0.98 - ETA: 18s - loss: 0.0452 - acc: 0.98 - ETA: 17s - loss: 0.0452 - acc: 0.98 - ETA: 16s - loss: 0.0452 - acc: 0.98 - ETA: 16s - loss: 0.0452 - acc: 0.98 - ETA: 15s - loss: 0.0452 - acc: 0.98 - ETA: 14s - loss: 0.0452 - acc: 0.98 - ETA: 13s - loss: 0.0452 - acc: 0.98 - ETA: 12s - loss: 0.0452 - acc: 0.98 - ETA: 12s - loss: 0.0452 - acc: 0.98 - ETA: 11s - loss: 0.0452 - acc: 0.98 - ETA: 10s - loss: 0.0452 - acc: 0.98 - ETA: 9s - loss: 0.0452 - acc: 0.9827 - ETA: 8s - loss: 0.0452 - acc: 0.982 - ETA: 8s - loss: 0.0452 - acc: 0.982 - ETA: 7s - loss: 0.0452 - acc: 0.982 - ETA: 6s - loss: 0.0452 - acc: 0.982 - ETA: 5s - loss: 0.0452 - acc: 0.982 - ETA: 4s - loss: 0.0453 - acc: 0.982 - ETA: 4s - loss: 0.0453 - acc: 0.982 - ETA: 3s - loss: 0.0453 - acc: 0.982 - ETA: 2s - loss: 0.0453 - acc: 0.982 - ETA: 1s - loss: 0.0453 - acc: 0.982 - ETA: 0s - loss: 0.0453 - acc: 0.9826\n",
      " ROC-AUC - epoch: 1 - score: 0.986505\n",
      "143613/143613 [==============================] - 1030s 7ms/step - loss: 0.0453 - acc: 0.9826 - val_loss: 0.0471 - val_acc: 0.9821\n",
      "Epoch 2/2\n"
     ]
    },
    {
     "name": "stdout",
     "output_type": "stream",
     "text": [
      " 26112/143613 [====>.........................] - ETA: 16:47 - loss: 0.0512 - acc: 0.98 - ETA: 15:31 - loss: 0.0409 - acc: 0.98 - ETA: 14:56 - loss: 0.0501 - acc: 0.98 - ETA: 15:30 - loss: 0.0450 - acc: 0.98 - ETA: 15:20 - loss: 0.0439 - acc: 0.98 - ETA: 14:56 - loss: 0.0428 - acc: 0.98 - ETA: 15:20 - loss: 0.0433 - acc: 0.98 - ETA: 15:15 - loss: 0.0454 - acc: 0.98 - ETA: 15:23 - loss: 0.0450 - acc: 0.98 - ETA: 15:16 - loss: 0.0470 - acc: 0.98 - ETA: 15:19 - loss: 0.0467 - acc: 0.98 - ETA: 15:26 - loss: 0.0457 - acc: 0.98 - ETA: 15:20 - loss: 0.0471 - acc: 0.98 - ETA: 15:15 - loss: 0.0462 - acc: 0.98 - ETA: 15:15 - loss: 0.0466 - acc: 0.98 - ETA: 15:26 - loss: 0.0469 - acc: 0.98 - ETA: 15:40 - loss: 0.0456 - acc: 0.98 - ETA: 15:42 - loss: 0.0453 - acc: 0.98 - ETA: 15:35 - loss: 0.0444 - acc: 0.98 - ETA: 15:32 - loss: 0.0433 - acc: 0.98 - ETA: 15:24 - loss: 0.0434 - acc: 0.98 - ETA: 15:29 - loss: 0.0443 - acc: 0.98 - ETA: 15:34 - loss: 0.0453 - acc: 0.98 - ETA: 15:34 - loss: 0.0454 - acc: 0.98 - ETA: 15:32 - loss: 0.0443 - acc: 0.98 - ETA: 15:30 - loss: 0.0437 - acc: 0.98 - ETA: 15:37 - loss: 0.0433 - acc: 0.98 - ETA: 15:30 - loss: 0.0426 - acc: 0.98 - ETA: 15:34 - loss: 0.0425 - acc: 0.98 - ETA: 15:39 - loss: 0.0424 - acc: 0.98 - ETA: 15:41 - loss: 0.0424 - acc: 0.98 - ETA: 15:42 - loss: 0.0424 - acc: 0.98 - ETA: 15:45 - loss: 0.0422 - acc: 0.98 - ETA: 15:47 - loss: 0.0417 - acc: 0.98 - ETA: 15:49 - loss: 0.0413 - acc: 0.98 - ETA: 15:49 - loss: 0.0410 - acc: 0.98 - ETA: 15:46 - loss: 0.0409 - acc: 0.98 - ETA: 15:44 - loss: 0.0411 - acc: 0.98 - ETA: 15:43 - loss: 0.0409 - acc: 0.98 - ETA: 15:39 - loss: 0.0410 - acc: 0.98 - ETA: 15:41 - loss: 0.0407 - acc: 0.98 - ETA: 15:37 - loss: 0.0408 - acc: 0.98 - ETA: 15:36 - loss: 0.0410 - acc: 0.98 - ETA: 15:36 - loss: 0.0406 - acc: 0.98 - ETA: 15:38 - loss: 0.0402 - acc: 0.98 - ETA: 15:33 - loss: 0.0405 - acc: 0.98 - ETA: 15:30 - loss: 0.0405 - acc: 0.98 - ETA: 15:26 - loss: 0.0408 - acc: 0.98 - ETA: 15:28 - loss: 0.0410 - acc: 0.98 - ETA: 15:29 - loss: 0.0409 - acc: 0.98 - ETA: 15:28 - loss: 0.0413 - acc: 0.98 - ETA: 15:24 - loss: 0.0416 - acc: 0.98 - ETA: 15:24 - loss: 0.0417 - acc: 0.98 - ETA: 15:23 - loss: 0.0421 - acc: 0.98 - ETA: 15:24 - loss: 0.0421 - acc: 0.98 - ETA: 15:23 - loss: 0.0420 - acc: 0.98 - ETA: 15:22 - loss: 0.0420 - acc: 0.98 - ETA: 15:20 - loss: 0.0420 - acc: 0.98 - ETA: 15:20 - loss: 0.0420 - acc: 0.98 - ETA: 15:16 - loss: 0.0422 - acc: 0.98 - ETA: 15:13 - loss: 0.0426 - acc: 0.98 - ETA: 15:10 - loss: 0.0424 - acc: 0.98 - ETA: 15:08 - loss: 0.0423 - acc: 0.98 - ETA: 15:09 - loss: 0.0428 - acc: 0.98 - ETA: 15:06 - loss: 0.0428 - acc: 0.98 - ETA: 15:07 - loss: 0.0426 - acc: 0.98 - ETA: 15:07 - loss: 0.0428 - acc: 0.98 - ETA: 15:05 - loss: 0.0426 - acc: 0.98 - ETA: 15:05 - loss: 0.0429 - acc: 0.98 - ETA: 15:05 - loss: 0.0429 - acc: 0.98 - ETA: 15:07 - loss: 0.0430 - acc: 0.98 - ETA: 15:08 - loss: 0.0428 - acc: 0.98 - ETA: 15:07 - loss: 0.0429 - acc: 0.98 - ETA: 15:05 - loss: 0.0424 - acc: 0.98 - ETA: 15:07 - loss: 0.0424 - acc: 0.98 - ETA: 15:07 - loss: 0.0424 - acc: 0.98 - ETA: 15:08 - loss: 0.0424 - acc: 0.98 - ETA: 15:09 - loss: 0.0425 - acc: 0.98 - ETA: 15:09 - loss: 0.0425 - acc: 0.98 - ETA: 15:08 - loss: 0.0427 - acc: 0.98 - ETA: 15:07 - loss: 0.0430 - acc: 0.98 - ETA: 15:05 - loss: 0.0429 - acc: 0.98 - ETA: 15:05 - loss: 0.0427 - acc: 0.98 - ETA: 15:03 - loss: 0.0426 - acc: 0.98 - ETA: 15:00 - loss: 0.0426 - acc: 0.98 - ETA: 14:58 - loss: 0.0423 - acc: 0.98 - ETA: 14:58 - loss: 0.0424 - acc: 0.98 - ETA: 14:58 - loss: 0.0423 - acc: 0.98 - ETA: 14:59 - loss: 0.0422 - acc: 0.98 - ETA: 14:57 - loss: 0.0421 - acc: 0.98 - ETA: 14:56 - loss: 0.0422 - acc: 0.98 - ETA: 14:55 - loss: 0.0422 - acc: 0.98 - ETA: 14:55 - loss: 0.0421 - acc: 0.98 - ETA: 14:54 - loss: 0.0422 - acc: 0.98 - ETA: 14:56 - loss: 0.0422 - acc: 0.98 - ETA: 14:54 - loss: 0.0426 - acc: 0.98 - ETA: 14:53 - loss: 0.0424 - acc: 0.98 - ETA: 14:52 - loss: 0.0423 - acc: 0.98 - ETA: 14:50 - loss: 0.0424 - acc: 0.98 - ETA: 14:50 - loss: 0.0424 - acc: 0.98 - ETA: 14:50 - loss: 0.0424 - acc: 0.98 - ETA: 14:50 - loss: 0.0422 - acc: 0.98 - ETA: 14:49 - loss: 0.0424 - acc: 0.98 - ETA: 14:48 - loss: 0.0424 - acc: 0.98 - ETA: 14:49 - loss: 0.0425 - acc: 0.98 - ETA: 14:48 - loss: 0.0424 - acc: 0.98 - ETA: 14:48 - loss: 0.0425 - acc: 0.98 - ETA: 14:48 - loss: 0.0427 - acc: 0.98 - ETA: 14:47 - loss: 0.0425 - acc: 0.98 - ETA: 14:47 - loss: 0.0426 - acc: 0.98 - ETA: 14:45 - loss: 0.0426 - acc: 0.98 - ETA: 14:45 - loss: 0.0426 - acc: 0.98 - ETA: 14:45 - loss: 0.0426 - acc: 0.98 - ETA: 14:43 - loss: 0.0426 - acc: 0.98 - ETA: 14:42 - loss: 0.0426 - acc: 0.98 - ETA: 14:43 - loss: 0.0425 - acc: 0.98 - ETA: 14:42 - loss: 0.0427 - acc: 0.98 - ETA: 14:41 - loss: 0.0428 - acc: 0.98 - ETA: 14:40 - loss: 0.0427 - acc: 0.98 - ETA: 14:39 - loss: 0.0427 - acc: 0.98 - ETA: 14:38 - loss: 0.0428 - acc: 0.98 - ETA: 14:38 - loss: 0.0430 - acc: 0.98 - ETA: 14:38 - loss: 0.0431 - acc: 0.98 - ETA: 14:36 - loss: 0.0429 - acc: 0.98 - ETA: 14:36 - loss: 0.0430 - acc: 0.98 - ETA: 14:36 - loss: 0.0429 - acc: 0.98 - ETA: 14:37 - loss: 0.0428 - acc: 0.98 - ETA: 14:35 - loss: 0.0426 - acc: 0.98 - ETA: 14:36 - loss: 0.0427 - acc: 0.98 - ETA: 14:34 - loss: 0.0427 - acc: 0.98 - ETA: 14:34 - loss: 0.0426 - acc: 0.98 - ETA: 14:32 - loss: 0.0427 - acc: 0.98 - ETA: 14:32 - loss: 0.0427 - acc: 0.98 - ETA: 14:31 - loss: 0.0426 - acc: 0.98 - ETA: 14:30 - loss: 0.0426 - acc: 0.98 - ETA: 14:30 - loss: 0.0425 - acc: 0.98 - ETA: 14:28 - loss: 0.0426 - acc: 0.98 - ETA: 14:26 - loss: 0.0426 - acc: 0.98 - ETA: 14:26 - loss: 0.0426 - acc: 0.98 - ETA: 14:26 - loss: 0.0426 - acc: 0.98 - ETA: 14:25 - loss: 0.0426 - acc: 0.98 - ETA: 14:24 - loss: 0.0425 - acc: 0.98 - ETA: 14:23 - loss: 0.0426 - acc: 0.98 - ETA: 14:23 - loss: 0.0425 - acc: 0.98 - ETA: 14:23 - loss: 0.0423 - acc: 0.98 - ETA: 14:23 - loss: 0.0424 - acc: 0.98 - ETA: 14:23 - loss: 0.0424 - acc: 0.98 - ETA: 14:23 - loss: 0.0424 - acc: 0.98 - ETA: 14:22 - loss: 0.0424 - acc: 0.98 - ETA: 14:21 - loss: 0.0425 - acc: 0.98 - ETA: 14:20 - loss: 0.0424 - acc: 0.98 - ETA: 14:18 - loss: 0.0424 - acc: 0.98 - ETA: 14:16 - loss: 0.0426 - acc: 0.98 - ETA: 14:16 - loss: 0.0425 - acc: 0.98 - ETA: 14:15 - loss: 0.0424 - acc: 0.98 - ETA: 14:15 - loss: 0.0424 - acc: 0.98 - ETA: 14:14 - loss: 0.0424 - acc: 0.98 - ETA: 14:13 - loss: 0.0423 - acc: 0.98 - ETA: 14:12 - loss: 0.0424 - acc: 0.98 - ETA: 14:10 - loss: 0.0423 - acc: 0.98 - ETA: 14:10 - loss: 0.0422 - acc: 0.98 - ETA: 14:09 - loss: 0.0423 - acc: 0.98 - ETA: 14:08 - loss: 0.0424 - acc: 0.98 - ETA: 14:07 - loss: 0.0423 - acc: 0.98 - ETA: 14:08 - loss: 0.0422 - acc: 0.98 - ETA: 14:07 - loss: 0.0420 - acc: 0.98 - ETA: 14:06 - loss: 0.0421 - acc: 0.98 - ETA: 14:05 - loss: 0.0421 - acc: 0.98 - ETA: 14:04 - loss: 0.0422 - acc: 0.98 - ETA: 14:02 - loss: 0.0421 - acc: 0.98 - ETA: 14:01 - loss: 0.0421 - acc: 0.98 - ETA: 14:00 - loss: 0.0421 - acc: 0.98 - ETA: 13:59 - loss: 0.0421 - acc: 0.98 - ETA: 13:58 - loss: 0.0421 - acc: 0.98 - ETA: 13:57 - loss: 0.0420 - acc: 0.98 - ETA: 13:56 - loss: 0.0419 - acc: 0.98 - ETA: 13:55 - loss: 0.0419 - acc: 0.98 - ETA: 13:55 - loss: 0.0419 - acc: 0.98 - ETA: 13:54 - loss: 0.0419 - acc: 0.98 - ETA: 13:53 - loss: 0.0419 - acc: 0.98 - ETA: 13:53 - loss: 0.0419 - acc: 0.98 - ETA: 13:52 - loss: 0.0419 - acc: 0.98 - ETA: 13:51 - loss: 0.0421 - acc: 0.98 - ETA: 13:50 - loss: 0.0421 - acc: 0.98 - ETA: 13:50 - loss: 0.0421 - acc: 0.98 - ETA: 13:49 - loss: 0.0423 - acc: 0.98 - ETA: 13:47 - loss: 0.0423 - acc: 0.98 - ETA: 13:47 - loss: 0.0423 - acc: 0.98 - ETA: 13:45 - loss: 0.0423 - acc: 0.98 - ETA: 13:44 - loss: 0.0423 - acc: 0.98 - ETA: 13:43 - loss: 0.0423 - acc: 0.98 - ETA: 13:42 - loss: 0.0424 - acc: 0.98 - ETA: 13:42 - loss: 0.0423 - acc: 0.98 - ETA: 13:41 - loss: 0.0422 - acc: 0.98 - ETA: 13:40 - loss: 0.0422 - acc: 0.98 - ETA: 13:39 - loss: 0.0420 - acc: 0.98 - ETA: 13:38 - loss: 0.0420 - acc: 0.98 - ETA: 13:37 - loss: 0.0420 - acc: 0.98 - ETA: 13:35 - loss: 0.0419 - acc: 0.98 - ETA: 13:35 - loss: 0.0420 - acc: 0.98 - ETA: 13:34 - loss: 0.0420 - acc: 0.98 - ETA: 13:34 - loss: 0.0420 - acc: 0.98 - ETA: 13:33 - loss: 0.0419 - acc: 0.98 - ETA: 13:32 - loss: 0.0419 - acc: 0.9837"
     ]
    },
    {
     "name": "stdout",
     "output_type": "stream",
     "text": [
      " 52224/143613 [=========>....................] - ETA: 13:32 - loss: 0.0419 - acc: 0.98 - ETA: 13:31 - loss: 0.0419 - acc: 0.98 - ETA: 13:31 - loss: 0.0419 - acc: 0.98 - ETA: 13:29 - loss: 0.0419 - acc: 0.98 - ETA: 13:28 - loss: 0.0419 - acc: 0.98 - ETA: 13:27 - loss: 0.0421 - acc: 0.98 - ETA: 13:26 - loss: 0.0421 - acc: 0.98 - ETA: 13:25 - loss: 0.0421 - acc: 0.98 - ETA: 13:24 - loss: 0.0421 - acc: 0.98 - ETA: 13:23 - loss: 0.0421 - acc: 0.98 - ETA: 13:22 - loss: 0.0421 - acc: 0.98 - ETA: 13:21 - loss: 0.0420 - acc: 0.98 - ETA: 13:21 - loss: 0.0420 - acc: 0.98 - ETA: 13:21 - loss: 0.0419 - acc: 0.98 - ETA: 13:20 - loss: 0.0418 - acc: 0.98 - ETA: 13:19 - loss: 0.0420 - acc: 0.98 - ETA: 13:19 - loss: 0.0419 - acc: 0.98 - ETA: 13:17 - loss: 0.0419 - acc: 0.98 - ETA: 13:16 - loss: 0.0418 - acc: 0.98 - ETA: 13:15 - loss: 0.0417 - acc: 0.98 - ETA: 13:14 - loss: 0.0418 - acc: 0.98 - ETA: 13:14 - loss: 0.0418 - acc: 0.98 - ETA: 13:13 - loss: 0.0418 - acc: 0.98 - ETA: 13:12 - loss: 0.0418 - acc: 0.98 - ETA: 13:12 - loss: 0.0418 - acc: 0.98 - ETA: 13:11 - loss: 0.0417 - acc: 0.98 - ETA: 13:10 - loss: 0.0417 - acc: 0.98 - ETA: 13:09 - loss: 0.0416 - acc: 0.98 - ETA: 13:09 - loss: 0.0417 - acc: 0.98 - ETA: 13:08 - loss: 0.0418 - acc: 0.98 - ETA: 13:07 - loss: 0.0418 - acc: 0.98 - ETA: 13:06 - loss: 0.0418 - acc: 0.98 - ETA: 13:05 - loss: 0.0418 - acc: 0.98 - ETA: 13:04 - loss: 0.0419 - acc: 0.98 - ETA: 13:03 - loss: 0.0418 - acc: 0.98 - ETA: 13:02 - loss: 0.0418 - acc: 0.98 - ETA: 13:01 - loss: 0.0418 - acc: 0.98 - ETA: 13:00 - loss: 0.0418 - acc: 0.98 - ETA: 12:59 - loss: 0.0418 - acc: 0.98 - ETA: 12:57 - loss: 0.0418 - acc: 0.98 - ETA: 12:56 - loss: 0.0419 - acc: 0.98 - ETA: 12:55 - loss: 0.0419 - acc: 0.98 - ETA: 12:54 - loss: 0.0420 - acc: 0.98 - ETA: 12:52 - loss: 0.0419 - acc: 0.98 - ETA: 12:51 - loss: 0.0418 - acc: 0.98 - ETA: 12:51 - loss: 0.0418 - acc: 0.98 - ETA: 12:50 - loss: 0.0418 - acc: 0.98 - ETA: 12:49 - loss: 0.0418 - acc: 0.98 - ETA: 12:48 - loss: 0.0419 - acc: 0.98 - ETA: 12:48 - loss: 0.0419 - acc: 0.98 - ETA: 12:47 - loss: 0.0419 - acc: 0.98 - ETA: 12:45 - loss: 0.0419 - acc: 0.98 - ETA: 12:44 - loss: 0.0419 - acc: 0.98 - ETA: 12:43 - loss: 0.0418 - acc: 0.98 - ETA: 12:42 - loss: 0.0417 - acc: 0.98 - ETA: 12:41 - loss: 0.0418 - acc: 0.98 - ETA: 12:40 - loss: 0.0418 - acc: 0.98 - ETA: 12:38 - loss: 0.0417 - acc: 0.98 - ETA: 12:38 - loss: 0.0417 - acc: 0.98 - ETA: 12:37 - loss: 0.0416 - acc: 0.98 - ETA: 12:36 - loss: 0.0416 - acc: 0.98 - ETA: 12:36 - loss: 0.0416 - acc: 0.98 - ETA: 12:35 - loss: 0.0416 - acc: 0.98 - ETA: 12:34 - loss: 0.0416 - acc: 0.98 - ETA: 12:33 - loss: 0.0416 - acc: 0.98 - ETA: 12:32 - loss: 0.0416 - acc: 0.98 - ETA: 12:31 - loss: 0.0415 - acc: 0.98 - ETA: 12:30 - loss: 0.0415 - acc: 0.98 - ETA: 12:29 - loss: 0.0415 - acc: 0.98 - ETA: 12:28 - loss: 0.0416 - acc: 0.98 - ETA: 12:27 - loss: 0.0416 - acc: 0.98 - ETA: 12:26 - loss: 0.0417 - acc: 0.98 - ETA: 12:25 - loss: 0.0417 - acc: 0.98 - ETA: 12:24 - loss: 0.0418 - acc: 0.98 - ETA: 12:22 - loss: 0.0417 - acc: 0.98 - ETA: 12:22 - loss: 0.0418 - acc: 0.98 - ETA: 12:20 - loss: 0.0418 - acc: 0.98 - ETA: 12:19 - loss: 0.0417 - acc: 0.98 - ETA: 12:18 - loss: 0.0417 - acc: 0.98 - ETA: 12:17 - loss: 0.0416 - acc: 0.98 - ETA: 12:16 - loss: 0.0416 - acc: 0.98 - ETA: 12:15 - loss: 0.0415 - acc: 0.98 - ETA: 12:14 - loss: 0.0416 - acc: 0.98 - ETA: 12:12 - loss: 0.0416 - acc: 0.98 - ETA: 12:11 - loss: 0.0415 - acc: 0.98 - ETA: 12:10 - loss: 0.0415 - acc: 0.98 - ETA: 12:09 - loss: 0.0415 - acc: 0.98 - ETA: 12:08 - loss: 0.0415 - acc: 0.98 - ETA: 12:07 - loss: 0.0415 - acc: 0.98 - ETA: 12:06 - loss: 0.0415 - acc: 0.98 - ETA: 12:05 - loss: 0.0415 - acc: 0.98 - ETA: 12:05 - loss: 0.0415 - acc: 0.98 - ETA: 12:04 - loss: 0.0416 - acc: 0.98 - ETA: 12:03 - loss: 0.0416 - acc: 0.98 - ETA: 12:02 - loss: 0.0416 - acc: 0.98 - ETA: 12:01 - loss: 0.0416 - acc: 0.98 - ETA: 12:00 - loss: 0.0417 - acc: 0.98 - ETA: 11:59 - loss: 0.0417 - acc: 0.98 - ETA: 11:58 - loss: 0.0416 - acc: 0.98 - ETA: 11:58 - loss: 0.0416 - acc: 0.98 - ETA: 11:57 - loss: 0.0416 - acc: 0.98 - ETA: 11:56 - loss: 0.0415 - acc: 0.98 - ETA: 11:56 - loss: 0.0416 - acc: 0.98 - ETA: 11:55 - loss: 0.0416 - acc: 0.98 - ETA: 11:54 - loss: 0.0416 - acc: 0.98 - ETA: 11:53 - loss: 0.0416 - acc: 0.98 - ETA: 11:52 - loss: 0.0417 - acc: 0.98 - ETA: 11:50 - loss: 0.0417 - acc: 0.98 - ETA: 11:49 - loss: 0.0418 - acc: 0.98 - ETA: 11:48 - loss: 0.0418 - acc: 0.98 - ETA: 11:48 - loss: 0.0418 - acc: 0.98 - ETA: 11:47 - loss: 0.0418 - acc: 0.98 - ETA: 11:46 - loss: 0.0419 - acc: 0.98 - ETA: 11:45 - loss: 0.0419 - acc: 0.98 - ETA: 11:45 - loss: 0.0419 - acc: 0.98 - ETA: 11:44 - loss: 0.0419 - acc: 0.98 - ETA: 11:43 - loss: 0.0419 - acc: 0.98 - ETA: 11:42 - loss: 0.0418 - acc: 0.98 - ETA: 11:42 - loss: 0.0419 - acc: 0.98 - ETA: 11:41 - loss: 0.0420 - acc: 0.98 - ETA: 11:39 - loss: 0.0419 - acc: 0.98 - ETA: 11:39 - loss: 0.0420 - acc: 0.98 - ETA: 11:38 - loss: 0.0420 - acc: 0.98 - ETA: 11:37 - loss: 0.0420 - acc: 0.98 - ETA: 11:37 - loss: 0.0420 - acc: 0.98 - ETA: 11:36 - loss: 0.0421 - acc: 0.98 - ETA: 11:35 - loss: 0.0421 - acc: 0.98 - ETA: 11:35 - loss: 0.0421 - acc: 0.98 - ETA: 11:34 - loss: 0.0421 - acc: 0.98 - ETA: 11:33 - loss: 0.0420 - acc: 0.98 - ETA: 11:32 - loss: 0.0420 - acc: 0.98 - ETA: 11:31 - loss: 0.0421 - acc: 0.98 - ETA: 11:30 - loss: 0.0421 - acc: 0.98 - ETA: 11:29 - loss: 0.0421 - acc: 0.98 - ETA: 11:28 - loss: 0.0420 - acc: 0.98 - ETA: 11:27 - loss: 0.0421 - acc: 0.98 - ETA: 11:26 - loss: 0.0421 - acc: 0.98 - ETA: 11:25 - loss: 0.0421 - acc: 0.98 - ETA: 11:24 - loss: 0.0421 - acc: 0.98 - ETA: 11:23 - loss: 0.0421 - acc: 0.98 - ETA: 11:22 - loss: 0.0421 - acc: 0.98 - ETA: 11:22 - loss: 0.0420 - acc: 0.98 - ETA: 11:21 - loss: 0.0421 - acc: 0.98 - ETA: 11:20 - loss: 0.0420 - acc: 0.98 - ETA: 11:19 - loss: 0.0420 - acc: 0.98 - ETA: 11:17 - loss: 0.0420 - acc: 0.98 - ETA: 11:16 - loss: 0.0420 - acc: 0.98 - ETA: 11:15 - loss: 0.0420 - acc: 0.98 - ETA: 11:14 - loss: 0.0420 - acc: 0.98 - ETA: 11:13 - loss: 0.0420 - acc: 0.98 - ETA: 11:12 - loss: 0.0420 - acc: 0.98 - ETA: 11:11 - loss: 0.0420 - acc: 0.98 - ETA: 11:10 - loss: 0.0420 - acc: 0.98 - ETA: 11:09 - loss: 0.0420 - acc: 0.98 - ETA: 11:08 - loss: 0.0420 - acc: 0.98 - ETA: 11:07 - loss: 0.0420 - acc: 0.98 - ETA: 11:07 - loss: 0.0420 - acc: 0.98 - ETA: 11:06 - loss: 0.0420 - acc: 0.98 - ETA: 11:05 - loss: 0.0420 - acc: 0.98 - ETA: 11:04 - loss: 0.0420 - acc: 0.98 - ETA: 11:03 - loss: 0.0421 - acc: 0.98 - ETA: 11:02 - loss: 0.0421 - acc: 0.98 - ETA: 11:01 - loss: 0.0420 - acc: 0.98 - ETA: 11:00 - loss: 0.0420 - acc: 0.98 - ETA: 10:59 - loss: 0.0420 - acc: 0.98 - ETA: 10:58 - loss: 0.0420 - acc: 0.98 - ETA: 10:57 - loss: 0.0421 - acc: 0.98 - ETA: 10:56 - loss: 0.0421 - acc: 0.98 - ETA: 10:55 - loss: 0.0420 - acc: 0.98 - ETA: 10:54 - loss: 0.0421 - acc: 0.98 - ETA: 10:53 - loss: 0.0421 - acc: 0.98 - ETA: 10:52 - loss: 0.0420 - acc: 0.98 - ETA: 10:51 - loss: 0.0420 - acc: 0.98 - ETA: 10:50 - loss: 0.0419 - acc: 0.98 - ETA: 10:49 - loss: 0.0420 - acc: 0.98 - ETA: 10:48 - loss: 0.0420 - acc: 0.98 - ETA: 10:47 - loss: 0.0421 - acc: 0.98 - ETA: 10:47 - loss: 0.0421 - acc: 0.98 - ETA: 10:46 - loss: 0.0421 - acc: 0.98 - ETA: 10:45 - loss: 0.0421 - acc: 0.98 - ETA: 10:44 - loss: 0.0421 - acc: 0.98 - ETA: 10:43 - loss: 0.0421 - acc: 0.98 - ETA: 10:42 - loss: 0.0421 - acc: 0.98 - ETA: 10:41 - loss: 0.0421 - acc: 0.98 - ETA: 10:40 - loss: 0.0421 - acc: 0.98 - ETA: 10:39 - loss: 0.0421 - acc: 0.98 - ETA: 10:39 - loss: 0.0421 - acc: 0.98 - ETA: 10:37 - loss: 0.0421 - acc: 0.98 - ETA: 10:36 - loss: 0.0421 - acc: 0.98 - ETA: 10:35 - loss: 0.0421 - acc: 0.98 - ETA: 10:34 - loss: 0.0421 - acc: 0.98 - ETA: 10:33 - loss: 0.0422 - acc: 0.98 - ETA: 10:32 - loss: 0.0421 - acc: 0.98 - ETA: 10:31 - loss: 0.0422 - acc: 0.98 - ETA: 10:30 - loss: 0.0423 - acc: 0.98 - ETA: 10:29 - loss: 0.0422 - acc: 0.98 - ETA: 10:28 - loss: 0.0422 - acc: 0.98 - ETA: 10:27 - loss: 0.0422 - acc: 0.98 - ETA: 10:26 - loss: 0.0422 - acc: 0.98 - ETA: 10:25 - loss: 0.0422 - acc: 0.98 - ETA: 10:25 - loss: 0.0422 - acc: 0.98 - ETA: 10:24 - loss: 0.0423 - acc: 0.98 - ETA: 10:23 - loss: 0.0423 - acc: 0.98 - ETA: 10:22 - loss: 0.0422 - acc: 0.9837"
     ]
    },
    {
     "name": "stdout",
     "output_type": "stream",
     "text": [
      " 78336/143613 [===============>..............] - ETA: 10:21 - loss: 0.0422 - acc: 0.98 - ETA: 10:20 - loss: 0.0422 - acc: 0.98 - ETA: 10:19 - loss: 0.0422 - acc: 0.98 - ETA: 10:18 - loss: 0.0422 - acc: 0.98 - ETA: 10:17 - loss: 0.0422 - acc: 0.98 - ETA: 10:16 - loss: 0.0423 - acc: 0.98 - ETA: 10:15 - loss: 0.0423 - acc: 0.98 - ETA: 10:14 - loss: 0.0423 - acc: 0.98 - ETA: 10:13 - loss: 0.0422 - acc: 0.98 - ETA: 10:13 - loss: 0.0422 - acc: 0.98 - ETA: 10:12 - loss: 0.0422 - acc: 0.98 - ETA: 10:11 - loss: 0.0422 - acc: 0.98 - ETA: 10:10 - loss: 0.0422 - acc: 0.98 - ETA: 10:09 - loss: 0.0422 - acc: 0.98 - ETA: 10:09 - loss: 0.0422 - acc: 0.98 - ETA: 10:08 - loss: 0.0421 - acc: 0.98 - ETA: 10:07 - loss: 0.0422 - acc: 0.98 - ETA: 10:06 - loss: 0.0422 - acc: 0.98 - ETA: 10:06 - loss: 0.0422 - acc: 0.98 - ETA: 10:05 - loss: 0.0422 - acc: 0.98 - ETA: 10:04 - loss: 0.0422 - acc: 0.98 - ETA: 10:03 - loss: 0.0422 - acc: 0.98 - ETA: 10:02 - loss: 0.0422 - acc: 0.98 - ETA: 10:01 - loss: 0.0422 - acc: 0.98 - ETA: 10:00 - loss: 0.0422 - acc: 0.98 - ETA: 9:59 - loss: 0.0422 - acc: 0.9837 - ETA: 9:58 - loss: 0.0422 - acc: 0.983 - ETA: 9:57 - loss: 0.0422 - acc: 0.983 - ETA: 9:56 - loss: 0.0423 - acc: 0.983 - ETA: 9:55 - loss: 0.0422 - acc: 0.983 - ETA: 9:54 - loss: 0.0422 - acc: 0.983 - ETA: 9:53 - loss: 0.0422 - acc: 0.983 - ETA: 9:52 - loss: 0.0422 - acc: 0.983 - ETA: 9:51 - loss: 0.0422 - acc: 0.983 - ETA: 9:50 - loss: 0.0422 - acc: 0.983 - ETA: 9:49 - loss: 0.0422 - acc: 0.983 - ETA: 9:48 - loss: 0.0422 - acc: 0.983 - ETA: 9:47 - loss: 0.0421 - acc: 0.983 - ETA: 9:46 - loss: 0.0422 - acc: 0.983 - ETA: 9:45 - loss: 0.0422 - acc: 0.983 - ETA: 9:44 - loss: 0.0421 - acc: 0.983 - ETA: 9:44 - loss: 0.0422 - acc: 0.983 - ETA: 9:43 - loss: 0.0422 - acc: 0.983 - ETA: 9:42 - loss: 0.0422 - acc: 0.983 - ETA: 9:42 - loss: 0.0422 - acc: 0.983 - ETA: 9:41 - loss: 0.0422 - acc: 0.983 - ETA: 9:40 - loss: 0.0422 - acc: 0.983 - ETA: 9:39 - loss: 0.0422 - acc: 0.983 - ETA: 9:38 - loss: 0.0423 - acc: 0.983 - ETA: 9:37 - loss: 0.0423 - acc: 0.983 - ETA: 9:36 - loss: 0.0424 - acc: 0.983 - ETA: 9:36 - loss: 0.0424 - acc: 0.983 - ETA: 9:35 - loss: 0.0424 - acc: 0.983 - ETA: 9:34 - loss: 0.0424 - acc: 0.983 - ETA: 9:33 - loss: 0.0424 - acc: 0.983 - ETA: 9:33 - loss: 0.0425 - acc: 0.983 - ETA: 9:32 - loss: 0.0425 - acc: 0.983 - ETA: 9:31 - loss: 0.0425 - acc: 0.983 - ETA: 9:30 - loss: 0.0424 - acc: 0.983 - ETA: 9:29 - loss: 0.0424 - acc: 0.983 - ETA: 9:28 - loss: 0.0424 - acc: 0.983 - ETA: 9:27 - loss: 0.0424 - acc: 0.983 - ETA: 9:26 - loss: 0.0424 - acc: 0.983 - ETA: 9:25 - loss: 0.0424 - acc: 0.983 - ETA: 9:24 - loss: 0.0424 - acc: 0.983 - ETA: 9:23 - loss: 0.0424 - acc: 0.983 - ETA: 9:22 - loss: 0.0424 - acc: 0.983 - ETA: 9:21 - loss: 0.0423 - acc: 0.983 - ETA: 9:20 - loss: 0.0423 - acc: 0.983 - ETA: 9:19 - loss: 0.0424 - acc: 0.983 - ETA: 9:18 - loss: 0.0424 - acc: 0.983 - ETA: 9:17 - loss: 0.0424 - acc: 0.983 - ETA: 9:16 - loss: 0.0424 - acc: 0.983 - ETA: 9:15 - loss: 0.0424 - acc: 0.983 - ETA: 9:14 - loss: 0.0424 - acc: 0.983 - ETA: 9:13 - loss: 0.0424 - acc: 0.983 - ETA: 9:12 - loss: 0.0424 - acc: 0.983 - ETA: 9:11 - loss: 0.0424 - acc: 0.983 - ETA: 9:10 - loss: 0.0424 - acc: 0.983 - ETA: 9:09 - loss: 0.0425 - acc: 0.983 - ETA: 9:08 - loss: 0.0424 - acc: 0.983 - ETA: 9:07 - loss: 0.0424 - acc: 0.983 - ETA: 9:06 - loss: 0.0424 - acc: 0.983 - ETA: 9:05 - loss: 0.0424 - acc: 0.983 - ETA: 9:04 - loss: 0.0424 - acc: 0.983 - ETA: 9:03 - loss: 0.0424 - acc: 0.983 - ETA: 9:02 - loss: 0.0424 - acc: 0.983 - ETA: 9:01 - loss: 0.0424 - acc: 0.983 - ETA: 9:00 - loss: 0.0425 - acc: 0.983 - ETA: 8:59 - loss: 0.0425 - acc: 0.983 - ETA: 8:58 - loss: 0.0426 - acc: 0.983 - ETA: 8:57 - loss: 0.0425 - acc: 0.983 - ETA: 8:56 - loss: 0.0425 - acc: 0.983 - ETA: 8:55 - loss: 0.0425 - acc: 0.983 - ETA: 8:54 - loss: 0.0425 - acc: 0.983 - ETA: 8:53 - loss: 0.0424 - acc: 0.983 - ETA: 8:52 - loss: 0.0424 - acc: 0.983 - ETA: 8:51 - loss: 0.0424 - acc: 0.983 - ETA: 8:50 - loss: 0.0425 - acc: 0.983 - ETA: 8:49 - loss: 0.0425 - acc: 0.983 - ETA: 8:48 - loss: 0.0425 - acc: 0.983 - ETA: 8:47 - loss: 0.0425 - acc: 0.983 - ETA: 8:47 - loss: 0.0425 - acc: 0.983 - ETA: 8:46 - loss: 0.0425 - acc: 0.983 - ETA: 8:45 - loss: 0.0425 - acc: 0.983 - ETA: 8:44 - loss: 0.0425 - acc: 0.983 - ETA: 8:43 - loss: 0.0425 - acc: 0.983 - ETA: 8:42 - loss: 0.0425 - acc: 0.983 - ETA: 8:41 - loss: 0.0425 - acc: 0.983 - ETA: 8:41 - loss: 0.0426 - acc: 0.983 - ETA: 8:40 - loss: 0.0426 - acc: 0.983 - ETA: 8:39 - loss: 0.0426 - acc: 0.983 - ETA: 8:38 - loss: 0.0426 - acc: 0.983 - ETA: 8:37 - loss: 0.0426 - acc: 0.983 - ETA: 8:36 - loss: 0.0426 - acc: 0.983 - ETA: 8:36 - loss: 0.0426 - acc: 0.983 - ETA: 8:35 - loss: 0.0427 - acc: 0.983 - ETA: 8:34 - loss: 0.0426 - acc: 0.983 - ETA: 8:33 - loss: 0.0426 - acc: 0.983 - ETA: 8:32 - loss: 0.0426 - acc: 0.983 - ETA: 8:31 - loss: 0.0427 - acc: 0.983 - ETA: 8:30 - loss: 0.0427 - acc: 0.983 - ETA: 8:30 - loss: 0.0426 - acc: 0.983 - ETA: 8:29 - loss: 0.0427 - acc: 0.983 - ETA: 8:28 - loss: 0.0426 - acc: 0.983 - ETA: 8:27 - loss: 0.0427 - acc: 0.983 - ETA: 8:26 - loss: 0.0427 - acc: 0.983 - ETA: 8:25 - loss: 0.0427 - acc: 0.983 - ETA: 8:24 - loss: 0.0427 - acc: 0.983 - ETA: 8:23 - loss: 0.0428 - acc: 0.983 - ETA: 8:22 - loss: 0.0428 - acc: 0.983 - ETA: 8:21 - loss: 0.0428 - acc: 0.983 - ETA: 8:21 - loss: 0.0428 - acc: 0.983 - ETA: 8:20 - loss: 0.0427 - acc: 0.983 - ETA: 8:19 - loss: 0.0428 - acc: 0.983 - ETA: 8:18 - loss: 0.0428 - acc: 0.983 - ETA: 8:17 - loss: 0.0428 - acc: 0.983 - ETA: 8:16 - loss: 0.0428 - acc: 0.983 - ETA: 8:16 - loss: 0.0427 - acc: 0.983 - ETA: 8:15 - loss: 0.0427 - acc: 0.983 - ETA: 8:14 - loss: 0.0427 - acc: 0.983 - ETA: 8:13 - loss: 0.0427 - acc: 0.983 - ETA: 8:12 - loss: 0.0427 - acc: 0.983 - ETA: 8:12 - loss: 0.0427 - acc: 0.983 - ETA: 8:11 - loss: 0.0427 - acc: 0.983 - ETA: 8:10 - loss: 0.0427 - acc: 0.983 - ETA: 8:09 - loss: 0.0427 - acc: 0.983 - ETA: 8:08 - loss: 0.0427 - acc: 0.983 - ETA: 8:07 - loss: 0.0427 - acc: 0.983 - ETA: 8:07 - loss: 0.0427 - acc: 0.983 - ETA: 8:06 - loss: 0.0427 - acc: 0.983 - ETA: 8:05 - loss: 0.0427 - acc: 0.983 - ETA: 8:04 - loss: 0.0427 - acc: 0.983 - ETA: 8:03 - loss: 0.0427 - acc: 0.983 - ETA: 8:02 - loss: 0.0427 - acc: 0.983 - ETA: 8:01 - loss: 0.0427 - acc: 0.983 - ETA: 8:00 - loss: 0.0428 - acc: 0.983 - ETA: 7:59 - loss: 0.0428 - acc: 0.983 - ETA: 7:59 - loss: 0.0428 - acc: 0.983 - ETA: 7:58 - loss: 0.0428 - acc: 0.983 - ETA: 7:57 - loss: 0.0428 - acc: 0.983 - ETA: 7:56 - loss: 0.0429 - acc: 0.983 - ETA: 7:55 - loss: 0.0428 - acc: 0.983 - ETA: 7:54 - loss: 0.0428 - acc: 0.983 - ETA: 7:53 - loss: 0.0428 - acc: 0.983 - ETA: 7:52 - loss: 0.0428 - acc: 0.983 - ETA: 7:51 - loss: 0.0428 - acc: 0.983 - ETA: 7:50 - loss: 0.0428 - acc: 0.983 - ETA: 7:49 - loss: 0.0428 - acc: 0.983 - ETA: 7:48 - loss: 0.0428 - acc: 0.983 - ETA: 7:47 - loss: 0.0428 - acc: 0.983 - ETA: 7:46 - loss: 0.0428 - acc: 0.983 - ETA: 7:45 - loss: 0.0428 - acc: 0.983 - ETA: 7:44 - loss: 0.0428 - acc: 0.983 - ETA: 7:44 - loss: 0.0428 - acc: 0.983 - ETA: 7:43 - loss: 0.0428 - acc: 0.983 - ETA: 7:42 - loss: 0.0428 - acc: 0.983 - ETA: 7:41 - loss: 0.0428 - acc: 0.983 - ETA: 7:40 - loss: 0.0428 - acc: 0.983 - ETA: 7:39 - loss: 0.0428 - acc: 0.983 - ETA: 7:38 - loss: 0.0428 - acc: 0.983 - ETA: 7:38 - loss: 0.0428 - acc: 0.983 - ETA: 7:37 - loss: 0.0429 - acc: 0.983 - ETA: 7:36 - loss: 0.0429 - acc: 0.983 - ETA: 7:35 - loss: 0.0428 - acc: 0.983 - ETA: 7:34 - loss: 0.0428 - acc: 0.983 - ETA: 7:33 - loss: 0.0428 - acc: 0.983 - ETA: 7:32 - loss: 0.0428 - acc: 0.983 - ETA: 7:31 - loss: 0.0428 - acc: 0.983 - ETA: 7:30 - loss: 0.0428 - acc: 0.983 - ETA: 7:29 - loss: 0.0428 - acc: 0.983 - ETA: 7:29 - loss: 0.0428 - acc: 0.983 - ETA: 7:28 - loss: 0.0428 - acc: 0.983 - ETA: 7:27 - loss: 0.0428 - acc: 0.983 - ETA: 7:26 - loss: 0.0428 - acc: 0.983 - ETA: 7:25 - loss: 0.0428 - acc: 0.983 - ETA: 7:25 - loss: 0.0428 - acc: 0.983 - ETA: 7:24 - loss: 0.0428 - acc: 0.983 - ETA: 7:23 - loss: 0.0427 - acc: 0.983 - ETA: 7:22 - loss: 0.0427 - acc: 0.983 - ETA: 7:21 - loss: 0.0427 - acc: 0.983 - ETA: 7:20 - loss: 0.0428 - acc: 0.983 - ETA: 7:19 - loss: 0.0428 - acc: 0.983 - ETA: 7:18 - loss: 0.0428 - acc: 0.9834"
     ]
    },
    {
     "name": "stdout",
     "output_type": "stream",
     "text": [
      "104448/143613 [====================>.........] - ETA: 7:17 - loss: 0.0428 - acc: 0.983 - ETA: 7:16 - loss: 0.0428 - acc: 0.983 - ETA: 7:15 - loss: 0.0428 - acc: 0.983 - ETA: 7:15 - loss: 0.0428 - acc: 0.983 - ETA: 7:14 - loss: 0.0428 - acc: 0.983 - ETA: 7:13 - loss: 0.0428 - acc: 0.983 - ETA: 7:12 - loss: 0.0428 - acc: 0.983 - ETA: 7:11 - loss: 0.0428 - acc: 0.983 - ETA: 7:10 - loss: 0.0428 - acc: 0.983 - ETA: 7:09 - loss: 0.0428 - acc: 0.983 - ETA: 7:08 - loss: 0.0428 - acc: 0.983 - ETA: 7:07 - loss: 0.0428 - acc: 0.983 - ETA: 7:06 - loss: 0.0428 - acc: 0.983 - ETA: 7:05 - loss: 0.0428 - acc: 0.983 - ETA: 7:05 - loss: 0.0428 - acc: 0.983 - ETA: 7:04 - loss: 0.0428 - acc: 0.983 - ETA: 7:03 - loss: 0.0428 - acc: 0.983 - ETA: 7:02 - loss: 0.0428 - acc: 0.983 - ETA: 7:01 - loss: 0.0428 - acc: 0.983 - ETA: 7:00 - loss: 0.0428 - acc: 0.983 - ETA: 6:59 - loss: 0.0428 - acc: 0.983 - ETA: 6:58 - loss: 0.0428 - acc: 0.983 - ETA: 6:57 - loss: 0.0428 - acc: 0.983 - ETA: 6:56 - loss: 0.0428 - acc: 0.983 - ETA: 6:55 - loss: 0.0428 - acc: 0.983 - ETA: 6:55 - loss: 0.0428 - acc: 0.983 - ETA: 6:54 - loss: 0.0428 - acc: 0.983 - ETA: 6:53 - loss: 0.0429 - acc: 0.983 - ETA: 6:52 - loss: 0.0429 - acc: 0.983 - ETA: 6:51 - loss: 0.0429 - acc: 0.983 - ETA: 6:50 - loss: 0.0429 - acc: 0.983 - ETA: 6:50 - loss: 0.0429 - acc: 0.983 - ETA: 6:49 - loss: 0.0430 - acc: 0.983 - ETA: 6:48 - loss: 0.0429 - acc: 0.983 - ETA: 6:47 - loss: 0.0429 - acc: 0.983 - ETA: 6:46 - loss: 0.0429 - acc: 0.983 - ETA: 6:45 - loss: 0.0429 - acc: 0.983 - ETA: 6:44 - loss: 0.0429 - acc: 0.983 - ETA: 6:44 - loss: 0.0429 - acc: 0.983 - ETA: 6:43 - loss: 0.0429 - acc: 0.983 - ETA: 6:42 - loss: 0.0429 - acc: 0.983 - ETA: 6:41 - loss: 0.0429 - acc: 0.983 - ETA: 6:40 - loss: 0.0429 - acc: 0.983 - ETA: 6:39 - loss: 0.0429 - acc: 0.983 - ETA: 6:38 - loss: 0.0429 - acc: 0.983 - ETA: 6:38 - loss: 0.0429 - acc: 0.983 - ETA: 6:37 - loss: 0.0429 - acc: 0.983 - ETA: 6:36 - loss: 0.0429 - acc: 0.983 - ETA: 6:35 - loss: 0.0429 - acc: 0.983 - ETA: 6:34 - loss: 0.0429 - acc: 0.983 - ETA: 6:33 - loss: 0.0429 - acc: 0.983 - ETA: 6:32 - loss: 0.0428 - acc: 0.983 - ETA: 6:31 - loss: 0.0428 - acc: 0.983 - ETA: 6:31 - loss: 0.0428 - acc: 0.983 - ETA: 6:30 - loss: 0.0428 - acc: 0.983 - ETA: 6:29 - loss: 0.0428 - acc: 0.983 - ETA: 6:28 - loss: 0.0428 - acc: 0.983 - ETA: 6:27 - loss: 0.0428 - acc: 0.983 - ETA: 6:26 - loss: 0.0429 - acc: 0.983 - ETA: 6:25 - loss: 0.0429 - acc: 0.983 - ETA: 6:24 - loss: 0.0428 - acc: 0.983 - ETA: 6:23 - loss: 0.0428 - acc: 0.983 - ETA: 6:22 - loss: 0.0428 - acc: 0.983 - ETA: 6:22 - loss: 0.0428 - acc: 0.983 - ETA: 6:21 - loss: 0.0428 - acc: 0.983 - ETA: 6:20 - loss: 0.0428 - acc: 0.983 - ETA: 6:19 - loss: 0.0428 - acc: 0.983 - ETA: 6:18 - loss: 0.0428 - acc: 0.983 - ETA: 6:17 - loss: 0.0428 - acc: 0.983 - ETA: 6:16 - loss: 0.0428 - acc: 0.983 - ETA: 6:15 - loss: 0.0428 - acc: 0.983 - ETA: 6:15 - loss: 0.0428 - acc: 0.983 - ETA: 6:14 - loss: 0.0428 - acc: 0.983 - ETA: 6:13 - loss: 0.0429 - acc: 0.983 - ETA: 6:12 - loss: 0.0428 - acc: 0.983 - ETA: 6:11 - loss: 0.0429 - acc: 0.983 - ETA: 6:10 - loss: 0.0429 - acc: 0.983 - ETA: 6:09 - loss: 0.0429 - acc: 0.983 - ETA: 6:08 - loss: 0.0428 - acc: 0.983 - ETA: 6:08 - loss: 0.0429 - acc: 0.983 - ETA: 6:07 - loss: 0.0428 - acc: 0.983 - ETA: 6:06 - loss: 0.0429 - acc: 0.983 - ETA: 6:05 - loss: 0.0429 - acc: 0.983 - ETA: 6:04 - loss: 0.0429 - acc: 0.983 - ETA: 6:03 - loss: 0.0429 - acc: 0.983 - ETA: 6:02 - loss: 0.0429 - acc: 0.983 - ETA: 6:01 - loss: 0.0428 - acc: 0.983 - ETA: 6:00 - loss: 0.0428 - acc: 0.983 - ETA: 5:59 - loss: 0.0428 - acc: 0.983 - ETA: 5:58 - loss: 0.0428 - acc: 0.983 - ETA: 5:58 - loss: 0.0429 - acc: 0.983 - ETA: 5:57 - loss: 0.0428 - acc: 0.983 - ETA: 5:56 - loss: 0.0428 - acc: 0.983 - ETA: 5:55 - loss: 0.0428 - acc: 0.983 - ETA: 5:54 - loss: 0.0428 - acc: 0.983 - ETA: 5:53 - loss: 0.0428 - acc: 0.983 - ETA: 5:52 - loss: 0.0428 - acc: 0.983 - ETA: 5:51 - loss: 0.0428 - acc: 0.983 - ETA: 5:51 - loss: 0.0428 - acc: 0.983 - ETA: 5:50 - loss: 0.0428 - acc: 0.983 - ETA: 5:49 - loss: 0.0428 - acc: 0.983 - ETA: 5:48 - loss: 0.0428 - acc: 0.983 - ETA: 5:47 - loss: 0.0428 - acc: 0.983 - ETA: 5:46 - loss: 0.0428 - acc: 0.983 - ETA: 5:45 - loss: 0.0428 - acc: 0.983 - ETA: 5:44 - loss: 0.0428 - acc: 0.983 - ETA: 5:44 - loss: 0.0428 - acc: 0.983 - ETA: 5:43 - loss: 0.0428 - acc: 0.983 - ETA: 5:42 - loss: 0.0428 - acc: 0.983 - ETA: 5:41 - loss: 0.0428 - acc: 0.983 - ETA: 5:40 - loss: 0.0428 - acc: 0.983 - ETA: 5:39 - loss: 0.0427 - acc: 0.983 - ETA: 5:38 - loss: 0.0427 - acc: 0.983 - ETA: 5:37 - loss: 0.0427 - acc: 0.983 - ETA: 5:37 - loss: 0.0427 - acc: 0.983 - ETA: 5:36 - loss: 0.0427 - acc: 0.983 - ETA: 5:35 - loss: 0.0427 - acc: 0.983 - ETA: 5:34 - loss: 0.0428 - acc: 0.983 - ETA: 5:33 - loss: 0.0428 - acc: 0.983 - ETA: 5:32 - loss: 0.0428 - acc: 0.983 - ETA: 5:31 - loss: 0.0428 - acc: 0.983 - ETA: 5:31 - loss: 0.0428 - acc: 0.983 - ETA: 5:30 - loss: 0.0427 - acc: 0.983 - ETA: 5:29 - loss: 0.0427 - acc: 0.983 - ETA: 5:28 - loss: 0.0427 - acc: 0.983 - ETA: 5:27 - loss: 0.0427 - acc: 0.983 - ETA: 5:26 - loss: 0.0427 - acc: 0.983 - ETA: 5:25 - loss: 0.0427 - acc: 0.983 - ETA: 5:25 - loss: 0.0427 - acc: 0.983 - ETA: 5:24 - loss: 0.0427 - acc: 0.983 - ETA: 5:23 - loss: 0.0428 - acc: 0.983 - ETA: 5:22 - loss: 0.0428 - acc: 0.983 - ETA: 5:21 - loss: 0.0428 - acc: 0.983 - ETA: 5:20 - loss: 0.0428 - acc: 0.983 - ETA: 5:19 - loss: 0.0428 - acc: 0.983 - ETA: 5:19 - loss: 0.0428 - acc: 0.983 - ETA: 5:18 - loss: 0.0428 - acc: 0.983 - ETA: 5:17 - loss: 0.0428 - acc: 0.983 - ETA: 5:16 - loss: 0.0428 - acc: 0.983 - ETA: 5:15 - loss: 0.0429 - acc: 0.983 - ETA: 5:14 - loss: 0.0428 - acc: 0.983 - ETA: 5:13 - loss: 0.0428 - acc: 0.983 - ETA: 5:12 - loss: 0.0429 - acc: 0.983 - ETA: 5:11 - loss: 0.0428 - acc: 0.983 - ETA: 5:11 - loss: 0.0428 - acc: 0.983 - ETA: 5:10 - loss: 0.0428 - acc: 0.983 - ETA: 5:09 - loss: 0.0428 - acc: 0.983 - ETA: 5:08 - loss: 0.0428 - acc: 0.983 - ETA: 5:07 - loss: 0.0428 - acc: 0.983 - ETA: 5:06 - loss: 0.0428 - acc: 0.983 - ETA: 5:05 - loss: 0.0428 - acc: 0.983 - ETA: 5:04 - loss: 0.0428 - acc: 0.983 - ETA: 5:03 - loss: 0.0429 - acc: 0.983 - ETA: 5:02 - loss: 0.0428 - acc: 0.983 - ETA: 5:02 - loss: 0.0429 - acc: 0.983 - ETA: 5:01 - loss: 0.0429 - acc: 0.983 - ETA: 5:00 - loss: 0.0429 - acc: 0.983 - ETA: 4:59 - loss: 0.0429 - acc: 0.983 - ETA: 4:58 - loss: 0.0428 - acc: 0.983 - ETA: 4:57 - loss: 0.0428 - acc: 0.983 - ETA: 4:56 - loss: 0.0428 - acc: 0.983 - ETA: 4:55 - loss: 0.0428 - acc: 0.983 - ETA: 4:54 - loss: 0.0429 - acc: 0.983 - ETA: 4:53 - loss: 0.0429 - acc: 0.983 - ETA: 4:52 - loss: 0.0428 - acc: 0.983 - ETA: 4:52 - loss: 0.0428 - acc: 0.983 - ETA: 4:51 - loss: 0.0428 - acc: 0.983 - ETA: 4:50 - loss: 0.0428 - acc: 0.983 - ETA: 4:49 - loss: 0.0428 - acc: 0.983 - ETA: 4:48 - loss: 0.0428 - acc: 0.983 - ETA: 4:47 - loss: 0.0428 - acc: 0.983 - ETA: 4:46 - loss: 0.0428 - acc: 0.983 - ETA: 4:46 - loss: 0.0428 - acc: 0.983 - ETA: 4:45 - loss: 0.0428 - acc: 0.983 - ETA: 4:44 - loss: 0.0428 - acc: 0.983 - ETA: 4:43 - loss: 0.0428 - acc: 0.983 - ETA: 4:42 - loss: 0.0428 - acc: 0.983 - ETA: 4:41 - loss: 0.0428 - acc: 0.983 - ETA: 4:40 - loss: 0.0427 - acc: 0.983 - ETA: 4:39 - loss: 0.0428 - acc: 0.983 - ETA: 4:38 - loss: 0.0428 - acc: 0.983 - ETA: 4:38 - loss: 0.0428 - acc: 0.983 - ETA: 4:37 - loss: 0.0428 - acc: 0.983 - ETA: 4:36 - loss: 0.0427 - acc: 0.983 - ETA: 4:35 - loss: 0.0427 - acc: 0.983 - ETA: 4:34 - loss: 0.0427 - acc: 0.983 - ETA: 4:33 - loss: 0.0427 - acc: 0.983 - ETA: 4:32 - loss: 0.0427 - acc: 0.983 - ETA: 4:31 - loss: 0.0427 - acc: 0.983 - ETA: 4:31 - loss: 0.0427 - acc: 0.983 - ETA: 4:30 - loss: 0.0427 - acc: 0.983 - ETA: 4:29 - loss: 0.0427 - acc: 0.983 - ETA: 4:28 - loss: 0.0427 - acc: 0.983 - ETA: 4:27 - loss: 0.0427 - acc: 0.983 - ETA: 4:26 - loss: 0.0427 - acc: 0.983 - ETA: 4:25 - loss: 0.0427 - acc: 0.983 - ETA: 4:24 - loss: 0.0427 - acc: 0.983 - ETA: 4:23 - loss: 0.0427 - acc: 0.983 - ETA: 4:22 - loss: 0.0427 - acc: 0.983 - ETA: 4:22 - loss: 0.0427 - acc: 0.983 - ETA: 4:21 - loss: 0.0427 - acc: 0.983 - ETA: 4:20 - loss: 0.0427 - acc: 0.983 - ETA: 4:19 - loss: 0.0427 - acc: 0.983 - ETA: 4:18 - loss: 0.0427 - acc: 0.9835"
     ]
    },
    {
     "name": "stdout",
     "output_type": "stream",
     "text": [
      "130560/143613 [==========================>...] - ETA: 4:17 - loss: 0.0427 - acc: 0.983 - ETA: 4:16 - loss: 0.0427 - acc: 0.983 - ETA: 4:15 - loss: 0.0427 - acc: 0.983 - ETA: 4:15 - loss: 0.0428 - acc: 0.983 - ETA: 4:14 - loss: 0.0428 - acc: 0.983 - ETA: 4:13 - loss: 0.0427 - acc: 0.983 - ETA: 4:12 - loss: 0.0428 - acc: 0.983 - ETA: 4:11 - loss: 0.0427 - acc: 0.983 - ETA: 4:10 - loss: 0.0427 - acc: 0.983 - ETA: 4:09 - loss: 0.0428 - acc: 0.983 - ETA: 4:08 - loss: 0.0427 - acc: 0.983 - ETA: 4:07 - loss: 0.0427 - acc: 0.983 - ETA: 4:07 - loss: 0.0427 - acc: 0.983 - ETA: 4:06 - loss: 0.0427 - acc: 0.983 - ETA: 4:05 - loss: 0.0427 - acc: 0.983 - ETA: 4:04 - loss: 0.0427 - acc: 0.983 - ETA: 4:03 - loss: 0.0427 - acc: 0.983 - ETA: 4:02 - loss: 0.0427 - acc: 0.983 - ETA: 4:01 - loss: 0.0427 - acc: 0.983 - ETA: 4:01 - loss: 0.0427 - acc: 0.983 - ETA: 4:00 - loss: 0.0427 - acc: 0.983 - ETA: 3:59 - loss: 0.0427 - acc: 0.983 - ETA: 3:58 - loss: 0.0427 - acc: 0.983 - ETA: 3:57 - loss: 0.0427 - acc: 0.983 - ETA: 3:56 - loss: 0.0427 - acc: 0.983 - ETA: 3:55 - loss: 0.0427 - acc: 0.983 - ETA: 3:55 - loss: 0.0427 - acc: 0.983 - ETA: 3:54 - loss: 0.0427 - acc: 0.983 - ETA: 3:53 - loss: 0.0427 - acc: 0.983 - ETA: 3:52 - loss: 0.0427 - acc: 0.983 - ETA: 3:51 - loss: 0.0427 - acc: 0.983 - ETA: 3:50 - loss: 0.0428 - acc: 0.983 - ETA: 3:49 - loss: 0.0428 - acc: 0.983 - ETA: 3:49 - loss: 0.0428 - acc: 0.983 - ETA: 3:48 - loss: 0.0428 - acc: 0.983 - ETA: 3:47 - loss: 0.0428 - acc: 0.983 - ETA: 3:46 - loss: 0.0428 - acc: 0.983 - ETA: 3:45 - loss: 0.0428 - acc: 0.983 - ETA: 3:44 - loss: 0.0427 - acc: 0.983 - ETA: 3:44 - loss: 0.0427 - acc: 0.983 - ETA: 3:43 - loss: 0.0427 - acc: 0.983 - ETA: 3:42 - loss: 0.0428 - acc: 0.983 - ETA: 3:41 - loss: 0.0428 - acc: 0.983 - ETA: 3:40 - loss: 0.0427 - acc: 0.983 - ETA: 3:39 - loss: 0.0427 - acc: 0.983 - ETA: 3:38 - loss: 0.0427 - acc: 0.983 - ETA: 3:37 - loss: 0.0427 - acc: 0.983 - ETA: 3:37 - loss: 0.0427 - acc: 0.983 - ETA: 3:36 - loss: 0.0427 - acc: 0.983 - ETA: 3:35 - loss: 0.0428 - acc: 0.983 - ETA: 3:34 - loss: 0.0427 - acc: 0.983 - ETA: 3:33 - loss: 0.0428 - acc: 0.983 - ETA: 3:32 - loss: 0.0428 - acc: 0.983 - ETA: 3:31 - loss: 0.0428 - acc: 0.983 - ETA: 3:31 - loss: 0.0428 - acc: 0.983 - ETA: 3:30 - loss: 0.0427 - acc: 0.983 - ETA: 3:29 - loss: 0.0427 - acc: 0.983 - ETA: 3:28 - loss: 0.0428 - acc: 0.983 - ETA: 3:27 - loss: 0.0428 - acc: 0.983 - ETA: 3:26 - loss: 0.0428 - acc: 0.983 - ETA: 3:25 - loss: 0.0428 - acc: 0.983 - ETA: 3:25 - loss: 0.0428 - acc: 0.983 - ETA: 3:24 - loss: 0.0428 - acc: 0.983 - ETA: 3:23 - loss: 0.0428 - acc: 0.983 - ETA: 3:22 - loss: 0.0427 - acc: 0.983 - ETA: 3:21 - loss: 0.0427 - acc: 0.983 - ETA: 3:20 - loss: 0.0427 - acc: 0.983 - ETA: 3:19 - loss: 0.0427 - acc: 0.983 - ETA: 3:19 - loss: 0.0427 - acc: 0.983 - ETA: 3:18 - loss: 0.0427 - acc: 0.983 - ETA: 3:17 - loss: 0.0427 - acc: 0.983 - ETA: 3:16 - loss: 0.0427 - acc: 0.983 - ETA: 3:15 - loss: 0.0427 - acc: 0.983 - ETA: 3:14 - loss: 0.0427 - acc: 0.983 - ETA: 3:13 - loss: 0.0427 - acc: 0.983 - ETA: 3:12 - loss: 0.0427 - acc: 0.983 - ETA: 3:12 - loss: 0.0427 - acc: 0.983 - ETA: 3:11 - loss: 0.0427 - acc: 0.983 - ETA: 3:10 - loss: 0.0427 - acc: 0.983 - ETA: 3:09 - loss: 0.0427 - acc: 0.983 - ETA: 3:08 - loss: 0.0426 - acc: 0.983 - ETA: 3:07 - loss: 0.0427 - acc: 0.983 - ETA: 3:07 - loss: 0.0426 - acc: 0.983 - ETA: 3:06 - loss: 0.0426 - acc: 0.983 - ETA: 3:05 - loss: 0.0426 - acc: 0.983 - ETA: 3:04 - loss: 0.0426 - acc: 0.983 - ETA: 3:03 - loss: 0.0426 - acc: 0.983 - ETA: 3:02 - loss: 0.0426 - acc: 0.983 - ETA: 3:02 - loss: 0.0426 - acc: 0.983 - ETA: 3:01 - loss: 0.0426 - acc: 0.983 - ETA: 3:00 - loss: 0.0426 - acc: 0.983 - ETA: 2:59 - loss: 0.0426 - acc: 0.983 - ETA: 2:58 - loss: 0.0426 - acc: 0.983 - ETA: 2:57 - loss: 0.0427 - acc: 0.983 - ETA: 2:57 - loss: 0.0426 - acc: 0.983 - ETA: 2:56 - loss: 0.0426 - acc: 0.983 - ETA: 2:55 - loss: 0.0426 - acc: 0.983 - ETA: 2:54 - loss: 0.0427 - acc: 0.983 - ETA: 2:53 - loss: 0.0426 - acc: 0.983 - ETA: 2:52 - loss: 0.0426 - acc: 0.983 - ETA: 2:51 - loss: 0.0427 - acc: 0.983 - ETA: 2:51 - loss: 0.0426 - acc: 0.983 - ETA: 2:50 - loss: 0.0426 - acc: 0.983 - ETA: 2:49 - loss: 0.0426 - acc: 0.983 - ETA: 2:48 - loss: 0.0426 - acc: 0.983 - ETA: 2:47 - loss: 0.0426 - acc: 0.983 - ETA: 2:46 - loss: 0.0426 - acc: 0.983 - ETA: 2:46 - loss: 0.0426 - acc: 0.983 - ETA: 2:45 - loss: 0.0426 - acc: 0.983 - ETA: 2:44 - loss: 0.0426 - acc: 0.983 - ETA: 2:43 - loss: 0.0426 - acc: 0.983 - ETA: 2:42 - loss: 0.0426 - acc: 0.983 - ETA: 2:41 - loss: 0.0426 - acc: 0.983 - ETA: 2:40 - loss: 0.0426 - acc: 0.983 - ETA: 2:40 - loss: 0.0426 - acc: 0.983 - ETA: 2:39 - loss: 0.0426 - acc: 0.983 - ETA: 2:38 - loss: 0.0426 - acc: 0.983 - ETA: 2:37 - loss: 0.0426 - acc: 0.983 - ETA: 2:36 - loss: 0.0426 - acc: 0.983 - ETA: 2:35 - loss: 0.0426 - acc: 0.983 - ETA: 2:35 - loss: 0.0426 - acc: 0.983 - ETA: 2:34 - loss: 0.0426 - acc: 0.983 - ETA: 2:33 - loss: 0.0426 - acc: 0.983 - ETA: 2:32 - loss: 0.0426 - acc: 0.983 - ETA: 2:31 - loss: 0.0426 - acc: 0.983 - ETA: 2:30 - loss: 0.0426 - acc: 0.983 - ETA: 2:29 - loss: 0.0426 - acc: 0.983 - ETA: 2:29 - loss: 0.0425 - acc: 0.983 - ETA: 2:28 - loss: 0.0425 - acc: 0.983 - ETA: 2:27 - loss: 0.0425 - acc: 0.983 - ETA: 2:26 - loss: 0.0425 - acc: 0.983 - ETA: 2:25 - loss: 0.0425 - acc: 0.983 - ETA: 2:24 - loss: 0.0425 - acc: 0.983 - ETA: 2:23 - loss: 0.0425 - acc: 0.983 - ETA: 2:23 - loss: 0.0425 - acc: 0.983 - ETA: 2:22 - loss: 0.0425 - acc: 0.983 - ETA: 2:21 - loss: 0.0425 - acc: 0.983 - ETA: 2:20 - loss: 0.0425 - acc: 0.983 - ETA: 2:19 - loss: 0.0425 - acc: 0.983 - ETA: 2:18 - loss: 0.0425 - acc: 0.983 - ETA: 2:17 - loss: 0.0425 - acc: 0.983 - ETA: 2:17 - loss: 0.0425 - acc: 0.983 - ETA: 2:16 - loss: 0.0425 - acc: 0.983 - ETA: 2:15 - loss: 0.0425 - acc: 0.983 - ETA: 2:14 - loss: 0.0425 - acc: 0.983 - ETA: 2:13 - loss: 0.0425 - acc: 0.983 - ETA: 2:12 - loss: 0.0425 - acc: 0.983 - ETA: 2:12 - loss: 0.0424 - acc: 0.983 - ETA: 2:11 - loss: 0.0424 - acc: 0.983 - ETA: 2:10 - loss: 0.0425 - acc: 0.983 - ETA: 2:09 - loss: 0.0424 - acc: 0.983 - ETA: 2:08 - loss: 0.0424 - acc: 0.983 - ETA: 2:07 - loss: 0.0424 - acc: 0.983 - ETA: 2:07 - loss: 0.0424 - acc: 0.983 - ETA: 2:06 - loss: 0.0424 - acc: 0.983 - ETA: 2:05 - loss: 0.0424 - acc: 0.983 - ETA: 2:04 - loss: 0.0424 - acc: 0.983 - ETA: 2:03 - loss: 0.0424 - acc: 0.983 - ETA: 2:02 - loss: 0.0424 - acc: 0.983 - ETA: 2:01 - loss: 0.0424 - acc: 0.983 - ETA: 2:01 - loss: 0.0424 - acc: 0.983 - ETA: 2:00 - loss: 0.0424 - acc: 0.983 - ETA: 1:59 - loss: 0.0424 - acc: 0.983 - ETA: 1:58 - loss: 0.0424 - acc: 0.983 - ETA: 1:57 - loss: 0.0424 - acc: 0.983 - ETA: 1:56 - loss: 0.0424 - acc: 0.983 - ETA: 1:56 - loss: 0.0424 - acc: 0.983 - ETA: 1:55 - loss: 0.0424 - acc: 0.983 - ETA: 1:54 - loss: 0.0424 - acc: 0.983 - ETA: 1:53 - loss: 0.0424 - acc: 0.983 - ETA: 1:52 - loss: 0.0424 - acc: 0.983 - ETA: 1:51 - loss: 0.0424 - acc: 0.983 - ETA: 1:51 - loss: 0.0424 - acc: 0.983 - ETA: 1:50 - loss: 0.0424 - acc: 0.983 - ETA: 1:49 - loss: 0.0424 - acc: 0.983 - ETA: 1:48 - loss: 0.0424 - acc: 0.983 - ETA: 1:47 - loss: 0.0424 - acc: 0.983 - ETA: 1:46 - loss: 0.0424 - acc: 0.983 - ETA: 1:46 - loss: 0.0424 - acc: 0.983 - ETA: 1:45 - loss: 0.0424 - acc: 0.983 - ETA: 1:44 - loss: 0.0424 - acc: 0.983 - ETA: 1:43 - loss: 0.0424 - acc: 0.983 - ETA: 1:42 - loss: 0.0424 - acc: 0.983 - ETA: 1:41 - loss: 0.0424 - acc: 0.983 - ETA: 1:41 - loss: 0.0424 - acc: 0.983 - ETA: 1:40 - loss: 0.0424 - acc: 0.983 - ETA: 1:39 - loss: 0.0424 - acc: 0.983 - ETA: 1:38 - loss: 0.0424 - acc: 0.983 - ETA: 1:37 - loss: 0.0424 - acc: 0.983 - ETA: 1:36 - loss: 0.0424 - acc: 0.983 - ETA: 1:35 - loss: 0.0424 - acc: 0.983 - ETA: 1:35 - loss: 0.0424 - acc: 0.983 - ETA: 1:34 - loss: 0.0424 - acc: 0.983 - ETA: 1:33 - loss: 0.0424 - acc: 0.983 - ETA: 1:32 - loss: 0.0424 - acc: 0.983 - ETA: 1:31 - loss: 0.0424 - acc: 0.983 - ETA: 1:30 - loss: 0.0424 - acc: 0.983 - ETA: 1:30 - loss: 0.0424 - acc: 0.983 - ETA: 1:29 - loss: 0.0424 - acc: 0.983 - ETA: 1:28 - loss: 0.0424 - acc: 0.983 - ETA: 1:27 - loss: 0.0424 - acc: 0.983 - ETA: 1:26 - loss: 0.0423 - acc: 0.983 - ETA: 1:25 - loss: 0.0423 - acc: 0.983 - ETA: 1:25 - loss: 0.0423 - acc: 0.9836"
     ]
    },
    {
     "name": "stdout",
     "output_type": "stream",
     "text": [
      "143488/143613 [============================>.] - ETA: 1:24 - loss: 0.0423 - acc: 0.983 - ETA: 1:23 - loss: 0.0423 - acc: 0.983 - ETA: 1:22 - loss: 0.0424 - acc: 0.983 - ETA: 1:21 - loss: 0.0424 - acc: 0.983 - ETA: 1:20 - loss: 0.0424 - acc: 0.983 - ETA: 1:20 - loss: 0.0424 - acc: 0.983 - ETA: 1:19 - loss: 0.0424 - acc: 0.983 - ETA: 1:18 - loss: 0.0424 - acc: 0.983 - ETA: 1:17 - loss: 0.0424 - acc: 0.983 - ETA: 1:16 - loss: 0.0424 - acc: 0.983 - ETA: 1:15 - loss: 0.0424 - acc: 0.983 - ETA: 1:15 - loss: 0.0424 - acc: 0.983 - ETA: 1:14 - loss: 0.0424 - acc: 0.983 - ETA: 1:13 - loss: 0.0424 - acc: 0.983 - ETA: 1:12 - loss: 0.0424 - acc: 0.983 - ETA: 1:11 - loss: 0.0425 - acc: 0.983 - ETA: 1:10 - loss: 0.0425 - acc: 0.983 - ETA: 1:10 - loss: 0.0425 - acc: 0.983 - ETA: 1:09 - loss: 0.0425 - acc: 0.983 - ETA: 1:08 - loss: 0.0425 - acc: 0.983 - ETA: 1:07 - loss: 0.0425 - acc: 0.983 - ETA: 1:06 - loss: 0.0425 - acc: 0.983 - ETA: 1:05 - loss: 0.0425 - acc: 0.983 - ETA: 1:05 - loss: 0.0425 - acc: 0.983 - ETA: 1:04 - loss: 0.0425 - acc: 0.983 - ETA: 1:03 - loss: 0.0425 - acc: 0.983 - ETA: 1:02 - loss: 0.0425 - acc: 0.983 - ETA: 1:01 - loss: 0.0425 - acc: 0.983 - ETA: 1:00 - loss: 0.0425 - acc: 0.983 - ETA: 1:00 - loss: 0.0425 - acc: 0.983 - ETA: 59s - loss: 0.0425 - acc: 0.983 - ETA: 58s - loss: 0.0425 - acc: 0.98 - ETA: 57s - loss: 0.0425 - acc: 0.98 - ETA: 56s - loss: 0.0425 - acc: 0.98 - ETA: 55s - loss: 0.0425 - acc: 0.98 - ETA: 55s - loss: 0.0425 - acc: 0.98 - ETA: 54s - loss: 0.0425 - acc: 0.98 - ETA: 53s - loss: 0.0425 - acc: 0.98 - ETA: 52s - loss: 0.0425 - acc: 0.98 - ETA: 51s - loss: 0.0425 - acc: 0.98 - ETA: 50s - loss: 0.0425 - acc: 0.98 - ETA: 50s - loss: 0.0425 - acc: 0.98 - ETA: 49s - loss: 0.0425 - acc: 0.98 - ETA: 48s - loss: 0.0425 - acc: 0.98 - ETA: 47s - loss: 0.0425 - acc: 0.98 - ETA: 46s - loss: 0.0425 - acc: 0.98 - ETA: 45s - loss: 0.0425 - acc: 0.98 - ETA: 45s - loss: 0.0425 - acc: 0.98 - ETA: 44s - loss: 0.0425 - acc: 0.98 - ETA: 43s - loss: 0.0425 - acc: 0.98 - ETA: 42s - loss: 0.0425 - acc: 0.98 - ETA: 41s - loss: 0.0425 - acc: 0.98 - ETA: 40s - loss: 0.0425 - acc: 0.98 - ETA: 40s - loss: 0.0425 - acc: 0.98 - ETA: 39s - loss: 0.0425 - acc: 0.98 - ETA: 38s - loss: 0.0425 - acc: 0.98 - ETA: 37s - loss: 0.0425 - acc: 0.98 - ETA: 36s - loss: 0.0425 - acc: 0.98 - ETA: 35s - loss: 0.0424 - acc: 0.98 - ETA: 35s - loss: 0.0424 - acc: 0.98 - ETA: 34s - loss: 0.0424 - acc: 0.98 - ETA: 33s - loss: 0.0424 - acc: 0.98 - ETA: 32s - loss: 0.0424 - acc: 0.98 - ETA: 31s - loss: 0.0425 - acc: 0.98 - ETA: 30s - loss: 0.0425 - acc: 0.98 - ETA: 30s - loss: 0.0425 - acc: 0.98 - ETA: 29s - loss: 0.0425 - acc: 0.98 - ETA: 28s - loss: 0.0425 - acc: 0.98 - ETA: 27s - loss: 0.0425 - acc: 0.98 - ETA: 26s - loss: 0.0425 - acc: 0.98 - ETA: 25s - loss: 0.0424 - acc: 0.98 - ETA: 25s - loss: 0.0424 - acc: 0.98 - ETA: 24s - loss: 0.0425 - acc: 0.98 - ETA: 23s - loss: 0.0425 - acc: 0.98 - ETA: 22s - loss: 0.0425 - acc: 0.98 - ETA: 21s - loss: 0.0425 - acc: 0.98 - ETA: 20s - loss: 0.0425 - acc: 0.98 - ETA: 20s - loss: 0.0425 - acc: 0.98 - ETA: 19s - loss: 0.0425 - acc: 0.98 - ETA: 18s - loss: 0.0425 - acc: 0.98 - ETA: 17s - loss: 0.0426 - acc: 0.98 - ETA: 16s - loss: 0.0426 - acc: 0.98 - ETA: 15s - loss: 0.0426 - acc: 0.98 - ETA: 15s - loss: 0.0426 - acc: 0.98 - ETA: 14s - loss: 0.0426 - acc: 0.98 - ETA: 13s - loss: 0.0426 - acc: 0.98 - ETA: 12s - loss: 0.0426 - acc: 0.98 - ETA: 11s - loss: 0.0426 - acc: 0.98 - ETA: 10s - loss: 0.0426 - acc: 0.98 - ETA: 9s - loss: 0.0426 - acc: 0.9835 - ETA: 9s - loss: 0.0426 - acc: 0.983 - ETA: 8s - loss: 0.0426 - acc: 0.983 - ETA: 7s - loss: 0.0426 - acc: 0.983 - ETA: 6s - loss: 0.0426 - acc: 0.983 - ETA: 5s - loss: 0.0426 - acc: 0.983 - ETA: 4s - loss: 0.0426 - acc: 0.983 - ETA: 4s - loss: 0.0426 - acc: 0.983 - ETA: 3s - loss: 0.0426 - acc: 0.983 - ETA: 2s - loss: 0.0426 - acc: 0.983 - ETA: 1s - loss: 0.0426 - acc: 0.983 - ETA: 0s - loss: 0.0426 - acc: 0.9835\n",
      " ROC-AUC - epoch: 2 - score: 0.986615\n",
      "143613/143613 [==============================] - 1059s 7ms/step - loss: 0.0426 - acc: 0.9835 - val_loss: 0.0442 - val_acc: 0.9831\n"
     ]
    },
    {
     "data": {
      "text/plain": [
       "<keras.callbacks.History at 0x8f7820f0>"
      ]
     },
     "execution_count": 18,
     "metadata": {},
     "output_type": "execute_result"
    }
   ],
   "source": [
    "epochs = 2\n",
    "batch_size = 128\n",
    "for l in model.layers:\n",
    "    l.trainable = True\n",
    "model.fit(X_tra, y_tra, batch_size=batch_size, epochs=epochs, validation_data=(X_val, y_val),callbacks = callbacks_list,verbose=1)   \n"
   ]
  },
  {
   "cell_type": "code",
   "execution_count": 21,
   "metadata": {},
   "outputs": [
    {
     "name": "stdout",
     "output_type": "stream",
     "text": [
      "Predicting....\n",
      "Done\n"
     ]
    }
   ],
   "source": [
    "model.load_weights(file_model)\n",
    "print('Predicting....')\n",
    "y_pred = model.predict(X_test_pad,batch_size=1024)\n",
    "submission = pd.read_csv(file_submission_example)\n",
    "submission[labels] = y_pred\n",
    "submission.to_csv(file_submission, index=False)\n",
    "print('Done')"
   ]
  },
  {
   "cell_type": "markdown",
   "metadata": {},
   "source": [
    "### Error Analysis"
   ]
  },
  {
   "cell_type": "code",
   "execution_count": 22,
   "metadata": {},
   "outputs": [],
   "source": [
    "# this is the original data\n",
    "path_train_origin = join(path_tmp, 'data', 'train.csv')\n",
    "path_test_origin = join(path_tmp, 'data', 'test.csv')\n",
    "X_train_origin, X_test_origin, y_train, merge_origin = GetData(path_train_origin, path_test_origin)"
   ]
  },
  {
   "cell_type": "code",
   "execution_count": 23,
   "metadata": {},
   "outputs": [],
   "source": [
    "X = X_train_pad\n",
    "y = y_train\n",
    "\n",
    "y_pred = model.predict(X, batch_size=1024)\n",
    "target_class = 0 # toxic\n",
    "target_result = y_pred[:, target_class]\n",
    "target_gt = y[labels[target_class]]\n"
   ]
  },
  {
   "cell_type": "code",
   "execution_count": 24,
   "metadata": {},
   "outputs": [
    {
     "name": "stdout",
     "output_type": "stream",
     "text": [
      "0.83609277\n"
     ]
    }
   ],
   "source": [
    "def Cost(fpr, tpr):\n",
    "    a = 1-tpr\n",
    "    b = fpr\n",
    "    cost = a + 30*b\n",
    "    return cost\n",
    "\n",
    "# get the threshold that maximize the F1 score\n",
    "def GetBestThreshold(gt, pred):\n",
    "\n",
    "    fpr, tpr, thresholds = metrics.roc_curve(gt, pred)\n",
    "    cost = np.inf\n",
    "    threshold = None\n",
    "    for idx in range(len(thresholds)):\n",
    "        current_cost = Cost(fpr[idx], tpr[idx])\n",
    "        if current_cost < cost:\n",
    "            cost = current_cost\n",
    "            threshold = thresholds[idx]\n",
    "    return threshold, cost\n",
    "\n",
    "threshold, _ = GetBestThreshold(target_gt, target_result)\n",
    "print(threshold)"
   ]
  },
  {
   "cell_type": "code",
   "execution_count": 25,
   "metadata": {},
   "outputs": [
    {
     "name": "stdout",
     "output_type": "stream",
     "text": [
      "0.9849464767492032\n",
      "5957\n",
      "159571\n",
      "0.9626686553321092\n"
     ]
    }
   ],
   "source": [
    "print(metrics.roc_auc_score(target_gt, target_result))\n",
    "target_pred = target_result>threshold\n",
    "mask = target_gt!=target_pred\n",
    "error = np.sum(mask)\n",
    "total = len(mask)\n",
    "print(error)\n",
    "print(total)\n",
    "print((total-error)/total)"
   ]
  },
  {
   "cell_type": "code",
   "execution_count": 26,
   "metadata": {},
   "outputs": [],
   "source": [
    "#X_train, X_test, y_train, merge = GetData(file_train, file_test)\n",
    "misclassified_gt = target_gt[mask]\n",
    "misclassified_x =  X_train[mask]\n",
    "#X_train[:5]\n",
    "Error0 = misclassified_x[misclassified_gt==1] # misclassify toxic as healthy\n",
    "Error1 = misclassified_x[misclassified_gt==0] # misclassify healthy as toxic"
   ]
  },
  {
   "cell_type": "code",
   "execution_count": 27,
   "metadata": {},
   "outputs": [
    {
     "name": "stdout",
     "output_type": "stream",
     "text": [
      "a bisexual like a homosexual a heterosexual defined sexual activity much like a year old boy attracted a girl sexually never sex still straight a person actually sexually attracted aroused sex well opposite sex bisexual\n",
      "@@@@@@@@@@@@@@@@@@@@@@@@@@@@@@@@@@@@@@\n",
      "A Bisexual, like a homosexual or a heterosexual, is not defined by sexual activity. (Much like a 15 year old boy who is attracted to a girl sexually but has never had sex is still straight). A person who is actually sexually attracted/aroused by the same sex as well as the opposite sex is bisexual.\n",
      "######################################\n",
      "know sex foetus\n",
      "@@@@@@@@@@@@@@@@@@@@@@@@@@@@@@@@@@@@@@\n",
      "\"know the sex of the foetus\"\"\"\n",
      "######################################\n",
      "reply loser un defines vietnam part southeast asia far i know vietnam part asean used part french indochina laos shit countries anyway culture always influenced sea han chinese proper yangtze han chinese fringe indigenous tribes guangzhou guangxi admit vietnamese a bunch wannabe crap people east asian people i spoken thinks vietnam a integral part sea think backward dirty speak a horrible swearing language matter crap spout wikipedia change way people real world think\n",
      "@@@@@@@@@@@@@@@@@@@@@@@@@@@@@@@@@@@@@@\n",
      "REPLY ABOVE:\n",
      "That was me, loser. The UN defines Vietnam to be part of Southeast Asia. And far as I know Vietnam is part of ASEAN, and used to be part of French Indochina with Laos and all those shit countries Anyway your culture has always been more influenced by SEA than Han Chinese (as in proper Yangtze Han Chinese, not the fringe indigenous tribes in Guangzhou/Guangxi). \n",
      "\n",
      "Just admit that you vietnamese are all a bunch of wannabe crap people. ALL the east asian people I've spoken to thinks of Vietnam as a very integral part of SEA, and we all think you're backward, dirty and speak in a horrible swearing language. Doesn't matter what crap you spout on Wikipedia, won't change the way people in the real world think.\n",
      "######################################\n",
      "hate topic hate hate a person means like person hate turn love\n",
      "@@@@@@@@@@@@@@@@@@@@@@@@@@@@@@@@@@@@@@\n",
      "hate is my topic is hate\n",
      "if you hate a person means you like that person. Your hate can turn into your love\n",
      "######################################\n",
      "jeff garcia gay\n",
      "@@@@@@@@@@@@@@@@@@@@@@@@@@@@@@@@@@@@@@\n",
      "Is Jeff Garcia gay or not?\n",
      "######################################\n",
      "unblocked last time ok fuck i mean best possible way good luck good night\n",
      "@@@@@@@@@@@@@@@@@@@@@@@@@@@@@@@@@@@@@@\n",
      "Unblocked for the last time\n",
      "Ok, now don't fuck up. I mean that in the best possible way.  Good luck and good night.\n",
      "######################################\n",
      "say gay straight\n",
      "@@@@@@@@@@@@@@@@@@@@@@@@@@@@@@@@@@@@@@\n",
      "that is to say are you gay or straight?\n",
      "######################################\n",
      "know offend users a jerk i know correct get angry ip\n",
      "@@@@@@@@@@@@@@@@@@@@@@@@@@@@@@@@@@@@@@\n",
      "You know what? Don't offend other users , you are a jerk! I know you are correct, but you don't have to get so angry about it. 207.62.246.166\n",
      "######################################\n",
      "i revert vandalism since admins incompetent anyone worth a shit paid attention spi report s i made pe de chinelo dumbasses would need waste time current ani thread\n",
      "@@@@@@@@@@@@@@@@@@@@@@@@@@@@@@@@@@@@@@\n",
      "All I do is revert vandalism.  It's all there is to do, since the admins are so incompetent.  If anyone worth a shit paid attention to the SPI report(s) I've made about Pe de Chinelo, you dumbasses wouldn't need to waste time with your current ANI thread.\n",
      "######################################\n",
      "lecture someone else sarah talking talking a teacher talks a disobedient child get pedestal spout bizarre lines simply incapable decency adminship a licence talk others contempt fucking insulting i rather deal honest asshole i would really like see around a bunch ass kissing arrogant snakes i see spades project goes hell little bit every day i wonder long articles i written bastardised way talk\n",
      "@@@@@@@@@@@@@@@@@@@@@@@@@@@@@@@@@@@@@@\n",
      "\"\n",
      "Lecture someone else, Sarah. You are talking down. You're talking down a teacher talks to a disobedient child. Get off the pedestal and don't spout such bizarre lines as \"\"simply incapable of decency\"\". Adminship isn't a licence to talk to others with contempt. It's fucking insulting. \n",
      "\n",
      "I'd rather deal with an honest asshole (which I would really like to see around here) than a bunch of ass-kissing, arrogant snakes (which I see in spades). This project just goes to hell that little bit further every day; I wonder how long until the articles I've written are bastardised in the way all of these are?  talk \"\n",
      "######################################\n",
      "jd2718 sock fiend hes lying ass ani page i cannot comment im m1rth person im\n",
      "@@@@@@@@@@@@@@@@@@@@@@@@@@@@@@@@@@@@@@\n",
      "jd2718 the sock fiend \n",
      "\n",
      "now hes lying out his ass on the ani page but I can't comment. and no im not this m1rth person, im just me.\n",
      "######################################\n",
      "i learned suck people good fisherqueen grammer fairly obvious typos pick a mistake bitch\n",
      "@@@@@@@@@@@@@@@@@@@@@@@@@@@@@@@@@@@@@@\n",
      "I just learned how to suck up to people. You're very good at it, FisherQueen. As for the grammer, it should be fairly obvious that they're typos, now pick out a mistake here, bitch!\n",
      "######################################\n",
      "ram ur ass hard till ur eyes water\n",
      "@@@@@@@@@@@@@@@@@@@@@@@@@@@@@@@@@@@@@@\n",
      "Ram it up ur ass very hard till ur eyes water\n",
      "######################################\n",
      "i m talking lesbian vagina article talk page\n",
      "@@@@@@@@@@@@@@@@@@@@@@@@@@@@@@@@@@@@@@\n",
      "(I'm talking on the lesbian and vagina article, not the talk page)\n",
      "######################################\n",
      "decline unblock declined unblock request barrymcpeedmipants wev name probably another student school understood would make real smarter currently obnoxious cunt\n",
      "@@@@@@@@@@@@@@@@@@@@@@@@@@@@@@@@@@@@@@\n",
      "Decline unblock \n",
      "\n",
      "You declined my unblock request. Barrymcpeedmipants or wev his name is, is probably another student at my school, NOT me. If you understood this before it would make you real smarter than you currently are, you obnoxious cunt.\n",
      "######################################\n",
      "face truth cannot escape user arilang1234 edit foul slimy racist template loser i suggest stop pretending manchus ethnically chinese face undeniable truth stop making false accusations users following blocking user i surprised blocked editing wikipedia well given manchu ethnicity template created also a blatant violation wikipedia policy ip barnstar monkey s barnstar pushing forward fringe views wikipedia especially foul slimy racist view manchus ethnically chinese proven barbaric monkey s a banana congratulations acting like a monkey wow managed earn monkey s barnstar must highly barbaric ip stop making false accusations congratulations calling user ip h word well i news user ip ethnically chinese face truth stop name calling racist manchu otherwise i get meatpuppets stop tracks\n",
      "@@@@@@@@@@@@@@@@@@@@@@@@@@@@@@@@@@@@@@\n",
      "\"Just face the truth: you can't escape it!==\n",
      "User:Arilang1234 didn't edit your foul, slimy racist template, you loser. I suggest that YOU stop pretending that Manchus are ethnically Chinese. How about YOU face the undeniable truth?\n",
      "\n",
      "And how about YOU stop making false accusations about other users?   \n",
      "\n",
      "Following the blocking of the above user, I am very surprised that you haven't been blocked from editing Wikipedia as well given that your Manchu ethnicity template itself (as created by you) is also a blatant violation of Wikipedia policy. 96.9.180.213  \n",
      "\n",
      "Barnstar\n",
      "  The Monkey's Barnstar For pushing forward fringe views on Wikipedia, especially your foul, slimy, racist view that Manchus are ethnically Chinese. You have proven yourself to be more barbaric than this monkey. Here's a banana.\n",
      "\n",
      "Congratulations for acting like a monkey!\n",
      "Wow, so you have managed to earn The Monkey's Barnstar. You must be highly barbaric then. 209.162.35.64  \n",
      "\n",
      "Stop making false accusations\n",
      "Congratulations for calling User 77.182.67.105 the \"\"h word\"\". Well I have news for you: User 77.182.67.105 is not ethnically Chinese. So just face the truth and stop name-calling, you racist Manchu! Otherwise, I will get my meatpuppets to stop you in your tracks!   \n",
      "\n",
      "==\"\n"
     ]
    },
    {
     "name": "stdout",
     "output_type": "stream",
     "text": [
      "######################################\n",
      "death utter twat said died june 3rd\n",
      "@@@@@@@@@@@@@@@@@@@@@@@@@@@@@@@@@@@@@@\n",
      "Death?!?!\n",
      "\n",
      "What utter twat said that she died on June 3rd 2008?!?!?!\n",
      "######################################\n",
      "know come across a giant prick\n",
      "@@@@@@@@@@@@@@@@@@@@@@@@@@@@@@@@@@@@@@\n",
      "you \n",
      "\n",
      "Do you know you come across as a giant prick?\n",
      "######################################\n",
      "know threating craxy doning nothing please stop threating freedom a black man beat first thats called self defence accused vilonce a threat mad note simpley telling please repeat please stop threating homie im mad kyltym rude aggenst blacks hispanic note\n",
      "@@@@@@@@@@@@@@@@@@@@@@@@@@@@@@@@@@@@@@\n",
      "just so you know \n",
      "\n",
      "you are threating me and me and Craxy were doning nothing please stop threating and we have the freedom if a black man was to beat you up because you did first thats called self defence and should not be accused of vilonce this is not a threat or mad note this is simpley telling you to please repeat PLEASE stop threating me and my homie im only mad at Kyltym because of his rude aggenst Blacks and Hispanic note\n",
      "######################################\n",
      "a nice guy irishpunktom takes guts speak bullies\n",
      "@@@@@@@@@@@@@@@@@@@@@@@@@@@@@@@@@@@@@@\n",
      "You're a nice guy Irishpunktom.  It takes guts to speak against bullies.\n",
      "######################################\n"
     ]
    }
   ],
   "source": [
    "for x in range(20):\n",
    "    current = Error1.index[x]\n",
    "    print(Error1[current])\n",
    "    print('@@@@@@@@@@@@@@@@@@@@@@@@@@@@@@@@@@@@@@')\n",
    "    print(X_train_origin[current])\n",
    "    print('######################################')"
   ]
  },
  {
   "cell_type": "code",
   "execution_count": null,
   "metadata": {},
   "outputs": [],
   "source": [
    "\n"
   ]
  }
 ],
 "metadata": {
  "anaconda-cloud": {},
  "kernelspec": {
   "display_name": "Python [conda env:Anaconda3]",
   "language": "python",
   "name": "conda-env-Anaconda3-py"
  },
  "language_info": {
   "codemirror_mode": {
    "name": "ipython",
    "version": 3
   },
   "file_extension": ".py",
   "mimetype": "text/x-python",
   "name": "python",
   "nbconvert_exporter": "python",
   "pygments_lexer": "ipython3",
   "version": "3.5.4"
  }
 },
 "nbformat": 4,
 "nbformat_minor": 2
}
